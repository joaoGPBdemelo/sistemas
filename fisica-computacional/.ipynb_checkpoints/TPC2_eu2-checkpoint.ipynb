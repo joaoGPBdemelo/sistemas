{
 "cells": [
  {
   "cell_type": "markdown",
   "id": "0cdd96ac-8e37-45cc-943f-9738b3a18f39",
   "metadata": {
    "editable": true,
    "slideshow": {
     "slide_type": ""
    },
    "tags": [
     "header"
    ]
   },
   "source": [
    "# TPC2 - Molas acopladas\n",
    "\n",
    "*  Não deve escrever o seu nome nem nenhum código identificador em nenhum\n",
    "sítio. \n",
    "* Deve entregar ESTE Notebook de Jupyter.\n",
    "* O trabalho é individual. Podem e devem haver discussões com colegas\n",
    "mas o resultado entregue é individual. \n",
    "* Não deve acrescentar ou apagar nenhuma célula.\n",
    "* Todas as explicações devem ser claras e concisas. \n",
    "* É preferível fazer menos e fazer bem que muito e mal. \n",
    "* A não verificação de alguma destas regras leva ao anulamento e exclusão\n",
    "da prova."
   ]
  },
  {
   "cell_type": "code",
   "execution_count": 1,
   "id": "87434854-3069-4dc4-a42c-61fe3bab7fd0",
   "metadata": {
    "editable": true,
    "slideshow": {
     "slide_type": ""
    },
    "tags": [
     "header"
    ]
   },
   "outputs": [],
   "source": [
    "# Importe os Módulos Necessários\n",
    "#bibliotecas\n",
    "import numpy as np\n",
    "import matplotlib.pyplot as plt\n",
    "from scipy.linalg import eig"
   ]
  },
  {
   "attachments": {
    "2ce276bf-4a3f-4ac5-95fe-8656d301034e.png": {
     "image/png": "[encoded data removed]"
    }
   },
   "cell_type": "markdown",
   "id": "a170531f-6e36-4f80-83bf-735e1b572bce",
   "metadata": {
    "editable": false,
    "slideshow": {
     "slide_type": ""
    },
    "tags": [
     "pergunta"
    ]
   },
   "source": [
    "## Pergunta 1\n",
    "Molas acopladas - Considere um sistema de 2n+1 massas acopladas entre si e a duas paredes fixas com 2(n+1) molas conforme está representado na figura,\n",
    "\n",
    "<img src=\"attachment:2ce276bf-4a3f-4ac5-95fe-8656d301034e.png\" alt=\"alt_text\" align=\"center\" width=\"600\"  />\n",
    "\n",
    "O sistema tem $2n$ massas iguais de massa $m$ e uma massa central de massa $M$. As massas estão acopladas com molas iguais. A equação de Newton, determina que,\n",
    "\n",
    "$$ m_{i}\\frac{d^{2}X_{i}}{dt^{2}}=-k_{i}\\left(X_{i}-X_{i-1}\\right)+k_{i+1}\\left(X_{i+1}-X_{i}\\right)$$\n",
    "\n",
    "onde $X_{0}=0$ e $X_{2(n+1)}=L$ e os restantes valores indicam as posições de cada massa. Podemos usar como unidades de comprimento a distância entre as paredes ($L$), a massa $m$ como unidade de massa e como unidade de tempo escolhemos $\\tau=\\sqrt{m/k}$. Para evitar problemas de degenerescência poderá adicionar um pequeno número aleatório a cada mola $k_{i}=k(1+r_{i}$) onde $r_{i}$ é um número aleatório retirado com uma distribuição uniforme no intervalo $]-0.01,0.01[$. \n",
    "\n",
    "1. Reescreva a equação de movimento e as constantes do problema neste sistema de unidades. A partir de agora todas as equações e resultados devem ser adimensionais segundo este padrão. \n"
   ]
  },
  {
   "cell_type": "markdown",
   "id": "825d8fd8-c46f-452c-ad98-1ae73bd71fad",
   "metadata": {
    "editable": true,
    "slideshow": {
     "slide_type": ""
    },
    "tags": [
     "resposta"
    ]
   },
   "source": [
    "## Exercício 1.1\n",
    "\n",
    "\n",
    "Partindo da equação do movimento dada ,eq.[1], reescrevi ela como um equação homogénea e dividi tudo por m obtendo assim a eq:[2] \n",
    "\n",
    "$ m_{i} \\frac{d^2 X_i}{dt^2} = -k_{i} (X_i - X_{i-1}) + k_{i+1} (X_{i+1} - X_i) $ [1]\n",
    "\n",
    "$ \\frac{m_{i}}{m}\\frac{d^2 X_i}{dt^2} + \\frac{k_{i}}{m} (X_i - X_{i-1}) - \\frac{k_{i+1}}{m} (X_{i+1} - X_i) = 0 $ [2]\n",
    "\n",
    "fazendo as seguintes substituições :\n",
    "- $M_{i} = \\frac{m{i}}{m}$\n",
    "- $k_i = k(1 + r_{i})$\n",
    "- $\\tau = \\sqrt{\\frac{m}{k}}$\n",
    "- $\\tilde{x} = \\frac{x_{i}}{L}$\n",
    "- Sendo $k,m,L,\\tau$ constantes de adimencionalização, assim obtendo eq:[3]\n",
    "\n",
    "$ M_{i}\\frac{d^2 X_i}{L dt^2} + \\frac{1}{\\tau^2}(1 + r_{i}) \\frac{X_i - X_{i-1}}{L} - \\frac{1}{\\tau^2}(1 + r_{i+1}) \\frac{X_{i+1} - X_i}{L} = 0 $\n",
    "\n",
    "=\n",
    "\n",
    "$ M_{i} \\frac{d^2 \\tilde{x}_i}{dt^2} + \\frac{1}{\\tau^2} \\left[(1 + r_{i})(\\tilde{x}_i - \\tilde{x}_{i-1}) - (1 + r_{i+1})(\\tilde{x}_{i+1} - \\tilde{x}_i)\\right] = 0 $ [3]\n",
    "\n",
    "por fim fiz a substituição de $\\tilde{t} = \\frac{t}{\\tau}$, com isso chego na eq:[4]\n",
    "\n",
    "$ M_{i} \\frac{d^2 \\tilde{x}_i}{d\\tilde{t}^2} + \\left[(1 + r_{i})(\\tilde{x}_i - \\tilde{x}_{i-1}) - (1 + r_{i+1})(\\tilde{x}_{i+1} - \\tilde{x}_i)\\right] = 0 $ [4]\n",
    "=\n"
   ]
  },
  {
   "cell_type": "code",
   "execution_count": null,
   "id": "38c59a5d-bc9d-4436-8be5-6a831008e08c",
   "metadata": {
    "editable": true,
    "slideshow": {
     "slide_type": ""
    },
    "tags": [
     "code"
    ]
   },
   "outputs": [],
   "source": []
  },
  {
   "cell_type": "markdown",
   "id": "c9fdf07c-5f70-4d8b-8764-84a0f26f7cb7",
   "metadata": {
    "editable": false,
    "slideshow": {
     "slide_type": ""
    },
    "tags": [
     "pergunta"
    ]
   },
   "source": [
    "2. Considere que a massa central é forçada por aplicação de uma força $\\vec{F}=f\\boldsymbol{u}_{x}$. Para os valores de $M=5$ e $n=4$, represente no mesmo gráfico a posição de equilíbrio de cada uma das massas ($X_{i}^{eq}$) como função de f. Utilize a eliminação de Gauss Jordan."
   ]
  },
  {
   "cell_type": "markdown",
   "id": "c19a8818-ac60-418e-855f-7832916353e7",
   "metadata": {
    "editable": true,
    "slideshow": {
     "slide_type": ""
    },
    "tags": [
     "resposta"
    ]
   },
   "source": [
    "Responda Aqui"
   ]
  },
  {
   "cell_type": "code",
   "execution_count": 73,
   "id": "ad5407b8-7612-4e65-bd36-911657165872",
   "metadata": {
    "editable": true,
    "slideshow": {
     "slide_type": ""
    },
    "tags": [
     "code"
    ]
   },
   "outputs": [
    {
     "data": {
      "image/png": "[encoded data removed]",
      "text/plain": [
       "<Figure size 432x288 with 1 Axes>"
      ]
     },
     "metadata": {
      "needs_background": "light"
     },
     "output_type": "display_data"
    }
   ],
   "source": [
    "def gauss_jordan(matriz, vetor_resultado):\n",
    "    n = len(matriz)\n",
    "    matriz_aumentada = np.hstack([matriz, vetor_resultado.reshape(-1, 1)])\n",
    "\n",
    "    for i in range(n):\n",
    "        # Pivoteamento parcial\n",
    "        max_index = np.argmax(np.abs(matriz_aumentada[i:, i])) + i\n",
    "        matriz_aumentada[[i, max_index]] = matriz_aumentada[[max_index, i]]\n",
    "\n",
    "        # Fazendo o pivô ser 1\n",
    "        matriz_aumentada[i] /= matriz_aumentada[i, i]\n",
    "\n",
    "        # Zerando as entradas abaixo e acima do pivô\n",
    "        for j in range(n):\n",
    "            if i != j:\n",
    "                matriz_aumentada[j] -= matriz_aumentada[j, i] * matriz_aumentada[i]\n",
    "\n",
    "    return matriz_aumentada[:, -1]\n",
    "\n",
    "def A_ (M,n):\n",
    "    N = 2*n + 1\n",
    "    r = np.array(np.random.uniform(-0.01,0.01,N + 1))\n",
    "    A = np.zeros([3,N] ,float)\n",
    "    A[0, : ] = (1 + r[1:])\n",
    "    A[1, :] = (-2 - r[ : -1] - r[ 1:])\n",
    "    A[2, :] = (1 + r[:-1])\n",
    "    A[2,0] = 0\n",
    "    A[0 ,N-1] = 0\n",
    "    A[1 , n] /= M\n",
    "    A[0 , n] /= M\n",
    "    A[2 , n] /= M\n",
    "    \n",
    "    A_t =  np.zeros([N,N] ,float)\n",
    "    i = 0\n",
    "    for i in range (N):\n",
    "        \n",
    "        A_t[ i , i  ] =  A[1,i]\n",
    "                \n",
    "        if i < N - 1:\n",
    "                    \n",
    "            A_t[ i , i + 1 ] = A[0,i]\n",
    "                \n",
    "        if i != 0:\n",
    "                    \n",
    "            A_t[ i , i - 1 ] = A[2,i]\n",
    "                \n",
    "                \n",
    "        \n",
    "    return A_t\n",
    "\n",
    "\n",
    "N = 9\n",
    "r = np.array(np.random.uniform(-0.01,0.01,N+1))\n",
    "v = np.zeros(N,float)\n",
    "N_f = 100\n",
    "f = np.linspace(-0.2 , 0.2, N_f)\n",
    "\n",
    "M = 5\n",
    "A = A_(M, 4)\n",
    "\n",
    "\n",
    "x_equi = np.zeros([N,N_f],float)\n",
    "\n",
    "v[N - 1 ] = r[N]- 1\n",
    "for i,f_valor in enumerate(f): \n",
    "    v[4] =  - f_valor/M\n",
    "    x_equi[ : , i ] = gauss_jordan(A, v)\n",
    "\n",
    "for p in range (N):\n",
    "    plt.plot( f,x_equi[p,:] ,label = f\"x {p} \" )\n",
    "\n",
    "plt.legend()\n",
    "plt.xlabel(r'$f_{i}$')\n",
    "plt.ylabel(r'$x_{equilibrio}$')\n",
    "plt.grid(True)\n",
    "\n",
    "# legendar gráficos e comentar"
   ]
  },
  {
   "cell_type": "markdown",
   "id": "4ca8be79-2e6b-4342-b2ab-ee39cf897a90",
   "metadata": {
    "editable": false,
    "slideshow": {
     "slide_type": ""
    },
    "tags": [
     "pergunta"
    ]
   },
   "source": [
    "3. Considere novamente o sistema livre e a mudança de variáveis $X_{i}=X_{i}^{eq}+x_{i}$. Nestas novas variáveis, a equação de movimento pode ser descrita por\n",
    "\\begin{align}\n",
    "$\\frac{d^{2}x_{i}}{dt^{2}}\t&=A_{ij}x_{j}\t& 1\\le\tj\\le2n+1.\\\\\n",
    "\\end{align}\n",
    "Crie uma função que calcule a matriz $A$ com parâmetros de entrada $n$ e $M$. Verifique que para $M=1$ esta matriz é simétrica. "
   ]
  },
  {
   "cell_type": "markdown",
   "id": "adffed3c-02eb-46b8-9ae0-0b7966580b1a",
   "metadata": {
    "editable": true,
    "slideshow": {
     "slide_type": ""
    },
    "tags": [
     "resposta"
    ]
   },
   "source": [
    "Responda Aqui"
   ]
  },
  {
   "cell_type": "code",
   "execution_count": 74,
   "id": "657b8524-6d8d-4540-a8d2-15567e4289db",
   "metadata": {
    "editable": true,
    "slideshow": {
     "slide_type": ""
    },
    "tags": [
     "code"
    ]
   },
   "outputs": [],
   "source": [
    "def Aij (M,n):\n",
    "    N = 2*n + 1\n",
    "    r = np.array(np.random.uniform(-0.01,0.01,N + 1))\n",
    "    A = np.zeros([3,N] ,float)\n",
    "    A[0, : ] = (1 + r[1:])\n",
    "    A[1, :] = (-2 - r[ : -1] - r[ 1:])\n",
    "    A[2, :] = (1 + r[:-1])\n",
    "    A[2,0] = 0\n",
    "\n",
    "    A[1 , n] /= M\n",
    "    A[0 , n] /= M\n",
    "    A[2 , n] /= M\n",
    "    \n",
    "    A_t =  np.zeros([N,N] ,float)\n",
    "    i = 0\n",
    "    for i in range (N):\n",
    "        \n",
    "        A_t[ i , i  ] =  A[1,i]\n",
    "                \n",
    "        if i < N - 1:\n",
    "                    \n",
    "            A_t[ i , i + 1 ] = A[0,i]\n",
    "                \n",
    "        if i != 0:\n",
    "                    \n",
    "            A_t[ i , i - 1 ] = A[2,i]\n",
    "                \n",
    "                \n",
    "        \n",
    "    return A_t"
   ]
  },
  {
   "cell_type": "markdown",
   "id": "0d1735e4-18ce-41af-a382-3b18788ce690",
   "metadata": {
    "editable": false,
    "slideshow": {
     "slide_type": ""
    },
    "tags": [
     "pergunta"
    ]
   },
   "source": [
    "5. Tente obter os valores próprios desta matriz como função de M usando o método da decomposição QR. Comente os resultados."
   ]
  },
  {
   "cell_type": "markdown",
   "id": "cb229c3e-e96b-4700-9e17-761941c91099",
   "metadata": {
    "editable": true,
    "slideshow": {
     "slide_type": ""
    },
    "tags": [
     "resposta"
    ]
   },
   "source": [
    "Responda Aqui"
   ]
  },
  {
   "cell_type": "code",
   "execution_count": 75,
   "id": "4c189040-ba54-4257-8664-7a5680f716c7",
   "metadata": {
    "editable": true,
    "slideshow": {
     "slide_type": ""
    },
    "tags": [
     "code"
    ]
   },
   "outputs": [
    {
     "data": {
      "image/png": "[encoded data removed]",
      "text/plain": [
       "<Figure size 432x288 with 1 Axes>"
      ]
     },
     "metadata": {
      "needs_background": "light"
     },
     "output_type": "display_data"
    }
   ],
   "source": [
    "def Aij (M,n):\n",
    "    N = 2*n + 1\n",
    "    r = np.array(np.random.uniform(-0.01,0.01,N + 1))\n",
    "    A = np.zeros([3,N] ,float)\n",
    "    A[0, : ] = (1 + r[1:])\n",
    "    A[1, :] = (-2 - r[ : -1] - r[ 1:])\n",
    "    A[2, :] = (1 + r[:-1])\n",
    "    A[2,0] = 0\n",
    "\n",
    "    A[1 , n] /= M\n",
    "    A[0 , n] /= M\n",
    "    A[2 , n] /= M\n",
    "    \n",
    "    A_t =  np.zeros([N,N] ,float)\n",
    "    i = 0\n",
    "    for i in range (N):\n",
    "        \n",
    "        A_t[ i , i  ] =  A[1,i]\n",
    "                \n",
    "        if i < N - 1:\n",
    "                    \n",
    "            A_t[ i , i + 1 ] = A[0,i]\n",
    "                \n",
    "        if i != 0:\n",
    "                    \n",
    "            A_t[ i , i - 1 ] = A[2,i]\n",
    "                \n",
    "                \n",
    "        \n",
    "    return A_t\n",
    "\n",
    "\n",
    "def QR (A):\n",
    "    A = A.copy()\n",
    "    def achar_u (a,q,ordem):\n",
    "        N = len(a)\n",
    "        u = np.zeros(N,float)\n",
    "        som = np.zeros(N,float)\n",
    "        multi = 0\n",
    "        for i in range ( ordem + 1):\n",
    "            multi = np.dot(q[:,i],a)\n",
    "            som += multi * q[:,i]\n",
    "        u = a - som\n",
    "        return u\n",
    "\n",
    "    \n",
    "        \n",
    "    # Criando as matrizes\n",
    "    N = len(A)\n",
    "    R = np.zeros([N,N],float)\n",
    "    q = np.zeros([N,N],float)\n",
    "    a_conta = np.zeros([N,N],float)\n",
    "    a = A.T\n",
    "    # Fazendo o primeiro caso\n",
    "    u = A[:,0]\n",
    "\n",
    "    for i in range(N):\n",
    "\n",
    "        \n",
    "        norm_u = np.linalg.norm(u)\n",
    "        \n",
    "        q[:,i] = u / norm_u\n",
    "\n",
    "        \n",
    "        for j in range (i + 1 , N):\n",
    "            R[ i , j ] = np.dot(a[j, :] , q[:,i])  \n",
    "        \n",
    "        R[i,i] = norm_u\n",
    "        if i < (N - 1):\n",
    "            u = achar_u( A[ : ,i + 1 ] , q , i)\n",
    "        q1 = u / norm_u\n",
    "        \n",
    "    return q,R\n",
    "\n",
    "\n",
    "\n",
    "\n",
    "\n",
    "\n",
    "def autovalores(A, QR, err=1e-3):\n",
    "    A = A.copy()\n",
    "    N = len(A[0])\n",
    "    V = np.eye(N)\n",
    "    Q, R = QR(A)\n",
    "    cont = 0\n",
    "\n",
    "    while True:\n",
    "        A = R @ Q\n",
    "        V = V @ Q\n",
    "        menor = np.abs(A) < err\n",
    "        np.fill_diagonal(menor, True)\n",
    "        if menor.all() or cont >= 1000:\n",
    "            break\n",
    "        Q, R = QR(A)\n",
    "        cont += 1\n",
    "\n",
    "    return np.diag(A)\n",
    "\n",
    "\n",
    "m = 10\n",
    "M = np.linspace(1,5,m)\n",
    "\n",
    "n = 15\n",
    "autov = np.zeros([(2*n) + 1,m],float)\n",
    "for i,M_valor in  enumerate(M):\n",
    "    a_t = Aij(M_valor,n)\n",
    "    autov[:,i] = autovalores(a_t,QR) \n",
    "k = 0\n",
    "\n",
    "for k in range(2*n+1):\n",
    "    plt.plot(M , autov[k,:],label = f\"autovalor{k} \")"
   ]
  },
  {
   "cell_type": "markdown",
   "id": "c3c6d86d-3446-4b4b-83ab-2ad20bed9640",
   "metadata": {
    "editable": false,
    "slideshow": {
     "slide_type": ""
    },
    "tags": [
     "pergunta"
    ]
   },
   "source": [
    "6. É possível obter o os valores próprios de uma matriz pela determinação dos zeros do polinómio característico,\n",
    "$$\\text{det}\\left(A-\\lambda I\\right)=0,$$\n",
    "onde $I$ é a matriz identidade. Uma das formas de calcular o determinante de uma matriz é através da sua decomposição LU. O determinante de qualquer matriz triangular (superior ou inferior) é o produto dos elementos da diagonal. Compare os seus resultados com o das rotinas dos módulos do *Python*. "
   ]
  },
  {
   "cell_type": "markdown",
   "id": "3caefdc0-f194-4631-b89e-a6b309687c19",
   "metadata": {
    "editable": true,
    "slideshow": {
     "slide_type": ""
    },
    "tags": [
     "resposta"
    ]
   },
   "source": [
    "Responda Aqui"
   ]
  },
  {
   "cell_type": "code",
   "execution_count": 76,
   "id": "ecb74489-4739-4750-a47e-7dce6186ac0e",
   "metadata": {
    "editable": true,
    "slideshow": {
     "slide_type": ""
    },
    "tags": [
     "code"
    ]
   },
   "outputs": [
    {
     "name": "stdout",
     "output_type": "stream",
     "text": [
      "-0.008643083590780308\n",
      "-0.008643083590785045\n",
      "-0.0026228589154856665\n",
      "-0.0026228589154857532\n",
      "1.6165198632027761e-06\n",
      "1.6165198644479404e-06\n",
      "-3.5559248837793035e-09\n",
      "-3.5559238279884727e-09\n",
      "1.779647051029499e-12\n",
      "1.7802935621794628e-12\n",
      "2.3645474572096866e-14\n",
      "2.3460285706654743e-14\n",
      "-6.457616245370632e-15\n",
      "-6.96762248665e-15\n",
      "-3.147512297364586e-14\n",
      "-3.1419318486318167e-14\n",
      "-1.8784095823076312e-14\n",
      "-1.8928169983714168e-14\n",
      "-5.011482158051677e-14\n",
      "-5.025353854975287e-14\n",
      "-3.5128864397490882e-15\n",
      "-3.519429842200353e-15\n",
      "-6.976410527959759e-15\n",
      "-7.0414639576837394e-15\n",
      "-8.00854284057402e-15\n",
      "-7.940980284405734e-15\n",
      "-2.369217591506847e-15\n",
      "-2.244950913614038e-15\n",
      "-1.3080656027473971e-14\n",
      "-1.2552830188619188e-14\n",
      "-1.438282900045138e-14\n",
      "-1.4272508518280903e-14\n",
      "-2.9658766408783617e-15\n",
      "-2.707054236980012e-15\n",
      "3.8300761042679434e-15\n",
      "1.448359975927791e-15\n",
      "-1.472553048422134e-14\n",
      "-1.3570591285427499e-14\n",
      "4.556134736391378e-15\n",
      "8.050294700936613e-15\n",
      "2.2013415828241845e-14\n",
      "3.245926744486595e-14\n",
      "[-3.98027363 -3.92667422 -3.82055855 -3.68348408 -3.51042557 -3.31111418\n",
      " -3.08516693 -2.83612476 -2.56846662 -2.28631078 -2.00128924 -1.71633854\n",
      " -1.43565855 -1.16852212 -0.91873831 -0.69088358 -0.48932029 -0.31780903\n",
      " -0.18089006 -0.08097919 -0.02038388]\n"
     ]
    }
   ],
   "source": [
    "def LU(A):\n",
    "    U = A\n",
    "    N = U[:,0]\n",
    "    N = len(N)\n",
    "    L = np.zeros([N,N],float)\n",
    "    for m in range(N):\n",
    "        for p in range(N):\n",
    "            if p >= m:    \n",
    "                L[p,m] = U[p,m]\n",
    "        # Divide by the diagonal element\n",
    "        div = U[m,m]\n",
    "        U[m,:] /= div\n",
    "\n",
    "        # Now subtract from the lower rows\n",
    "        for i in range(m+1,N):\n",
    "            mult = U[i,m]\n",
    "            U[i,:] -= mult*U[m,:]\n",
    "\n",
    "    \n",
    "    return L , U\n",
    "\n",
    "\n",
    "def Aij (M,n):\n",
    "    N = 2*n + 1\n",
    "    r = np.array(np.random.uniform(-0.01,0.01,N + 1))\n",
    "    A = np.zeros([3,N] ,float)\n",
    "    A[0, : ] = (1 + r[1:])\n",
    "    A[1, :] = (-2 - r[ : -1] - r[ 1:])\n",
    "    A[2, :] = (1 + r[:-1])\n",
    "    A[2,0] = 0\n",
    "\n",
    "    A[1 , n] /= M\n",
    "    A[0 , n] /= M\n",
    "    A[2 , n] /= M\n",
    "    \n",
    "    A_t =  np.zeros([N,N] ,float)\n",
    "    i = 0\n",
    "    for i in range (N):\n",
    "        \n",
    "        A_t[ i , i  ] =  A[1,i]\n",
    "                \n",
    "        if i < N - 1:\n",
    "                    \n",
    "            A_t[ i , i + 1 ] = A[0,i]\n",
    "                \n",
    "        if i != 0:\n",
    "                    \n",
    "            A_t[ i , i - 1 ] = A[2,i]\n",
    "                \n",
    "                \n",
    "        \n",
    "    return A_t\n",
    "\n",
    "n = 10\n",
    "a_t = Aij(1,10)\n",
    "auto = autovalores(a_t,QR)\n",
    "for i in range(2*n + 1):\n",
    "    a = a_t - (auto[i] * np.eye(2*n + 1))\n",
    "    L,U = LU(a)\n",
    "    detL = np.prod(np.diag(L))\n",
    "    detU = np.prod(np.diag(U))\n",
    "    detA = detL * detU\n",
    "    print(detA)\n",
    "    print(np.linalg.det(a_t - (auto[i] * np.eye(2*n + 1))))\n",
    "print(auto)\n",
    "\n",
    "\n",
    "# melhoras como mostrar os dados"
   ]
  },
  {
   "cell_type": "markdown",
   "id": "40069c03-990a-4c4d-a5d2-382db1ac0799",
   "metadata": {
    "editable": false,
    "slideshow": {
     "slide_type": ""
    },
    "tags": [
     "pergunta"
    ]
   },
   "source": [
    "7. Tente usar esta metodologia para obter os valores próprios da matriz $A$ e represente-os no mesmo gráfico como função de $M$. A massa M central deverá variar desde um até um valor grande."
   ]
  },
  {
   "cell_type": "markdown",
   "id": "a6123382-dd9a-45d9-8264-fa346c365465",
   "metadata": {
    "editable": true,
    "slideshow": {
     "slide_type": ""
    },
    "tags": [
     "resposta"
    ]
   },
   "source": [
    "Responda Aqui"
   ]
  },
  {
   "cell_type": "code",
   "execution_count": 77,
   "id": "6b782444-e16c-4000-a05b-8fbd011ff7ac",
   "metadata": {
    "editable": true,
    "slideshow": {
     "slide_type": ""
    },
    "tags": [
     "code",
     "adicionarAvaliacao"
    ]
   },
   "outputs": [
    {
     "data": {
      "image/png": "[encoded data removed]",
      "text/plain": [
       "<Figure size 864x432 with 1 Axes>"
      ]
     },
     "metadata": {
      "needs_background": "light"
     },
     "output_type": "display_data"
    }
   ],
   "source": [
    "import numpy as np\n",
    "import matplotlib.pyplot as plt\n",
    "\n",
    "def LU(A):\n",
    "    N = A.shape[0]\n",
    "    L = np.zeros((N, N), float)\n",
    "    U = A.copy()\n",
    "    for m in range(N):\n",
    "        L[m, m] = 1.0\n",
    "        for i in range(m+1, N):\n",
    "            L[i, m] = U[i, m] / U[m, m]\n",
    "            U[i, :] -= L[i, m] * U[m, :]\n",
    "    return L, U\n",
    "\n",
    "def Aij(M, n):\n",
    "    N = 2 * n + 1\n",
    "    r = np.random.uniform(-0.01, 0.01, N + 1)\n",
    "    A = np.zeros((3, N), float)\n",
    "    A[0, :] = 1 + r[1:]\n",
    "    A[1, :] = -2 - r[:-1] - r[1:]\n",
    "    A[2, :] = 1 + r[:-1]\n",
    "    A[2, 0] = 0\n",
    "\n",
    "    A[1, n] /= M\n",
    "    A[0, n] /= M\n",
    "    A[2, n] /= M\n",
    "\n",
    "    A_t = np.zeros((N, N), float)\n",
    "    for i in range(N):\n",
    "        A_t[i, i] = A[1, i]\n",
    "        if i < N - 1:\n",
    "            A_t[i, i + 1] = A[0, i]\n",
    "        if i > 0:\n",
    "            A_t[i, i - 1] = A[2, i]\n",
    "    return A_t\n",
    "\n",
    "def polinomio_caracteristico(A):\n",
    "    n = 10000\n",
    "    I = np.eye(A.shape[0])\n",
    "    lambdas = np.linspace(-4, 4, n)\n",
    "    det_values = np.zeros(n)\n",
    "\n",
    "    for i, lmbda in enumerate(lambdas):\n",
    "        det_values[i] = np.linalg.det(A - lmbda * I)\n",
    "\n",
    "    return lambdas, det_values\n",
    "\n",
    "def f_lambda (A , lamb):\n",
    "    \n",
    "    I = np.eye(A.shape[0])\n",
    "    \n",
    "\n",
    "    L,U = LU(A - lamb * I)\n",
    "    det_L = np.prod(np.diag(L))\n",
    "    det_U = np.prod(np.diag(U))\n",
    "    det_LU = det_L * det_U\n",
    "\n",
    "    return det_LU\n",
    "\n",
    "def secante(f, x1, x2, A, err):\n",
    "    while True:\n",
    "        f_x1 = f(A, x1)\n",
    "        f_x2 = f(A, x2)\n",
    "        if f_x2 - f_x1 == 0:\n",
    "            break\n",
    "        x_temp = x2 - f_x2 * (x2 - x1) / (f_x2 - f_x1)\n",
    "        if np.abs(x_temp - x2) < err:\n",
    "            return x_temp\n",
    "        x1, x2 = x2, x_temp\n",
    "\n",
    "def bissec (f,x1,x2,A,err):\n",
    "    N = np.ceil(np.log2((x2 - x1)/err)) # definindo numero de passos\n",
    "    N = int(N)\n",
    "    #print(\"Número de passos = \",N)\n",
    "\n",
    "    xtemp = 0\n",
    "    for i in range (N):\n",
    "        xtemp = 1/2 * (x2 + x1)\n",
    "        if f(A,xtemp)*f(A,x1) > 0:\n",
    "            x1 = xtemp\n",
    "        else:\n",
    "            x2 = xtemp\n",
    "    return xtemp\n",
    "\n",
    "\n",
    "\n",
    "\n",
    "def encontrar_valores_proprios(A, delta=0.1, tol=1e-15):\n",
    "    lambdas, det_values = polinomio_caracteristico(A)\n",
    "    eigvals = []\n",
    "    for i in range(len(lambdas) - 1):\n",
    "        if det_values[i] * det_values[i + 1] < 0:  # Identificar mudanças de sinal\n",
    "            eigval = secante(f_lambda, lambdas[i], lambdas[i+1], A, tol)\n",
    "            if not eigvals or np.abs(eigval - eigvals[-1]) > tol:\n",
    "                eigvals.append(eigval)\n",
    "    return eigvals\n",
    "\n",
    "\n",
    "\n",
    "\n",
    "# Variar M desde 1 até um valor grande\n",
    "M_values = np.linspace(1, 50, 20)\n",
    "n = 10\n",
    "\n",
    "eigvals_per_M = []\n",
    "\n",
    "\n",
    "for M in M_values:\n",
    "    a = Aij(M, n)\n",
    "\n",
    "    eigvals_per_M.append(encontrar_valores_proprios(a))\n",
    "\n",
    "\n",
    "# Plotar os valores próprios em função de M\n",
    "plt.figure(figsize=(12, 6))\n",
    "\n",
    "for i in range(len(eigvals_per_M[0])):\n",
    "    eigvals_i = [eigvals[i] if i < len(eigvals) else None for eigvals in eigvals_per_M]\n",
    "    plt.plot(M_values, eigvals_i, label=f'LU Valor Próprio {i+1}')\n",
    "\n",
    "plt.title('Valores Próprios da Matriz A em Função de M')\n",
    "plt.xlabel('M')\n",
    "plt.ylabel('Valores Próprios')\n",
    "plt.legend()\n",
    "plt.show()\n",
    "# Há sempre algusn valores próprios que não consigo obter, por isso coloquei uma dimenção grnade "
   ]
  },
  {
   "attachments": {},
   "cell_type": "markdown",
   "id": "6f67098e-d443-47fc-b604-bfdbd3c77dcd",
   "metadata": {
    "editable": false,
    "slideshow": {
     "slide_type": ""
    },
    "tags": [
     "pergunta"
    ]
   },
   "source": [
    "## Pergunta 2\n",
    "\n",
    "**Evolução temporal do Sistema de Molas** - A evolução pode ser obtida a partir da diagonalização da matriz $A$. Contudo este problema de valores próprios é um pouco mais complicado uma vez que A não é simétrica. A matriz $A$ pode então ser diagonalizada à esquerda e à direita,\n",
    "\\begin{align}\n",
    "A_{ij}r_{j}^{(\\lambda)}\t&= \\lambda r_{i}^{(\\lambda)}\t&l_{i}^{(\\lambda)}A_{ij}\t&=\\lambda l_{j}^{(\\lambda)},\n",
    "\\end{align}\n",
    "onde $r_{j}^{(\\lambda)}$ e $l_{i}^{(\\lambda)}$ são respectivamente os vectores próprios à esquerda e à direita associados aos valores próprios $\\lambda$. Este problema pode ser reescrito como, \n",
    "\\begin{align}\n",
    "A_{ij}r_{i\\alpha}\t&=r_{i\\beta}D_{\\beta\\alpha}\t&l_{\\alpha i}A_{ij}\t&=D_{\\alpha\\beta}l_{\\beta j} \n",
    "\\end{align}\n",
    "com $D_{\\alpha\\beta}=\\lambda_{\\alpha}\\delta_{\\alpha\\beta}$  a matriz diagonal com os valores próprios e organizamos todos os vectores próprios em matrizes onde usamos os índices do alfabeto grego para indicar o respectivo vector próprio. Estas matrizes representam uma base para este espaço. Agora os vectores próprios à direita (e à esquerda) não são ortogonais entre si. A relação de ortogonalidade deverá ser dada por \n",
    "\\begin{align}\n",
    "l_{\\beta i}r_{i\\alpha}\t&=\\delta_{\\alpha\\beta}\t&r_{i\\alpha}l_{\\alpha j}\t&=\\delta_{ij}\n",
    "\\end{align}\n",
    "1. Para calcular os vectores próprios deste sistema podemos recordar que o vector próprio é solução da equação\n",
    "   \\begin{align}\n",
    "   \\left(A_{ij}-\\lambda\\delta_{ij}\\right)x_{j}=0.\n",
    "   \\end{align}\n",
    "   Será que consegue, sabendo os valores próprios obter os vectores usando as técnicas ensinadas no curso? Note que para um valor próprio, este sistema de equações torna-se indeterminado. Compare e comente os resultados que obteve para todos os $r_{\\alpha}^{(\\lambda)}$ e $l_{\\alpha}^{(\\lambda)}$ com os obtidos nos módulos *Python*."
   ]
  },
  {
   "cell_type": "markdown",
   "id": "441b3e2e-500a-46bd-8a9c-e677593246a5",
   "metadata": {
    "editable": true,
    "slideshow": {
     "slide_type": ""
    },
    "tags": [
     "resposta"
    ]
   },
   "source": [
    "Responda Aqui"
   ]
  },
  {
   "cell_type": "code",
   "execution_count": 213,
   "id": "bc8a631c-a78d-4202-a1e8-e8bc2b2eceaa",
   "metadata": {
    "editable": true,
    "slideshow": {
     "slide_type": ""
    },
    "tags": [
     "code"
    ]
   },
   "outputs": [
    {
     "name": "stdout",
     "output_type": "stream",
     "text": [
      "Eigenvalues:\n",
      "[-0.09816416 -0.38245229 -0.82497095 -1.38166822 -2.00230723 -3.90060363\n",
      " -3.62171753 -2.62465134 -3.18099357]\n",
      "\n",
      "Right Eigenvectors (Manual):\n",
      "[[ 0.13811014 -0.26192677  0.3610414   0.42400249 -0.44746293  0.1477278\n",
      "  -0.26079731 -0.42489598 -0.36275687]\n",
      " [ 0.26272831 -0.42412951  0.42555508  0.26475971 -0.00291294 -0.27824077\n",
      "   0.41878964  0.26050688  0.42334165]\n",
      " [ 0.36182464 -0.42483477  0.14008795 -0.25951393  0.44815266  0.37737228\n",
      "  -0.41302234  0.26517311 -0.13217928]\n",
      " [ 0.42543576 -0.26368808 -0.26020083 -0.42605939  0.00487176 -0.43399631\n",
      "   0.24611101 -0.42346324 -0.26827906]\n",
      " [ 0.44751222 -0.00129241 -0.44722438 -0.004938   -0.44949512  0.44358553\n",
      "   0.01665263 -0.00368612  0.44787525]\n",
      " [ 0.42556896  0.26313438 -0.26455384  0.42550263 -0.00200156 -0.41258411\n",
      "  -0.27475951  0.42826871 -0.26357845]\n",
      " [ 0.36176209  0.42611518  0.13669744  0.26540902  0.44866918  0.34716803\n",
      "   0.43255911 -0.26812586 -0.13265508]\n",
      " [ 0.26200481  0.42562113  0.4257799  -0.26427076 -0.0033026  -0.25341389\n",
      "  -0.43443307 -0.25857357  0.42338007]\n",
      " [ 0.13817487  0.26367341  0.36228412 -0.42413706 -0.44219804  0.13512192\n",
      "   0.27172108  0.42400735 -0.36445905]]\n",
      "\n",
      "Left Eigenvectors (Manual):\n",
      "[[ 0.13811014 -0.26192677  0.3610414   0.42400249 -0.44746293  0.1477278\n",
      "  -0.26079731 -0.42489598 -0.36275687]\n",
      " [ 0.26272831 -0.42412951  0.42555508  0.26475971 -0.00291294 -0.27824077\n",
      "   0.41878964  0.26050688  0.42334165]\n",
      " [ 0.36182464 -0.42483477  0.14008795 -0.25951393  0.44815266  0.37737228\n",
      "  -0.41302234  0.26517311 -0.13217928]\n",
      " [ 0.42543576 -0.26368808 -0.26020083 -0.42605939  0.00487176 -0.43399631\n",
      "   0.24611101 -0.42346324 -0.26827906]\n",
      " [ 0.44751222 -0.00129241 -0.44722438 -0.004938   -0.44949512  0.44358553\n",
      "   0.01665263 -0.00368612  0.44787525]\n",
      " [ 0.42556896  0.26313438 -0.26455384  0.42550263 -0.00200156 -0.41258411\n",
      "  -0.27475951  0.42826871 -0.26357845]\n",
      " [ 0.36176209  0.42611518  0.13669744  0.26540902  0.44866918  0.34716803\n",
      "   0.43255911 -0.26812586 -0.13265508]\n",
      " [ 0.26200481  0.42562113  0.4257799  -0.26427076 -0.0033026  -0.25341389\n",
      "  -0.43443307 -0.25857357  0.42338007]\n",
      " [ 0.13817487  0.26367341  0.36228412 -0.42413706 -0.44219804  0.13512192\n",
      "   0.27172108  0.42400735 -0.36445905]]\n",
      "\n",
      "Diferença entre vetores próprios à direita (Manual - NumPy):\n",
      "     Elemento 1    Elemento 2    Elemento 3    Elemento 4    Elemento 5  \\\n",
      "0  2.762203e-01  5.254566e-01  7.236493e-01  8.508715e-01  8.950244e-01   \n",
      "1  5.238535e-01  8.482590e-01  8.496695e-01  5.273762e-01  2.584815e-03   \n",
      "2  7.220828e-01  8.511102e-01  2.801759e-01  5.204017e-01  8.944488e-01   \n",
      "3  3.330669e-16  1.054712e-15  1.887379e-15  6.106227e-16  4.199766e-15   \n",
      "4  8.949259e-01  5.825884e-03  8.963053e-01  9.743524e-03  8.989902e-01   \n",
      "5  0.000000e+00  1.554312e-15  1.609823e-15  4.440892e-16  3.885781e-16   \n",
      "6  5.215946e-01  8.375793e-01  8.260447e-01  4.922220e-01  3.330526e-02   \n",
      "7  8.497920e-01  5.210138e-01  5.303462e-01  8.469265e-01  7.372237e-03   \n",
      "8  7.255137e-01  8.466833e-01  2.643586e-01  5.365581e-01  8.957505e-01   \n",
      "\n",
      "     Elemento 6    Elemento 7    Elemento 8    Elemento 9  \n",
      "0  8.511379e-01  7.235242e-01  5.240096e-01  2.763497e-01  \n",
      "1  5.262688e-01  8.522304e-01  8.512423e-01  5.273468e-01  \n",
      "2  5.291077e-01  2.733949e-01  8.515598e-01  7.245682e-01  \n",
      "3  1.165734e-15  4.496403e-15  6.106227e-15  1.887379e-15  \n",
      "4  4.003120e-03  8.973384e-01  6.605209e-03  8.843961e-01  \n",
      "5  5.551115e-16  9.992007e-16  1.276756e-15  1.637579e-15  \n",
      "6  5.495190e-01  8.651182e-01  8.688661e-01  5.434422e-01  \n",
      "7  8.565374e-01  5.362517e-01  5.171471e-01  8.480147e-01  \n",
      "8  5.271569e-01  2.653102e-01  8.467601e-01  7.289181e-01  \n",
      "\n",
      "Diferença entre vetores próprios à esquerda (Manual - NumPy):\n",
      "   Elemento 1  Elemento 2  Elemento 3    Elemento 4  Elemento 5    Elemento 6  \\\n",
      "0    0.276220    0.000802    0.722866  1.433277e-03    0.000049  2.778412e-01   \n",
      "1    0.000802    0.848259    0.000720  5.284478e-01    0.004205  5.413752e-01   \n",
      "2    0.722866    0.000720    0.280176  6.868950e-04    0.000928  6.419261e-01   \n",
      "3    0.849438    0.001072    0.519715  6.106227e-16    0.000066  8.594989e-01   \n",
      "4    0.000049    0.004205    0.000928  9.809763e-03    0.898990  4.455871e-01   \n",
      "5    0.573297    0.015106    0.112818  8.594989e-01    0.441584  6.106227e-16   \n",
      "6    0.100965    0.844905    0.276325  1.929801e-02    0.465322  6.219275e-01   \n",
      "7    0.162891    0.686128    0.690953  1.591925e-01    0.006989  6.816826e-01   \n",
      "8    0.224582    0.687015    0.230105  1.558580e-01    0.005677  3.987004e-01   \n",
      "\n",
      "   Elemento 7  Elemento 8  Elemento 9  \n",
      "0    0.100965    0.162891    0.224582  \n",
      "1    0.844905    0.686128    0.687015  \n",
      "2    0.276325    0.690953    0.230105  \n",
      "3    0.511520    0.687734    0.692416  \n",
      "4    0.465322    0.006989    0.005677  \n",
      "5    0.072409    0.174855    0.128457  \n",
      "6    0.865118    0.702559    0.139066  \n",
      "7    0.702559    0.517147    0.847387  \n",
      "8    0.139066    0.847387    0.728918  \n"
     ]
    }
   ],
   "source": [
    "import numpy as np\n",
    "import pandas as pd\n",
    "\n",
    "def Aij(M, n):\n",
    "    N = 2 * n + 1\n",
    "    r = np.random.uniform(-0.01, 0.01, N + 1)\n",
    "    A = np.zeros((3, N), float)\n",
    "    A[0, :] = 1 + r[1:]\n",
    "    A[1, :] = -2 - r[:-1] - r[1:]\n",
    "    A[2, :] = 1 + r[:-1]\n",
    "    A[2, 0] = 0\n",
    "\n",
    "    A[1, n] /= M\n",
    "    A[0, n] /= M\n",
    "    A[2, n] /= M\n",
    "\n",
    "    A_t = np.zeros((N, N), float)\n",
    "    for i in range(N):\n",
    "        A_t[i, i] = A[1, i]\n",
    "        if i < N - 1:\n",
    "            A_t[i, i + 1] = A[0, i]\n",
    "        if i > 0:\n",
    "            A_t[i, i - 1] = A[2, i]\n",
    "    return A_t\n",
    "\n",
    "def Gaussian_elimintation_pivo_p(A, v):\n",
    "    Am = A.copy()\n",
    "    vm = v.copy()\n",
    "    N = len(v)\n",
    "    A_lines = np.arange(0, N, 1)\n",
    "    \n",
    "    for m in range(N):\n",
    "        # Calculando o maior elemento na coluna atual\n",
    "        maior = np.abs(Am[A_lines[m], m])\n",
    "        maior_indice = A_lines[m]\n",
    "        for k in A_lines[m + 1:]:\n",
    "            count = np.abs(Am[k, m])\n",
    "            if count > maior:\n",
    "                maior = count\n",
    "                maior_indice = k\n",
    "                \n",
    "        # Trocando a ordem no vetor de linhas\n",
    "        posicao = np.where(A_lines == maior_indice)[0][0]\n",
    "        A_lines[m], A_lines[posicao] = A_lines[posicao], A_lines[m]\n",
    "\n",
    "        # Divide pelo elemento diagonal\n",
    "        div = Am[A_lines[m], m]\n",
    "        Am[A_lines[m], :] /= div\n",
    "        vm[A_lines[m]] /= div\n",
    "        \n",
    "        # Subtraindo das linhas abaixo\n",
    "        for i in A_lines[m + 1:]:\n",
    "            mult = Am[i, m]\n",
    "            Am[i, :] -= mult * Am[A_lines[m], :]\n",
    "            vm[i] -= mult * vm[A_lines[m]]\n",
    "\n",
    "    # Substituição retroativa\n",
    "    x = np.empty(N, float)\n",
    "    for m in range(N - 1, -1, -1):\n",
    "        x[m] = vm[A_lines[m]]\n",
    "        for i in range(m + 1, N):\n",
    "            x[m] -= Am[A_lines[m], i] * x[i]\n",
    "\n",
    "    return x\n",
    "\n",
    "def find_right_eigenvectors(A, eigenvalues):\n",
    "    N = A.shape[0]\n",
    "    right_eigenvectors = np.zeros((N, N))\n",
    "    I = np.eye(N)\n",
    "    \n",
    "    for i, lamb in enumerate(eigenvalues):\n",
    "        B = A - lamb * I\n",
    "        # Resolver Bx = 0 para x (um vetor próprio à direita)\n",
    "        # Vamos usar um vetor de zeros como o lado direito do sistema\n",
    "        v = np.zeros(N)\n",
    "        v[-1] = 1  # Um truque para obter uma solução não trivial\n",
    "        x = Gaussian_elimintation_pivo_p(B, v)\n",
    "        right_eigenvectors[:, i] = x\n",
    "    \n",
    "    return right_eigenvectors\n",
    "\n",
    "def find_left_eigenvectors(A, eigenvalues):\n",
    "    N = A.shape[0]\n",
    "    left_eigenvectors = np.zeros((N, N))\n",
    "    I = np.eye(N)\n",
    "    \n",
    "    for i, lamb in enumerate(eigenvalues):\n",
    "        B = (A - lamb * I).T\n",
    "        # Resolver By = 0 para y (um vetor próprio à esquerda)\n",
    "        # Vamos usar um vetor de zeros como o lado direito do sistema\n",
    "        v = np.zeros(N)\n",
    "        v[-1] = 1  # Um truque para obter uma solução não trivial\n",
    "        y = Gaussian_elimintation_pivo_p(B, v)\n",
    "        left_eigenvectors[:, i] = y\n",
    "    \n",
    "    return left_eigenvectors\n",
    "\n",
    "# Exemplo de uso\n",
    "n = 4\n",
    "A = Aij(1, n)\n",
    "\n",
    "# Encontrar valores próprios e vetores próprios à direita usando NumPy\n",
    "eigenvalues, right_eigenvectors_np = np.linalg.eig(A)\n",
    "\n",
    "# Encontrar vetores próprios à direita usando nosso método\n",
    "right_eigenvectors_manual = find_right_eigenvectors(A, eigenvalues)\n",
    "\n",
    "# Encontrar vetores próprios à esquerda usando nosso método\n",
    "left_eigenvectors_manual = find_left_eigenvectors(A, eigenvalues)\n",
    "\n",
    "# Encontrar vetores próprios à esquerda usando NumPy\n",
    "_, left_eigenvectors_np = np.linalg.eig(A.T)\n",
    "left_eigenvectors_np = left_eigenvectors_np.T\n",
    "\n",
    "# Normalizar os vetores próprios para comparação\n",
    "def normalize_vectors(vectors):\n",
    "    return vectors / np.linalg.norm(vectors, axis=0)\n",
    "\n",
    "right_eigenvectors_manual = normalize_vectors(right_eigenvectors_manual)\n",
    "right_eigenvectors_np = normalize_vectors(right_eigenvectors_np)\n",
    "left_eigenvectors_manual = normalize_vectors(left_eigenvectors_manual)\n",
    "left_eigenvectors_np = normalize_vectors(left_eigenvectors_np)\n",
    "\n",
    "# Comparação dos resultados\n",
    "print(\"Eigenvalues:\")\n",
    "print(eigenvalues)\n",
    "print(\"\\nRight Eigenvectors (Manual):\")\n",
    "print(right_eigenvectors_manual)\n",
    "print(\"\\nLeft Eigenvectors (Manual):\")\n",
    "print(left_eigenvectors_manual)\n",
    "\n",
    "\n",
    "# Calcular as diferenças e organizar em tabelas\n",
    "right_diff = [np.abs(right_eigenvectors_manual[:, i] - right_eigenvectors_np[:, i]) for i in range(2*n + 1)]\n",
    "left_diff = [np.abs(left_eigenvectors_manual[:, i] - left_eigenvectors_np[:, i]) for i in range(2*n + 1)]\n",
    "\n",
    "right_diff_table = pd.DataFrame(right_diff, columns=[f'Elemento {i+1}' for i in range(right_eigenvectors_manual.shape[0])])\n",
    "left_diff_table = pd.DataFrame(left_diff, columns=[f'Elemento {i+1}' for i in range(left_eigenvectors_manual.shape[0])])\n",
    "\n",
    "# Exibir as tabelas\n",
    "print(\"\\nDiferença entre vetores próprios à direita (Manual - NumPy):\")\n",
    "print(right_diff_table)\n",
    "\n",
    "print(\"\\nDiferença entre vetores próprios à esquerda (Manual - NumPy):\")\n",
    "print(left_diff_table)"
   ]
  },
  {
   "cell_type": "markdown",
   "id": "cd9e4fd5-926b-423b-8fc1-77b2b250e8a4",
   "metadata": {
    "editable": false,
    "slideshow": {
     "slide_type": ""
    },
    "tags": [
     "pergunta"
    ]
   },
   "source": [
    "2. A evolução temporal deste sistema é dada por\n",
    "   $$\\frac{\\partial^{2}x_{i}}{\\partial t^{2}}=A_{ij}x_{j}$$\n",
    "   Fazendo a mudança de variáveis, $y_{\\beta}=l_{\\beta i}x_{i}$ (logo $x_{i}=r_{i\\beta}y_{\\beta})$, obtemos,\n",
    "   \\begin{align}\n",
    "   \\frac{\\partial^{2}y_{\\alpha}}{\\partial t^{2}}\t&=l_{\\beta i}A_{ij}r_{j\\alpha}y_{\\alpha}=D_{\\beta\\gamma}l_{\\gamma j}r_{j\\alpha}y_{\\alpha} \\\\\n",
    "\t&=D_{\\beta\\gamma}\\delta_{\\gamma\\alpha}y_{\\alpha} \\\\\n",
    "\t&=\\lambda_{\\alpha}y_{\\alpha}\n",
    "\\end{align}\n",
    "um sistema de equações desacopladas. Para este sistema de equações, a solução mais geral é dada por,\n",
    "$$y_{\\alpha}(t)=A_{\\alpha}e^{\\sqrt{\\lambda_{\\alpha}}t}+B_{\\alpha}e^{-\\sqrt{\\lambda_{\\alpha}}t}.$$\n",
    "Criando como condição inicial um conjunto de posições aleatorias geradas entre $x_{i}(0)\\in]-0.01,0.01[$ e uma velocidade inicial nula para todas as massas. Calcule as condições iniciais $y_{\\alpha}(0)$."
   ]
  },
  {
   "cell_type": "markdown",
   "id": "08dd49af-d7d9-42fc-9c08-afb3094aa6f3",
   "metadata": {
    "slideshow": {
     "slide_type": ""
    },
    "tags": [
     "resposta"
    ]
   },
   "source": [
    "Responda Aqui"
   ]
  },
  {
   "cell_type": "code",
   "execution_count": 79,
   "id": "2f0a26b4-fce1-45c0-83a5-140402161758",
   "metadata": {
    "editable": true,
    "slideshow": {
     "slide_type": ""
    },
    "tags": [
     "code"
    ]
   },
   "outputs": [
    {
     "data": {
      "text/plain": [
       "array([ 0.00056447,  0.01023238, -0.0099376 ,  0.00058489, -0.00626578,\n",
       "       -0.00099291,  0.00191083, -0.00580041, -0.00514812])"
      ]
     },
     "execution_count": 79,
     "metadata": {},
     "output_type": "execute_result"
    }
   ],
   "source": [
    "def Aij(M, n):\n",
    "    N = 2 * n + 1\n",
    "    r = np.random.uniform(-0.01, 0.01, N + 1)\n",
    "    A = np.zeros((3, N), float)\n",
    "    A[0, :] = 1 + r[1:]\n",
    "    A[1, :] = -2 - r[:-1] - r[1:]\n",
    "    A[2, :] = 1 + r[:-1]\n",
    "    A[2, 0] = 0\n",
    "\n",
    "    A[1, n] /= M\n",
    "    A[0, n] /= M\n",
    "    A[2, n] /= M\n",
    "\n",
    "    A_t = np.zeros((N, N), float)\n",
    "    for i in range(N):\n",
    "        A_t[i, i] = A[1, i]\n",
    "        if i < N - 1:\n",
    "            A_t[i, i + 1] = A[0, i]\n",
    "        if i > 0:\n",
    "            A_t[i, i - 1] = A[2, i]\n",
    "    return A_t\n",
    "\n",
    "#exercício 2\n",
    "n = 4\n",
    "a = Aij(5,n)\n",
    "_, left_eigenvectors_np = np.linalg.eig(a.T)\n",
    "x_0 = np.random.uniform(-0.01,0.01,2*n + 1)\n",
    "y_0 = left_eigenvectors_np @ x_0\n",
    "y_0\n"
   ]
  },
  {
   "cell_type": "markdown",
   "id": "04d1010d-9ea7-4dcb-9ffc-dbfa1b73400e",
   "metadata": {
    "editable": false,
    "slideshow": {
     "slide_type": ""
    },
    "tags": [
     "pergunta"
    ]
   },
   "source": [
    "3. Represente no mesmo gráfico as posições das massas como função do tempo. Note que $x_{i}$ são os desvios da posição de equlíbrio, para obter as posições em cada tempo tem que somar os valores de equilíbrio."
   ]
  },
  {
   "cell_type": "markdown",
   "id": "0b35b20d-d942-4999-900a-f195a2049465",
   "metadata": {
    "editable": true,
    "slideshow": {
     "slide_type": ""
    },
    "tags": [
     "resposta"
    ]
   },
   "source": [
    "Responda Aqui"
   ]
  },
  {
   "cell_type": "code",
   "execution_count": 35,
   "id": "3d53d83f-8763-45b0-862e-c0a23adaf474",
   "metadata": {
    "editable": true,
    "slideshow": {
     "slide_type": ""
    },
    "tags": [
     "code"
    ]
   },
   "outputs": [
    {
     "data": {
      "image/png": "[encoded data removed]",
      "text/plain": [
       "<Figure size 432x288 with 1 Axes>"
      ]
     },
     "metadata": {
      "needs_background": "light"
     },
     "output_type": "display_data"
    }
   ],
   "source": [
    "import numpy as np\n",
    "import matplotlib.pyplot as plt\n",
    "\n",
    "np.random.seed(42)\n",
    "\n",
    "def Aij(M, n):\n",
    "    N = 2 * n + 1\n",
    "    r = np.random.uniform(-0.01, 0.01, N + 1)\n",
    "    A = np.zeros((3, N), float)\n",
    "    A[0, :] = 1 + r[1:]\n",
    "    A[1, :] = -2 - r[:-1] - r[1:]\n",
    "    A[2, :] = 1 + r[:-1]\n",
    "    A[2, 0] = 0\n",
    "\n",
    "    A[1, n] /= M\n",
    "    A[0, n+1] /= M\n",
    "    A[2, n-1] /= M\n",
    "\n",
    "    A_t = np.zeros((N, N), float)\n",
    "    for i in range(N):\n",
    "        A_t[i, i] = A[1, i]\n",
    "        if i < N - 1:\n",
    "            A_t[i, i + 1] = A[0, i]\n",
    "        if i > 0:\n",
    "            A_t[i, i - 1] = A[2, i]\n",
    "    return A_t\n",
    "\n",
    "def simulate_evolution(M, n, t_end, N_times, x0_initial):\n",
    "    a = Aij(M, n)\n",
    "    _, left_eigenvectors_np = np.linalg.eig(a.T)\n",
    "    right_values_np, right_eigenvectors_np = np.linalg.eig(a)\n",
    "    \n",
    "    # Initial conditions\n",
    "    x0 = np.arange(2*n+2)/10\n",
    "    x_0 = np.zeros(2 * n + 1)\n",
    "    x_0 += x0_initial\n",
    "\n",
    "    y_0 = left_eigenvectors_np @ x_0\n",
    "    B = y_0\n",
    "    \n",
    "    t = np.linspace(0, t_end, N_times)\n",
    "    y = np.zeros((2 * n + 1, N_times), float)\n",
    "    x = np.zeros((2 * n + 1, N_times), float)\n",
    "    \n",
    "    for i, tempo in enumerate(t):\n",
    "        y[:, i] = B * np.cos(np.sqrt(np.abs(right_values_np)) * tempo)\n",
    "        x[:, i] = right_eigenvectors_np @ y[:, i] + x0[:-1]\n",
    "    \n",
    "    return t, x\n",
    "\n",
    "# Simulation parameters\n",
    "n = 4\n",
    "t_end = 100\n",
    "N_times = 1000\n",
    "x0_initial = np.random.uniform(-0.01, 0.01, 2 * n + 1)\n",
    "\n",
    "\n",
    "# Simulate for M = 1\n",
    "t1, x1 = simulate_evolution(5, n, t_end, N_times, x0_initial)\n",
    "\n",
    "for k in range(2 * n + 1):\n",
    "    plt.plot(t1, x1[k, :], label=f'Massa {k+1}')\n",
    "\n",
    "plt.xlabel('Tempo')\n",
    "plt.ylabel('Posição')\n",
    "plt.title('Evolução Temporal das Massas no Sistema de Molas')\n",
    "plt.legend()\n",
    "plt.grid(True)"
   ]
  },
  {
   "cell_type": "code",
   "execution_count": 31,
   "id": "d5c6078d-92e5-4777-95f2-7b0f415a1642",
   "metadata": {},
   "outputs": [
    {
     "data": {
      "image/png": "[encoded data removed]",
      "text/plain": [
       "<Figure size 432x288 with 1 Axes>"
      ]
     },
     "metadata": {
      "needs_background": "light"
     },
     "output_type": "display_data"
    }
   ],
   "source": [
    "import numpy as np\n",
    "import matplotlib.pyplot as plt\n",
    "\n",
    "np.random.seed(42)\n",
    "\n",
    "def Aij(M, n):\n",
    "    N = 2 * n + 1\n",
    "    r = np.random.uniform(-0.01, 0.01, N + 1)\n",
    "    A = np.zeros((3, N), float)\n",
    "    A[0, :] = 1 + r[1:]\n",
    "    A[1, :] = -2 - r[:-1] - r[1:]\n",
    "    A[2, :] = 1 + r[:-1]\n",
    "    A[2, 0] = 0\n",
    "\n",
    "    A[1, n] /= M\n",
    "    A[0, n+1] /= M\n",
    "    A[2, n-1] /= M\n",
    "\n",
    "    A_t = np.zeros((N, N), float)\n",
    "    for i in range(N):\n",
    "        A_t[i, i] = A[1, i]\n",
    "        if i < N - 1:\n",
    "            A_t[i, i + 1] = A[0, i]\n",
    "        if i > 0:\n",
    "            A_t[i, i - 1] = A[2, i]\n",
    "    return A_t\n",
    "\n",
    "def simulate_evolution(M, n, t_end, N_times, x0):\n",
    "    a = Aij(M, n)\n",
    "    _, left_eigenvectors_np = np.linalg.eig(a.T)\n",
    "    right_values_np, right_eigenvectors_np = np.linalg.eig(a)\n",
    "    \n",
    "    # Initial conditions\n",
    "    y_0 = left_eigenvectors_np @ x0\n",
    "    \n",
    "    # Initialize y and x\n",
    "    t = np.linspace(0, t_end, N_times)\n",
    "    y = np.zeros((2 * n + 1, N_times), float)\n",
    "    x = np.zeros((2 * n + 1, N_times), float)\n",
    "    \n",
    "    for i, tempo in enumerate(t):\n",
    "        y[:, i] = y_0 * np.cos(np.sqrt(np.abs(right_values_np)) * tempo)\n",
    "        x[:, i] = right_eigenvectors_np @ y[:, i] +x0\n",
    "    \n",
    "    return t, x\n",
    "\n",
    "# Simulation parameters\n",
    "n = 4\n",
    "t_end = 10\n",
    "N_times = 1000\n",
    "x0 = np.random.uniform(-0.01, 0.01, 2 * n + 1)\n",
    "\n",
    "# Simulate for M = 10\n",
    "t1, x1 = simulate_evolution(1, n, t_end, N_times, x0)\n",
    "\n",
    "# Plotting results\n",
    "for k in range(2 * n + 1):\n",
    "    plt.plot(t1, x1[k, :], label=f'Massa {k+1}')\n",
    "\n",
    "plt.xlabel('Tempo')\n",
    "plt.ylabel('Posição')\n",
    "plt.title('Evolução Temporal das Massas no Sistema de Molas')\n",
    "plt.legend()\n",
    "plt.grid(True)\n",
    "plt.show()\n"
   ]
  },
  {
   "cell_type": "markdown",
   "id": "65519c49-eb8c-48b8-b412-8bc252a86c04",
   "metadata": {
    "editable": false,
    "slideshow": {
     "slide_type": ""
    },
    "tags": [
     "pergunta"
    ]
   },
   "source": [
    "4. Obtenha uma série bastante longa das posições das massas no tempo. Faça uma transformada de Fourier discreta da série de cada massa. Represente no mesmo gráfico o módulo das amplitudes de Fourier de cada massa como função da frequência. Comente os resultados e a origem do que observa."
   ]
  },
  {
   "cell_type": "markdown",
   "id": "c9e0ff36-21b6-4a0a-a142-386c4e0621ef",
   "metadata": {
    "editable": true,
    "slideshow": {
     "slide_type": ""
    },
    "tags": [
     "resposta"
    ]
   },
   "source": [
    "Responda Aqui"
   ]
  },
  {
   "cell_type": "code",
   "execution_count": 5,
   "id": "9107d1ee-6096-441c-b3b4-5254bb947aa3",
   "metadata": {
    "editable": true,
    "slideshow": {
     "slide_type": ""
    },
    "tags": [
     "code"
    ]
   },
   "outputs": [
    {
     "data": {
      "image/png": "[encoded data removed]",
      "text/plain": [
       "<Figure size 432x288 with 1 Axes>"
      ]
     },
     "metadata": {
      "needs_background": "light"
     },
     "output_type": "display_data"
    }
   ],
   "source": [
    "import numpy as np\n",
    "import matplotlib.pyplot as plt\n",
    "def Aij(M, n):\n",
    "    N = 2 * n + 1\n",
    "    r = np.random.uniform(-0.01, 0.01, N + 1)\n",
    "    A = np.zeros((3, N), float)\n",
    "    A[0, :] = 1 + r[1:]\n",
    "    A[1, :] = -2 - r[:-1] - r[1:]\n",
    "    A[2, :] = 1 + r[:-1]\n",
    "    A[2, 0] = 0\n",
    "\n",
    "    A[1, n] /= M\n",
    "    A[0, n] /= M\n",
    "    A[2, n] /= M\n",
    "\n",
    "    A_t = np.zeros((N, N), float)\n",
    "    for i in range(N):\n",
    "        A_t[i, i] = A[1, i]\n",
    "        if i < N - 1:\n",
    "            A_t[i, i + 1] = A[0, i]\n",
    "        if i > 0:\n",
    "            A_t[i, i - 1] = A[2, i]\n",
    "    return A_t\n",
    "\n",
    "n = 2\n",
    "m = 10\n",
    "A = Aij(m, n)\n",
    "lv, left_eigenvectors_np = np.linalg.eig(A.T)\n",
    "x_0 = np.sort(np.random.uniform(-0.01, 0.01, 2 * n + 1))\n",
    "y_0 = left_eigenvectors_np @ x_0\n",
    "right_values_np, right_eigenvectors_np = np.linalg.eig(A)\n",
    "\n",
    "# Condições iniciais\n",
    "B = y_0\n",
    "N_times = 1000\n",
    "t = np.linspace(0, 1e10, N_times)\n",
    "k = right_values_np\n",
    "x = np.zeros((2 * n + 1, N_times), float)\n",
    "x[:, 0] = x_0\n",
    "\n",
    "# Evolução temporal das posições\n",
    "for i, tempo in enumerate(t[1:], 1):\n",
    "    y = B * np.cos(k * tempo)\n",
    "    x[:, i] = right_eigenvectors_np @ y\n",
    "\n",
    "def dft_simples(y):# não utilizada\n",
    "    N = len(y)\n",
    "    c = np.zeros(N // 2 + 1, complex)\n",
    "    f = np.zeros(N//2 + 1,complex)\n",
    "    for k in range(N // 2 + 1):\n",
    "        for n in range(N):\n",
    "            c[k] += y[n] * np.exp(-2j * np.pi * k * n / N)\n",
    "        f[k] = -2j * np.pi * k/N\n",
    "    return c,f\n",
    "\n",
    "def dft(y):\n",
    "    N = len(y)\n",
    "    c = np.zeros(N, complex)\n",
    "    f = np.zeros(N,complex)\n",
    "    for k in range(N):\n",
    "        for n in range(N):\n",
    "            c[k] += y[n] * np.exp(-2j * np.pi * k * n / N)\n",
    "        f[k] = -2j * np.pi * k/N\n",
    "    return c,f\n",
    "\n",
    "\n",
    "# Aplicando a DFT às séries temporais\n",
    "\n",
    "\n",
    "c = np.zeros((N_times, 2 * n + 1))\n",
    "f = np.zeros((N_times, 2 * n + 1))\n",
    "f2 = np.fft.fftfreq(N_times, d=(1e10 / N_times))\n",
    "for i in range(2 * n + 1):\n",
    "    c[:, i], f[:,i] = np.abs(dft(x[i, :]))\n",
    "\n",
    "\n",
    "\n",
    "for k in range(2 * n + 1):\n",
    "    plt.plot(f2,c[:, k], label=f'Massa {k + 1}')\n"
   ]
  },
  {
   "cell_type": "code",
   "execution_count": 114,
   "id": "87746f7f-499a-4e63-8b0d-cf517ee236ee",
   "metadata": {},
   "outputs": [],
   "source": [
    "import numpy as np\n",
    "import matplotlib.pyplot as plt\n",
    "def Aij(M, n):\n",
    "    N = 2 * n + 1\n",
    "    r = np.random.uniform(-0.01, 0.01, N + 1)\n",
    "    A = np.zeros((3, N), float)\n",
    "    A[0, :] = 1 + r[1:]\n",
    "    A[1, :] = -2 - r[:-1] - r[1:]\n",
    "    A[2, :] = 1 + r[:-1]\n",
    "    A[2, 0] = 0\n",
    "\n",
    "    A[1, n] /= M\n",
    "    A[0, n] /= M\n",
    "    A[2, n] /= M\n",
    "\n",
    "    A_t = np.zeros((N, N), float)\n",
    "    for i in range(N):\n",
    "        A_t[i, i] = A[1, i]\n",
    "        if i < N - 1:\n",
    "            A_t[i, i + 1] = A[0, i]\n",
    "        if i > 0:\n",
    "            A_t[i, i - 1] = A[2, i]\n",
    "    return A_t\n",
    "\n",
    "n = 2\n",
    "m = 10\n",
    "A = Aij(m, n)\n",
    "lv, left_eigenvectors_np = np.linalg.eig(A.T)\n",
    "x_0 = np.sort(np.random.uniform(-0.01, 0.01, 2 * n + 1))\n",
    "y_0 = left_eigenvectors_np @ x_0\n",
    "right_values_np, right_eigenvectors_np = np.linalg.eig(A)\n",
    "\n",
    "# Condições iniciais\n",
    "B = y_0\n",
    "N_times = 1000\n",
    "t = np.linspace(0, 1e10, N_times)\n",
    "k = right_values_np\n",
    "x = np.zeros((2 * n + 1, N_times), float)\n",
    "x[:, 0] = x_0\n",
    "\n",
    "# Evolução temporal das posições\n",
    "for i, tempo in enumerate(t[1:], 1):\n",
    "    y = B * np.cos(k * tempo)\n",
    "    x[:, i] = right_eigenvectors_np @ y\n",
    "\n",
    "def dft_simples(y):# não utilizada\n",
    "    N = len(y)\n",
    "    c = np.zeros(N // 2 + 1, complex)\n",
    "    f = np.zeros(N//2 + 1,complex)\n",
    "    for k in range(N // 2 + 1):\n",
    "        for n in range(N):\n",
    "            c[k] += y[n] * np.exp(-2j * np.pi * k * n / N)\n",
    "        f[k] = -2j * np.pi * k/N\n",
    "    return c,f\n",
    "\n",
    "def dft(y):\n",
    "    N = len(y)\n",
    "    c = np.zeros(N, complex)\n",
    "    f = np.zeros(N,complex)\n",
    "    for k in range(N):\n",
    "        for n in range(N):\n",
    "            c[k] += y[n] * np.exp(-2j * np.pi * k * n / N)\n",
    "        f[k] = -2j * np.pi * k/N\n",
    "    return c,f\n",
    "\n",
    "\n",
    "# Aplicando a DFT às séries temporais\n",
    "\n",
    "\n",
    "c = np.zeros((N_times, 2 * n + 1))\n",
    "f = np.zeros((N_times, 2 * n + 1))\n",
    "f2 = np.fft.fftfreq(N_times, d=(1e10 / N_times))\n",
    "for i in range(2 * n + 1):\n",
    "    c[:, i], f[:,i] = np.abs(dft(x[i, :]))\n",
    "\n",
    "\n",
    "\n",
    "for k in range(2 * n + 1):\n",
    "    plt.plot(f2,c[:, k], label=f'Massa {k + 1}')\n",
    "\n"
   ]
  },
  {
   "attachments": {},
   "cell_type": "markdown",
   "id": "9338c0b7-5a64-41c5-a594-9cfecd7238e1",
   "metadata": {
    "editable": false,
    "slideshow": {
     "slide_type": ""
    },
    "tags": [
     "pergunta"
    ]
   },
   "source": [
    "5. Considere que uma cadeia de tamanho $n=64$ tem todas as massas paradas na posição de equilíbrio com excepção da primeira que tem um desvio inicial de $x_{1}=1/512$. Represente a evolução temporal de cada massa para:\n",
    "   \n",
    "   (a) $ M=1 $\n",
    "   \n",
    "   (b) $ M=1024 $\n",
    "\n",
    "    Comente o que observa e discuta os resultados da última alínea do primeiro problema."
   ]
  },
  {
   "cell_type": "markdown",
   "id": "b6bac46d-37b4-42d7-abb7-fe985b282a7b",
   "metadata": {
    "editable": true,
    "slideshow": {
     "slide_type": ""
    },
    "tags": [
     "resposta"
    ]
   },
   "source": [
    "Responda Aqui"
   ]
  },
  {
   "cell_type": "code",
   "execution_count": 110,
   "id": "742cba9b-f530-47b5-84ea-720ff9cfef46",
   "metadata": {
    "editable": true,
    "slideshow": {
     "slide_type": ""
    },
    "tags": [
     "code",
     "adicionarAvaliacao"
    ]
   },
   "outputs": [],
   "source": [
    "import numpy as np\n",
    "import matplotlib.pyplot as plt\n",
    "\n",
    "np.random.seed(42)\n",
    "\n",
    "def Aij(M, n):\n",
    "    N = 2 * n + 1\n",
    "    r = np.random.uniform(-0.01, 0.01, N + 1)\n",
    "    A = np.zeros((3, N), float)\n",
    "    A[0, :] = 1 + r[1:]\n",
    "    A[1, :] = -2 - r[:-1] - r[1:]\n",
    "    A[2, :] = 1 + r[:-1]\n",
    "    A[2, 0] = 0\n",
    "\n",
    "    A[1, n] /= M\n",
    "    A[0, n+1] /= M\n",
    "    A[2, n-1] /= M\n",
    "\n",
    "    A_t = np.zeros((N, N), float)\n",
    "    for i in range(N):\n",
    "        A_t[i, i] = A[1, i]\n",
    "        if i < N - 1:\n",
    "            A_t[i, i + 1] = A[0, i]\n",
    "        if i > 0:\n",
    "            A_t[i, i - 1] = A[2, i]\n",
    "    return A_t\n",
    "\n",
    "def simulate_evolution(M, n, t_end, N_times, x0_initial):\n",
    "    a = Aij(M, n)\n",
    "    _, left_eigenvectors_np = np.linalg.eig(a.T)\n",
    "    right_values_np, right_eigenvectors_np = np.linalg.eig(a)\n",
    "    \n",
    "    # Initial conditions\n",
    "    x0 = np.arange(2*n+2)/(2*n + 2)\n",
    "    x_0 = np.zeros(2 * n + 1)\n",
    "    x_0 += x0_initial\n",
    "\n",
    "    y_0 = left_eigenvectors_np @ x_0\n",
    "    B = y_0\n",
    "    \n",
    "    t = np.linspace(0, t_end, N_times)\n",
    "    y = np.zeros((2 * n + 1, N_times), float)\n",
    "    x = np.zeros((2 * n + 1, N_times), float)\n",
    "    \n",
    "    for i, tempo in enumerate(t):\n",
    "        y[:, i] = B * np.cos(np.sqrt(np.abs(right_values_np)) * tempo)\n",
    "        x[:, i] = right_eigenvectors_np @ y[:, i] + x0[:-1]\n",
    "    \n",
    "    return t, x,y\n",
    "\n",
    "# Simulation parameters\n",
    "n = 64\n",
    "t_end = 100\n",
    "N_times = 1000\n",
    "x0_initial = np.zeros(2 * n + 1,float)\n",
    "x0_initial[0] = 1/512\n",
    "\n",
    "# Simulate for M = 1\n",
    "t1, x1 ,y1= simulate_evolution(1, n, t_end, N_times, x0_initial)\n",
    "\n",
    "# Simulate for M = 1024\n",
    "t2, x2,y2 = simulate_evolution(1024, n, t_end, N_times, x0_initial)\n",
    "\n",
    "# Plot results\n",
    "fig, ax = plt.subplots(1, 2, figsize=(20, 5))\n",
    "\n",
    "for k in range(2*n + 1):\n",
    "    ax[0].plot(t1, y1[ k, :])\n",
    "    ax[1].plot(t2, y2[k, :])\n",
    "\n",
    "ax[0].set_title('M = 1')\n",
    "ax[1].set_title('M = 1024')\n",
    "\n",
    "ax[0].set_xlabel('Time')\n",
    "ax[0].set_ylabel('Displacement')\n",
    "ax[1].set_xlabel('Time')\n",
    "ax[1].set_ylabel('Displacement')\n",
    "\n",
    "plt.show()\n"
   ]
  },
  {
   "cell_type": "markdown",
   "id": "6871d34c-b332-4bb1-b926-63f642aa8ab5",
   "metadata": {
    "editable": false,
    "slideshow": {
     "slide_type": ""
    },
    "tags": [
     "sorte"
    ]
   },
   "source": [
    "### Bom Trabalho"
   ]
  }
 ],
 "metadata": {
  "kernelspec": {
   "display_name": "Python 3 (ipykernel)",
   "language": "python",
   "name": "python3"
  },
  "language_info": {
   "codemirror_mode": {
    "name": "ipython",
    "version": 3
   },
   "file_extension": ".py",
   "mimetype": "text/x-python",
   "name": "python",
   "nbconvert_exporter": "python",
   "pygments_lexer": "ipython3",
   "version": "3.10.12"
  },
  "widgets": {
   "application/vnd.jupyter.widget-state+json": {
    "state": {},
    "version_major": 2,
    "version_minor": 0
   }
  }
 },
 "nbformat": 4,
 "nbformat_minor": 5
}
