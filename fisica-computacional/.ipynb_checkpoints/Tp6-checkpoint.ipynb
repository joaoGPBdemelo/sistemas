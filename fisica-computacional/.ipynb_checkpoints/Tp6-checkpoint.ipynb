{
 "cells": [
  {
   "cell_type": "markdown",
   "id": "fadec0e5-005c-42cd-98ac-6f02b5e7c1d6",
   "metadata": {},
   "source": [
    "# Tp 6"
   ]
  },
  {
   "cell_type": "code",
   "execution_count": 63,
   "id": "be2c2277-c65b-40cc-b4de-e21399ab45ee",
   "metadata": {},
   "outputs": [],
   "source": [
    "#Bibliotecas\n",
    "import numpy as np\n",
    "import matplotlib.pyplot as plt\n",
    "import pandas as pd\n"
   ]
  },
  {
   "cell_type": "markdown",
   "id": "16bd2c2e-abf8-4145-ac2b-d144083ca1c4",
   "metadata": {},
   "source": [
    "#### Exercício 1"
   ]
  },
  {
   "cell_type": "code",
   "execution_count": 28,
   "id": "217b6957-acc3-4502-84b2-557eb8f10071",
   "metadata": {},
   "outputs": [],
   "source": [
    "def dft_meia(y):\n",
    "    N = len(y)\n",
    "    c = np.zeros(N//2 + 1,complex)\n",
    "    for k in range(N//2 + 1):\n",
    "        for n in range(N):\n",
    "            c[k] += y[n]+np.exp(-2j*np.pi*k*n/N)\n",
    "    return c # c um array com os coefs\n",
    "# Função para calcular a DFT\n",
    "def dft(y):\n",
    "    N = len(y)\n",
    "    c = np.zeros(N, complex)\n",
    "    for k in range(N):\n",
    "        for n in range(N):\n",
    "            c[k] += y[n] * np.exp(-2j * np.pi * k * n / N)\n",
    "    return c\n",
    "\n",
    "#inversa da dft\n",
    "def inv_dft(c):\n",
    "    N = len(c)\n",
    "    y = np.zeros(N//2 + 1,complex)\n",
    "    for n in range(N//2 + 1):\n",
    "        for k in range(N):\n",
    "            y[n] += c[n]+np.exp((np.pi*k*n/N)*1j)\n",
    "    return (1/N)*y # c um array com os coefs"
   ]
  },
  {
   "cell_type": "code",
   "execution_count": 29,
   "id": "5fba5413-a6de-40f2-9d53-d2dc40fbcb8e",
   "metadata": {},
   "outputs": [
    {
     "data": {
      "text/plain": [
       "[<matplotlib.lines.Line2D at 0x7fd0ff3a24a0>]"
      ]
     },
     "execution_count": 29,
     "metadata": {},
     "output_type": "execute_result"
    },
    {
     "data": {
      "image/png": "[encoded data removed]",
      "text/plain": [
       "<Figure size 432x288 with 1 Axes>"
      ]
     },
     "metadata": {
      "needs_background": "light"
     },
     "output_type": "display_data"
    }
   ],
   "source": [
    "import numpy as np\n",
    "\n",
    "def onda_quadrada(x, amplitude, periodo):\n",
    "\n",
    "  onda = amplitude * np.sign(np.sin(2*np.pi*x/periodo))\n",
    "\n",
    "\n",
    "  return onda\n",
    "\n",
    "tempos = 1000\n",
    "x = np.linspace(-10, 10, tempos)\n",
    "frequencias = np.arange(tempos)*(2*np.pi/tempos)\n",
    "T = 1\n",
    "A = 1\n",
    "y = onda_quadrada(x,T,A)\n",
    "c = dft(y)\n",
    "plt.plot(frequencias,np.abs(c))"
   ]
  },
  {
   "cell_type": "code",
   "execution_count": 30,
   "id": "73415695-c670-4d19-927e-f213c66bb394",
   "metadata": {},
   "outputs": [
    {
     "data": {
      "text/plain": [
       "[<matplotlib.lines.Line2D at 0x7fd0ff89f6d0>]"
      ]
     },
     "execution_count": 30,
     "metadata": {},
     "output_type": "execute_result"
    },
    {
     "data": {
      "image/png": "[encoded data removed]",
      "text/plain": [
       "<Figure size 432x288 with 1 Axes>"
      ]
     },
     "metadata": {
      "needs_background": "light"
     },
     "output_type": "display_data"
    }
   ],
   "source": [
    "import numpy as np\n",
    "import matplotlib.pyplot as plt\n",
    "\n",
    "def sawtooth_wave(x, amplitude, period, phase=0):\n",
    "\n",
    "  sawtooth = amplitude * (x / period) - amplitude * (np.floor(x / period)) + phase\n",
    "  return sawtooth\n",
    "\n",
    "x = np.linspace(-10, 10, tempos) \n",
    "T = 1\n",
    "A = 1\n",
    "y1 = sawtooth_wave(x,T,A)\n",
    "c1 = dft(y1)\n",
    "#c2 = np.fft.fft(y1)\n",
    "plt.plot(frequencias,np.abs(c1))\n",
    "#plt.plot(frequencias,np.abs(c2))"
   ]
  },
  {
   "cell_type": "code",
   "execution_count": 26,
   "id": "f5606842-fd5d-4138-8187-b45e5b04ccef",
   "metadata": {},
   "outputs": [
    {
     "data": {
      "text/plain": [
       "[<matplotlib.lines.Line2D at 0x7fd0fd3e5900>]"
      ]
     },
     "execution_count": 26,
     "metadata": {},
     "output_type": "execute_result"
    },
    {
     "data": {
      "image/png": "[encoded data removed]",
      "text/plain": [
       "<Figure size 432x288 with 1 Axes>"
      ]
     },
     "metadata": {
      "needs_background": "light"
     },
     "output_type": "display_data"
    }
   ],
   "source": [
    "def sino(x,N):\n",
    "    return np.sin(np.pi*x/N)*np.sin(20*np.pi*x/N)\n",
    "\n",
    "x = np.linspace(-10, 10, 1000) \n",
    "y1 = sino(x,1000)\n",
    "c1 = dft(y1)\n",
    "plt.plot(frequencias,np.abs(c1))"
   ]
  },
  {
   "cell_type": "code",
   "execution_count": 64,
   "id": "491061cc-5755-4d93-ae49-9335d31cd4c4",
   "metadata": {},
   "outputs": [
    {
     "data": {
      "text/plain": [
       "[<matplotlib.lines.Line2D at 0x7fd0f1a99ab0>]"
      ]
     },
     "execution_count": 64,
     "metadata": {},
     "output_type": "execute_result"
    },
    {
     "data": {
      "image/png": "[encoded data removed]",
      "text/plain": [
       "<Figure size 432x288 with 1 Axes>"
      ]
     },
     "metadata": {
      "needs_background": "light"
     },
     "output_type": "display_data"
    }
   ],
   "source": [
    "dados = pd.read_csv('sunspots.txt',sep = '\\t')\n",
    "m = np.array(dados['mes'])\n",
    "v = np.array(dados['valor'])\n",
    "c = dft(v)\n",
    "tempos  = len(m)\n",
    "frequencias = np.arange(tempos)*2*np.pi/tempos\n",
    "plt.plot(m,np.abs(c)**2)"
   ]
  }
 ],
 "metadata": {
  "kernelspec": {
   "display_name": "Python 3 (ipykernel)",
   "language": "python",
   "name": "python3"
  },
  "language_info": {
   "codemirror_mode": {
    "name": "ipython",
    "version": 3
   },
   "file_extension": ".py",
   "mimetype": "text/x-python",
   "name": "python",
   "nbconvert_exporter": "python",
   "pygments_lexer": "ipython3",
   "version": "3.10.12"
  }
 },
 "nbformat": 4,
 "nbformat_minor": 5
}
