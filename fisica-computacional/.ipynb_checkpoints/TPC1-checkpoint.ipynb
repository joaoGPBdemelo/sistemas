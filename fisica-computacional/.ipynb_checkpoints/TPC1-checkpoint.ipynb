{
 "cells": [
  {
   "cell_type": "markdown",
   "id": "0c4d4590-3774-4e63-b8c9-4062a72fe11c",
   "metadata": {},
   "source": [
    "# TPC 1"
   ]
  },
  {
   "cell_type": "code",
   "execution_count": 1,
   "id": "ef0ba5bf-6af2-45eb-bbe8-4703ee4803b4",
   "metadata": {},
   "outputs": [],
   "source": [
    "#bibliotecas\n",
    "import numpy as np\n",
    "import matplotlib.pyplot as plt\n",
    "import scipy"
   ]
  },
  {
   "cell_type": "code",
   "execution_count": 2,
   "id": "72bc45b9-0a23-4a05-a037-1ad38f3f6a5c",
   "metadata": {},
   "outputs": [],
   "source": [
    "def gaussian(x, y, U0, k, sigma):\n",
    "    expoente1 = (1j * k * x)\n",
    "    expoente2 = -(y**2 / (2 * sigma **2))\n",
    "    return U0 * np.exp(expoente1) * np.exp(expoente2)"
   ]
  },
  {
   "cell_type": "code",
   "execution_count": 3,
   "id": "34bfedce-1783-444d-8cf9-38a5a370b28c",
   "metadata": {},
   "outputs": [],
   "source": [
    "# Regra de Simpson\n",
    "def simpson (f,N,a,b):\n",
    "    x = np.linspace(a,b,N+1)\n",
    "    y = f(x)\n",
    "    h = np.abs(b - a)/N\n",
    "    par = 0\n",
    "    impar = 0\n",
    "    for i in range(1,N,2):\n",
    "        impar += f(a + i*h)\n",
    "    for k in range(2,N - 1,2):\n",
    "        par += f(a + k*h)\n",
    "    integral = (h/3)*(f(a) + f(b) + 4*impar + 2*par)\n",
    "    return integral"
   ]
  },
  {
   "cell_type": "code",
   "execution_count": 4,
   "id": "39f94611-e7f0-4ab5-9273-60cbbd4f7240",
   "metadata": {},
   "outputs": [
    {
     "data": {
      "text/plain": [
       "(0.6924769962039915-0.7213104323300547j)"
      ]
     },
     "execution_count": 4,
     "metadata": {},
     "output_type": "execute_result"
    }
   ],
   "source": [
    "# 1\n",
    "u0 = 1\n",
    "k = 512\n",
    "sig = 1\n",
    "def gaussian2(y):\n",
    "    expoente2 = -(y**2/(2))\n",
    "    return  (512/2)*(scipy.special.hankel1(0, 512*np.sqrt(y**2 + 10**2),out = None)* np.exp(expoente2))\n",
    "simpson(gaussian2,10000,-15,15)"
   ]
  },
  {
   "cell_type": "markdown",
   "id": "f84db479-950a-4b6e-89eb-b7b9510059c0",
   "metadata": {},
   "source": [
    "*Exercício 1*\n"
   ]
  },
  {
   "cell_type": "markdown",
   "id": "ff7d4d7a-b843-4b4a-a5de-02594b14ce31",
   "metadata": {},
   "source": [
    "*1)*"
   ]
  },
  {
   "cell_type": "code",
   "execution_count": 7,
   "id": "70595dd4-971a-4cd4-bf79-30f6b2e4bbf6",
   "metadata": {},
   "outputs": [
    {
     "data": {
      "image/png": "[encoded data removed]",
      "text/plain": [
       "<Figure size 432x288 with 1 Axes>"
      ]
     },
     "metadata": {
      "needs_background": "light"
     },
     "output_type": "display_data"
    }
   ],
   "source": [
    "N = 1000\n",
    "x = np.linspace(-15,15,N)\n",
    "inte = np.zeros(N)\n",
    "for i in range (N):\n",
    "    inte[i] = gaussian2(x[i]).real\n",
    "plt.plot(x,inte)\n",
    "plt.show()"
   ]
  },
  {
   "cell_type": "code",
   "execution_count": 8,
   "id": "fe607248-1353-46f1-aaab-f5ddd64ce723",
   "metadata": {},
   "outputs": [
    {
     "data": {
      "text/plain": [
       "[<matplotlib.lines.Line2D at 0x7f408fe7d900>]"
      ]
     },
     "execution_count": 8,
     "metadata": {},
     "output_type": "execute_result"
    },
    {
     "data": {
      "image/png": "[encoded data removed]",
      "text/plain": [
       "<Figure size 432x288 with 1 Axes>"
      ]
     },
     "metadata": {
      "needs_background": "light"
     },
     "output_type": "display_data"
    }
   ],
   "source": [
    "inte2 = np.zeros(N)\n",
    "for i in range (N):\n",
    "    inte2[i] = gaussian2(x[i]).imag\n",
    "plt.plot(x,inte2)"
   ]
  },
  {
   "cell_type": "code",
   "execution_count": 9,
   "id": "874d6418-5de6-4829-ac65-5a6f58d9f11c",
   "metadata": {},
   "outputs": [
    {
     "data": {
      "text/plain": [
       "[<matplotlib.lines.Line2D at 0x7f408fcf5120>]"
      ]
     },
     "execution_count": 9,
     "metadata": {},
     "output_type": "execute_result"
    },
    {
     "data": {
      "image/png": "[encoded data removed]",
      "text/plain": [
       "<Figure size 432x288 with 1 Axes>"
      ]
     },
     "metadata": {
      "needs_background": "light"
     },
     "output_type": "display_data"
    }
   ],
   "source": [
    "inte3 = np.zeros(N)\n",
    "for i in range (N):\n",
    "        inte3[i] = np.abs(gaussian2(x[i]))\n",
    "plt.plot(x,inte3)"
   ]
  },
  {
   "cell_type": "markdown",
   "id": "ce2e950b-e786-48f7-8103-53a6cce3484d",
   "metadata": {},
   "source": [
    "*2)*"
   ]
  },
  {
   "cell_type": "code",
   "execution_count": 5,
   "id": "aac6694b-b115-465b-8410-0cbb3216695a",
   "metadata": {},
   "outputs": [
    {
     "data": {
      "text/plain": [
       "(0.6924769962039915-0.7213104323300547j)"
      ]
     },
     "execution_count": 5,
     "metadata": {},
     "output_type": "execute_result"
    }
   ],
   "source": [
    "# 1\n",
    "def gaussian2(y):\n",
    "    expoente2 = -(y**2/(2))\n",
    "    return  (512/2)*(scipy.special.hankel1(0, 512*np.sqrt(y**2 + 10**2),out = None)* np.exp(expoente2))\n",
    "simpson(gaussian2,10000,-15,15)"
   ]
  },
  {
   "cell_type": "code",
   "execution_count": 2,
   "id": "4e032daf-8d43-43e7-a48e-14756d588fc4",
   "metadata": {},
   "outputs": [
    {
     "ename": "NameError",
     "evalue": "name 'np' is not defined",
     "output_type": "error",
     "traceback": [
      "\u001b[0;31m---------------------------------------------------------------------------\u001b[0m",
      "\u001b[0;31mNameError\u001b[0m                                 Traceback (most recent call last)",
      "\u001b[0;32m/tmp/ipykernel_3131/2469676994.py\u001b[0m in \u001b[0;36m<module>\u001b[0;34m\u001b[0m\n\u001b[1;32m      1\u001b[0m \u001b[0mn\u001b[0m \u001b[0;34m=\u001b[0m \u001b[0;36m20\u001b[0m\u001b[0;34m\u001b[0m\u001b[0;34m\u001b[0m\u001b[0m\n\u001b[0;32m----> 2\u001b[0;31m \u001b[0mE\u001b[0m \u001b[0;34m=\u001b[0m \u001b[0mnp\u001b[0m\u001b[0;34m.\u001b[0m\u001b[0mzeros\u001b[0m\u001b[0;34m(\u001b[0m\u001b[0mn\u001b[0m\u001b[0;34m)\u001b[0m\u001b[0;34m\u001b[0m\u001b[0;34m\u001b[0m\u001b[0m\n\u001b[0m\u001b[1;32m      3\u001b[0m \u001b[0mN1\u001b[0m \u001b[0;34m=\u001b[0m \u001b[0mnp\u001b[0m\u001b[0;34m.\u001b[0m\u001b[0mpower\u001b[0m\u001b[0;34m(\u001b[0m\u001b[0;36m2\u001b[0m\u001b[0;34m,\u001b[0m \u001b[0mrange\u001b[0m\u001b[0;34m(\u001b[0m\u001b[0;36m0\u001b[0m\u001b[0;34m,\u001b[0m \u001b[0mn\u001b[0m \u001b[0;34m)\u001b[0m\u001b[0;34m)\u001b[0m\u001b[0;34m\u001b[0m\u001b[0;34m\u001b[0m\u001b[0m\n\u001b[1;32m      4\u001b[0m \u001b[0mN2\u001b[0m \u001b[0;34m=\u001b[0m \u001b[0mnp\u001b[0m\u001b[0;34m.\u001b[0m\u001b[0mpower\u001b[0m\u001b[0;34m(\u001b[0m\u001b[0;36m2\u001b[0m\u001b[0;34m,\u001b[0m \u001b[0mrange\u001b[0m\u001b[0;34m(\u001b[0m\u001b[0;36m1\u001b[0m\u001b[0;34m,\u001b[0m \u001b[0mn\u001b[0m \u001b[0;34m+\u001b[0m \u001b[0;36m1\u001b[0m\u001b[0;34m)\u001b[0m\u001b[0;34m)\u001b[0m\u001b[0;34m\u001b[0m\u001b[0;34m\u001b[0m\u001b[0m\n",
      "\u001b[0;31mNameError\u001b[0m: name 'np' is not defined"
     ]
    }
   ],
   "source": [
    "n = 20\n",
    "E = np.zeros(n)\n",
    "N1 = np.power(2, range(0, n ))\n",
    "N2 = np.power(2, range(1, n + 1))"
   ]
  },
  {
   "cell_type": "code",
   "execution_count": 1,
   "id": "d313ad2d-76f6-480f-ab53-21bc345025a5",
   "metadata": {},
   "outputs": [
    {
     "ename": "NameError",
     "evalue": "name 'n' is not defined",
     "output_type": "error",
     "traceback": [
      "\u001b[0;31m---------------------------------------------------------------------------\u001b[0m",
      "\u001b[0;31mNameError\u001b[0m                                 Traceback (most recent call last)",
      "\u001b[0;32m/tmp/ipykernel_3131/4053618023.py\u001b[0m in \u001b[0;36m<module>\u001b[0;34m\u001b[0m\n\u001b[0;32m----> 1\u001b[0;31m \u001b[0;32mfor\u001b[0m \u001b[0mi\u001b[0m \u001b[0;32min\u001b[0m \u001b[0mrange\u001b[0m\u001b[0;34m(\u001b[0m\u001b[0mn\u001b[0m \u001b[0;34m-\u001b[0m \u001b[0;36m1\u001b[0m\u001b[0;34m)\u001b[0m\u001b[0;34m:\u001b[0m\u001b[0;34m\u001b[0m\u001b[0;34m\u001b[0m\u001b[0m\n\u001b[0m\u001b[1;32m      2\u001b[0m     \u001b[0mE\u001b[0m\u001b[0;34m[\u001b[0m\u001b[0mi\u001b[0m\u001b[0;34m]\u001b[0m \u001b[0;34m=\u001b[0m \u001b[0mnp\u001b[0m\u001b[0;34m.\u001b[0m\u001b[0mabs\u001b[0m\u001b[0;34m(\u001b[0m\u001b[0;34m(\u001b[0m\u001b[0;36m1\u001b[0m\u001b[0;34m/\u001b[0m\u001b[0;36m15\u001b[0m\u001b[0;34m)\u001b[0m \u001b[0;34m*\u001b[0m \u001b[0;34m(\u001b[0m\u001b[0msimpson\u001b[0m\u001b[0;34m(\u001b[0m\u001b[0mgaussian2\u001b[0m\u001b[0;34m,\u001b[0m \u001b[0mN2\u001b[0m\u001b[0;34m[\u001b[0m\u001b[0mi\u001b[0m\u001b[0;34m]\u001b[0m\u001b[0;34m,\u001b[0m \u001b[0;34m-\u001b[0m\u001b[0;36m15\u001b[0m\u001b[0;34m,\u001b[0m \u001b[0;36m15\u001b[0m\u001b[0;34m)\u001b[0m \u001b[0;34m-\u001b[0m \u001b[0msimpson\u001b[0m\u001b[0;34m(\u001b[0m\u001b[0mgaussian2\u001b[0m\u001b[0;34m,\u001b[0m \u001b[0mN1\u001b[0m\u001b[0;34m[\u001b[0m\u001b[0mi\u001b[0m\u001b[0;34m]\u001b[0m\u001b[0;34m,\u001b[0m \u001b[0;34m-\u001b[0m\u001b[0;36m15\u001b[0m\u001b[0;34m,\u001b[0m \u001b[0;36m15\u001b[0m\u001b[0;34m)\u001b[0m\u001b[0;34m)\u001b[0m\u001b[0;34m)\u001b[0m\u001b[0;34m\u001b[0m\u001b[0;34m\u001b[0m\u001b[0m\n\u001b[1;32m      3\u001b[0m \u001b[0mx\u001b[0m \u001b[0;34m=\u001b[0m \u001b[0mnp\u001b[0m\u001b[0;34m.\u001b[0m\u001b[0marange\u001b[0m\u001b[0;34m(\u001b[0m\u001b[0;36m0\u001b[0m\u001b[0;34m,\u001b[0m\u001b[0mn\u001b[0m\u001b[0;34m,\u001b[0m\u001b[0;36m1\u001b[0m\u001b[0;34m)\u001b[0m\u001b[0;34m\u001b[0m\u001b[0;34m\u001b[0m\u001b[0m\n\u001b[1;32m      4\u001b[0m \u001b[0mplt\u001b[0m\u001b[0;34m.\u001b[0m\u001b[0mscatter\u001b[0m\u001b[0;34m(\u001b[0m\u001b[0mx\u001b[0m \u001b[0;34m,\u001b[0m \u001b[0mE\u001b[0m\u001b[0;34m)\u001b[0m\u001b[0;34m\u001b[0m\u001b[0;34m\u001b[0m\u001b[0m\n\u001b[1;32m      5\u001b[0m \u001b[0mplt\u001b[0m\u001b[0;34m.\u001b[0m\u001b[0mplot\u001b[0m\u001b[0;34m(\u001b[0m\u001b[0mx\u001b[0m\u001b[0;34m,\u001b[0m\u001b[0mE\u001b[0m\u001b[0;34m,\u001b[0m\u001b[0mycale\u001b[0m \u001b[0;34m=\u001b[0m \u001b[0;34m'log'\u001b[0m\u001b[0;34m)\u001b[0m\u001b[0;34m\u001b[0m\u001b[0;34m\u001b[0m\u001b[0m\n",
      "\u001b[0;31mNameError\u001b[0m: name 'n' is not defined"
     ]
    }
   ],
   "source": [
    "for i in range(n - 1):\n",
    "    E[i] = np.abs((1/15) * (simpson(gaussian2, N2[i], -15, 15) - simpson(gaussian2, N1[i], -15, 15)))\n",
    "x = np.arange(0,n,1)\n",
    "plt.scatter(x , E)\n",
    "plt.plot(x,E)\n",
    "plt.grid(True)\n",
    "plt.show()"
   ]
  },
  {
   "cell_type": "markdown",
   "id": "3d7ea04f-a925-415a-b76b-60e02f41aa71",
   "metadata": {},
   "source": [
    "*Parte 3*"
   ]
  },
  {
   "cell_type": "code",
   "execution_count": 21,
   "id": "4c1e19de-905f-4858-9b9a-48ea3590daf8",
   "metadata": {},
   "outputs": [
    {
     "data": {
      "text/plain": [
       "(0.685211638175463-0.7278258982604511j)"
      ]
     },
     "execution_count": 21,
     "metadata": {},
     "output_type": "execute_result"
    }
   ],
   "source": [
    "from scipy.special import roots_hermitenorm\n",
    "a = -15\n",
    "b = 15\n",
    "n = 1000000\n",
    "x, w = roots_hermitenorm(n)\n",
    "s = 0.0\n",
    "\n",
    "xp = 0.5*(b-a)*x + 0.5*(b+a)\n",
    "wp = 0.5*(b-a)*w\n",
    "\n",
    "for i in range (n):\n",
    "    s += gaussian2(x[i])*w[i]\n",
    "s"
   ]
  },
  {
   "cell_type": "code",
   "execution_count": 4,
   "id": "0ff10c30-437b-432b-a22e-b23a83e5829d",
   "metadata": {},
   "outputs": [
    {
     "data": {
      "text/plain": [
       "((0.6927646709098011-0.7210484794772303j),\n",
       " (0.7423436170103503-0.6722094284200159j))"
      ]
     },
     "execution_count": 4,
     "metadata": {},
     "output_type": "execute_result"
    }
   ],
   "source": [
    "import scipy\n",
    "import numpy as np\n",
    "from scipy.special import roots_chebyt, roots_hermitenorm\n",
    "\n",
    "# Definindo a função gaussian_simp(y)\n",
    "def gaussian_simp(y):\n",
    "    return (512/2) * (scipy.special.hankel1(0, 512 * np.sqrt(y**2 + 10**2)) * gaussian(0, y, 1, 512, 1))\n",
    "\n",
    "# Definindo a função gaussian(x, y, U0, k, sigma)\n",
    "def gaussian(x, y, U0, k, sigma):\n",
    "    expoente1 = (1j * k * x)\n",
    "    expoente2 = -(y**2 / (2 * sigma **2))\n",
    "    return U0 * np.exp(expoente1) * np.exp(expoente2)\n",
    "\n",
    "# Definindo os limites de integração e o número de pontos\n",
    "a = -5\n",
    "b = 5\n",
    "n = 100000\n",
    "\n",
    "# Calculando os pontos e pesos para a regra de Gauss-Chebyshev\n",
    "x_chebyshev, w_chebyshev = roots_chebyt(n)\n",
    "xp_chebyshev = 0.5 * (b - a) * x_chebyshev + 0.5 * (b + a)\n",
    "wp_chebyshev = 0.5 * (b - a) * w_chebyshev\n",
    "\n",
    "# Calculando a integral usando a regra de Gauss-Chebyshev\n",
    "integral_chebyshev = np.sum(gaussian_simp(xp_chebyshev) * wp_chebyshev)\n",
    "\n",
    "# Calculando os pontos e pesos para a regra de Gauss-Hermite\n",
    "x_hermite, w_hermite = roots_hermitenorm(n)\n",
    "xp_hermite = 0.5 * (b - a) * x_hermite + 0.5 * (b + a)\n",
    "wp_hermite = 0.5 * (b - a) * w_hermite\n",
    "\n",
    "# Calculando a integral usando a regra de Gauss-Hermite\n",
    "integral_hermite = np.sum(gaussian_simp(xp_hermite) * wp_hermite)\n",
    "\n",
    "integral_chebyshev, integral_hermite\n"
   ]
  }
 ],
 "metadata": {
  "kernelspec": {
   "display_name": "Python 3 (ipykernel)",
   "language": "python",
   "name": "python3"
  },
  "language_info": {
   "codemirror_mode": {
    "name": "ipython",
    "version": 3
   },
   "file_extension": ".py",
   "mimetype": "text/x-python",
   "name": "python",
   "nbconvert_exporter": "python",
   "pygments_lexer": "ipython3",
   "version": "3.10.12"
  }
 },
 "nbformat": 4,
 "nbformat_minor": 5
}
