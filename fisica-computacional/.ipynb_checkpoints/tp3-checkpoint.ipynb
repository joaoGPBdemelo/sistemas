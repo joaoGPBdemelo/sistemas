{
 "cells": [
  {
   "cell_type": "markdown",
   "id": "adbcc985-374c-43ca-9e4c-e13493b77236",
   "metadata": {},
   "source": [
    "# TP 3"
   ]
  },
  {
   "cell_type": "markdown",
   "id": "7063d1bf-3dab-4180-92e8-e7871d3d8eed",
   "metadata": {},
   "source": [
    "*Exercício 1*"
   ]
  },
  {
   "cell_type": "code",
   "execution_count": 73,
   "id": "54f75934-c935-403c-9eb0-d7ff9b7ddf35",
   "metadata": {},
   "outputs": [],
   "source": [
    "#Bibliotecas\n",
    "import numpy as np\n",
    "import matplotlib as plt"
   ]
  },
  {
   "cell_type": "code",
   "execution_count": 13,
   "id": "386a06af-e858-4c22-8435-800b91e9f3a5",
   "metadata": {},
   "outputs": [
    {
     "data": {
      "text/plain": [
       "2432902008176640000"
      ]
     },
     "execution_count": 13,
     "metadata": {},
     "output_type": "execute_result"
    }
   ],
   "source": [
    "# calcular fatorial\n",
    "def fatorial (N):\n",
    "    if N == 0:\n",
    "        return 1\n",
    "    f = N * fatorial(N-1)\n",
    "    return f\n",
    "fatorial(20)"
   ]
  },
  {
   "cell_type": "markdown",
   "id": "243c40bc-2154-43dc-a47f-c54ffcb13e94",
   "metadata": {},
   "source": [
    "*Exercício 2*"
   ]
  },
  {
   "cell_type": "code",
   "execution_count": 31,
   "id": "8f515506-b10d-4814-9762-ab5cdd203b28",
   "metadata": {},
   "outputs": [
    {
     "name": "stdout",
     "output_type": "stream",
     "text": [
      "(-1.000000000001e-06, -1000010.5755125057) (-9.999894245993345e-13, -0.999999999999) 1999.999996\n"
     ]
    }
   ],
   "source": [
    "# calculando raizes\n",
    "def raizes (a,b,c):\n",
    "    x1 = (-b + np.sqrt(b**2 - (4*a*c)))/2*a\n",
    "    x2 = (-b - np.sqrt(b**2 - (4*a*c)))/2*a\n",
    "    return (x1,x2)\n",
    "\n",
    "def raizes2 (a,b,c):\n",
    "    x1 = 2*c/(-b - np.sqrt(b**2 - (4*a*c)))\n",
    "    x2 = 2*c/(-b + np.sqrt(b**2 - (4*a*c)))\n",
    "    return (x1,x2)\n",
    "print(raizes2(0.001,1000,0.001),raizes(0.001,1000,0.001), 1000*2 - (4*0.001*0.001))"
   ]
  },
  {
   "cell_type": "code",
   "execution_count": 72,
   "id": "42a287b4-9a3a-4e4b-80b6-ec16abc8056c",
   "metadata": {},
   "outputs": [
    {
     "name": "stdout",
     "output_type": "stream",
     "text": [
      "1.0000000039225287 1.0000000039225289e-08\n"
     ]
    }
   ],
   "source": [
    "epsilon = 1e-8\n",
    "def f(x):\n",
    "    r = x*(x-1)\n",
    "    return r\n",
    "def derivate(f,x,epsilon):\n",
    "    deri = (f(x + epsilon) - f(x))/epsilon\n",
    "    return deri\n",
    "print(derivate(f,1,epsilon),\n",
    "f(1 + epsilon))\n",
    "# nessa condição de equação o limite tem que ser 10**-8\n",
    "# porque o algorismo diferente fica na casa 10-16\n"
   ]
  },
  {
   "cell_type": "markdown",
   "id": "696e867d-2278-4703-8996-26fe1ca146fd",
   "metadata": {},
   "source": [
    "*Exercíci 4*"
   ]
  },
  {
   "cell_type": "code",
   "execution_count": 83,
   "id": "9c5b33a2-5fe8-4fc6-9958-53206a29628b",
   "metadata": {},
   "outputs": [
    {
     "data": {
      "text/plain": [
       "1.5707963267423612"
      ]
     },
     "execution_count": 83,
     "metadata": {},
     "output_type": "execute_result"
    }
   ],
   "source": [
    "# calculo retangulo a direira\n",
    "N = 10000000\n",
    "def f (x):\n",
    "    y = np.sqrt(1 - x**2)\n",
    "    return y\n",
    "\n",
    "def red (f,N,a,b):\n",
    "    x = np.linspace(a,b,N + 1)\n",
    "    y = f(x)\n",
    "    h = np.abs(b - a)/N\n",
    "    inter = sum(h * y[1:])\n",
    "    return inter\n",
    "red (f,N,-1,1)# consigo 9 casas decimais\n"
   ]
  }
 ],
 "metadata": {
  "kernelspec": {
   "display_name": "Python 3 (ipykernel)",
   "language": "python",
   "name": "python3"
  },
  "language_info": {
   "codemirror_mode": {
    "name": "ipython",
    "version": 3
   },
   "file_extension": ".py",
   "mimetype": "text/x-python",
   "name": "python",
   "nbconvert_exporter": "python",
   "pygments_lexer": "ipython3",
   "version": "3.10.12"
  }
 },
 "nbformat": 4,
 "nbformat_minor": 5
}
