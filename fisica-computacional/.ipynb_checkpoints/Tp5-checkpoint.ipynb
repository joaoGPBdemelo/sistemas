{
 "cells": [
  {
   "cell_type": "markdown",
   "id": "a2781bd1-91d9-4036-87bb-9007a9e3f389",
   "metadata": {},
   "source": [
    "# Folha 5"
   ]
  },
  {
   "cell_type": "code",
   "execution_count": 1,
   "id": "93c9b5a4-9c24-4bca-9b5e-0e78777196d6",
   "metadata": {},
   "outputs": [],
   "source": [
    "#Bibliotecas\n",
    "import numpy as np"
   ]
  },
  {
   "cell_type": "code",
   "execution_count": 2,
   "id": "56ae4758-60a9-4703-a217-181efef33beb",
   "metadata": {},
   "outputs": [
    {
     "data": {
      "text/plain": [
       "array([0.42857143, 0.28571429])"
      ]
     },
     "execution_count": 2,
     "metadata": {},
     "output_type": "execute_result"
    }
   ],
   "source": [
    "# teste de resolução de sistema\n",
    "# Gaussian elimination\n",
    "\n",
    "def Gaussian_elimintation(A,v):\n",
    "    N = len(v)\n",
    "    for m in range(N):\n",
    "\n",
    "        # Divide by the diagonal element\n",
    "        div = A[m,m]\n",
    "        A[m,:] /= div\n",
    "        v[m] /= div\n",
    "\n",
    "        # Now subtract from the lower rows\n",
    "        for i in range(m+1,N):\n",
    "            mult = A[i,m]\n",
    "            A[i,:] -= mult*A[m,:]\n",
    "            v[i] -= mult*v[m]\n",
    "\n",
    "    # Backsubstitution\n",
    "    x = np.empty(N,float)\n",
    "    for m in range(N-1,-1,-1):\n",
    "        x[m] = v[m]\n",
    "        for i in range(m+1,N):\n",
    "            x[m] -= A[m,i]*x[i]\n",
    "    return x\n",
    "\n",
    "A = np.array([[1,2],\n",
    "             [4,1]],float)\n",
    "v = np.array([1,2],float)\n",
    "Gaussian_elimintation(A,v)"
   ]
  },
  {
   "cell_type": "markdown",
   "id": "c4616854-6b7c-42e8-a10d-7b67650b3ac1",
   "metadata": {},
   "source": [
    "# Exercício 1"
   ]
  },
  {
   "cell_type": "code",
   "execution_count": 3,
   "id": "9d41fbd8-3cdc-4ca3-91ab-f7bccf69cdd0",
   "metadata": {},
   "outputs": [
    {
     "data": {
      "text/plain": [
       "array([3.        , 1.66666667, 3.33333333, 2.        ])"
      ]
     },
     "execution_count": 3,
     "metadata": {},
     "output_type": "execute_result"
    }
   ],
   "source": [
    "A = np.array([[4,-1,-1,-1],\n",
    "              [-1,3,0,-1],\n",
    "              [-1,0,3,-1],\n",
    "              [-1,-1,-1,4]],float)\n",
    "v = np.array([5,0,5,0],float) \n",
    "\n",
    "Gaussian_elimintation(A,v)"
   ]
  },
  {
   "cell_type": "markdown",
   "id": "170e8867-0600-46a5-98ec-f3b526b9c5ff",
   "metadata": {},
   "source": [
    "# Exercício 2"
   ]
  },
  {
   "cell_type": "code",
   "execution_count": 4,
   "id": "06af9230-5e9a-46e3-a6c2-f28ff735266b",
   "metadata": {},
   "outputs": [
    {
     "name": "stdout",
     "output_type": "stream",
     "text": [
      "[[ 1.         -0.25       -0.25       -0.25      ]\n",
      " [ 0.          1.         -0.09090909 -0.45454545]\n",
      " [ 0.          0.          1.         -0.5       ]\n",
      " [ 0.          0.          0.          1.        ]]\n"
     ]
    },
    {
     "data": {
      "text/plain": [
       "array([3.        , 1.66666667, 3.33333333, 2.        ])"
      ]
     },
     "execution_count": 4,
     "metadata": {},
     "output_type": "execute_result"
    }
   ],
   "source": [
    "def Gaussian_elimintation_pivo_p(A,v):\n",
    "    Am = A\n",
    "    vm = v\n",
    "    N = len(v)\n",
    "    A_lines = np.arange(0,N,1)\n",
    "    \n",
    "    for m in range(N):\n",
    "            \n",
    "        # Calculando o maior elemento\n",
    "        maior = Am[A_lines[m],A_lines[m]]\n",
    "        maior_indice = A_lines[m]\n",
    "        for k in A_lines[m : N  : 1]:\n",
    "            count = np.abs(Am[k,m])\n",
    "            if count > maior:\n",
    "                maior = count\n",
    "                maior_indice = k\n",
    "                \n",
    "                    \n",
    "        # Troquei a ordem no meu vetor de leitura\n",
    "        posicao = np.where(A_lines == maior_indice)\n",
    "        m_tempo = A_lines[m]\n",
    "        A_lines[posicao] = m_tempo\n",
    "        A_lines[m] = maior_indice\n",
    "\n",
    "\n",
    "  \n",
    "        # Divide by the diagonal element\n",
    "        div = Am[A_lines[m],m]\n",
    "        Am[A_lines[m],:] /= div\n",
    "        vm[A_lines[m]] /= div\n",
    "    \n",
    "        \n",
    "        # Now subtract from the lower rows\n",
    "        for i in A_lines[m + 1: N  :1]:\n",
    "            mult = Am[i,m]\n",
    "            Am[i,:] -= mult*Am[A_lines[m],:]\n",
    "            vm[i] -= mult*vm[A_lines[m]]\n",
    "\n",
    "\n",
    "\n",
    "    # Backsubstitution\n",
    "    x = np.empty(N,float)\n",
    "    for m in range(N-1,-1,-1):\n",
    "        x[m] = vm[A_lines[m]]\n",
    "        for i in range(m+1,N):\n",
    "            x[m] -= Am[A_lines[m],i]*x[i]\n",
    "\n",
    "    print(Am[A_lines,:])\n",
    "    return x\n",
    "\n",
    "Gaussian_elimintation_pivo_p(A,v)\n"
   ]
  },
  {
   "cell_type": "code",
   "execution_count": 5,
   "id": "7bb63bca-381e-4269-aa38-b9eaaa6c3a68",
   "metadata": {},
   "outputs": [
    {
     "name": "stdout",
     "output_type": "stream",
     "text": [
      "[[ 1.          1.33333333 -0.33333333 -0.33333333]\n",
      " [-0.          1.         -0.25       -1.        ]\n",
      " [ 0.          0.          1.          0.47058824]\n",
      " [-0.         -0.         -0.          1.        ]]\n"
     ]
    },
    {
     "data": {
      "text/plain": [
       "array([ 1.61904762, -0.42857143, -1.23809524,  1.38095238])"
      ]
     },
     "execution_count": 5,
     "metadata": {},
     "output_type": "execute_result"
    }
   ],
   "source": [
    "A1 = np.array([[0,1,4,1],\n",
    "               [3,4,-1,-1],\n",
    "               [1,-4,1,5],\n",
    "               [2,-2,1,3]],float)\n",
    "v1 = np.array([-4,3,9,7],float)\n",
    "Gaussian_elimintation_pivo_p(A1,v1)"
   ]
  },
  {
   "cell_type": "code",
   "execution_count": 6,
   "id": "ea8def93-9d24-46f5-b235-606fb45725da",
   "metadata": {},
   "outputs": [
    {
     "name": "stdout",
     "output_type": "stream",
     "text": [
      "[[ 1.          1.33333333 -0.33333333 -0.33333333]\n",
      " [ 0.          1.         -0.25       -1.        ]\n",
      " [ 0.          0.          1.          0.47058824]\n",
      " [ 0.          0.          0.          1.        ]]\n",
      "[[ 1.          0.          0.          0.47058824]\n",
      " [ 0.          1.          0.75       -0.13235294]\n",
      " [-0.         -0.          1.          1.        ]\n",
      " [ 0.          0.          0.          1.        ]]\n",
      "[ 1.61904762 -0.42857143 -1.23809524  1.38095238] [ 1.61904762 -0.42857143 -1.23809524  1.38095238]\n"
     ]
    }
   ],
   "source": [
    "def Gaussian_elimintation_pivo_total(A,v):\n",
    "    Am = A\n",
    "    vm = v\n",
    "    N = len(v)\n",
    "    A_lines = np.arange(0,N,1)\n",
    "    A_coluns = np.arange(0,N,1)\n",
    "    \n",
    "    for m in range(N):\n",
    "\n",
    "                \n",
    "        # Calculando o maior elemento coluna\n",
    "        maior_coluna = Am[A_lines[m],A_coluns[m]]\n",
    "        maior_indice_coluna = A_coluns[m]\n",
    "        for k1 in A_coluns[m : N  : 1]:\n",
    "            count_coluna = np.abs(Am[A_lines[m],k1])\n",
    "            if count_coluna > maior_coluna:\n",
    "                maior_coluna = count_coluna\n",
    "                maior_indice_coluna = k1\n",
    "                \n",
    "                    \n",
    "        # Troquei a ordem no meu vetor de leitura coluna\n",
    "        posicao_coluna = np.where(A_coluns == maior_indice_coluna)\n",
    "        m_tempo_coluna = A_coluns[m]\n",
    "        A_coluns[posicao_coluna] = m_tempo_coluna\n",
    "        A_coluns[m] = maior_indice_coluna\n",
    "        \n",
    "\n",
    "\n",
    "        \n",
    "        # Calculando o maior elemento linha\n",
    "        maior = Am[A_lines[m],A_coluns[m]]\n",
    "        maior_indice = A_lines[m]\n",
    "        for k in A_lines[m : N  : 1]:\n",
    "            count = np.abs(Am[k,A_coluns[m]])\n",
    "            if count > maior:\n",
    "                maior = count\n",
    "                maior_indice = k\n",
    "                \n",
    "                    \n",
    "        # Troquei a ordem no meu vetor de leitura linha\n",
    "        posicao = np.where(A_lines == maior_indice)\n",
    "        m_tempo = A_lines[m]\n",
    "        A_lines[posicao] = m_tempo\n",
    "        A_lines[m] = maior_indice\n",
    "\n",
    "\n",
    "\n",
    "\n",
    "    \n",
    "        # Divide by the diagonal element\n",
    "        div = Am[A_lines[m],A_coluns[m]]\n",
    "        Am[A_lines[m],:] /= div\n",
    "        vm[A_lines[m]] /= div\n",
    "    \n",
    "        \n",
    "        # Now subtract from the lower rows\n",
    "        for i in A_lines[m + 1: N  :1]:\n",
    "            mult = Am[i,A_coluns[m]]\n",
    "            Am[i,:] -= mult*Am[A_lines[m],:]\n",
    "            vm[i] -= mult*vm[A_lines[m]]\n",
    "\n",
    "\n",
    "\n",
    "    # Backsubstitution\n",
    "    x = np.empty(N,float)\n",
    "    for m in range(N-1,-1,-1):\n",
    "        x[A_coluns[m]] = vm[A_lines[m]]\n",
    "        for i in range(m+1,N):\n",
    "            x[A_coluns[m]] -= Am[A_lines[m],A_coluns[i]]*x[A_coluns[i]]\n",
    "\n",
    "    print(Am[:,A_coluns])\n",
    "    return x\n",
    "\n",
    "print(Gaussian_elimintation_pivo_p(A1,v1), Gaussian_elimintation_pivo_total(A1,v1))"
   ]
  },
  {
   "cell_type": "code",
   "execution_count": 7,
   "id": "3fe5b548-0c2a-4536-b0bc-1920d2af8fa4",
   "metadata": {},
   "outputs": [
    {
     "name": "stdout",
     "output_type": "stream",
     "text": [
      "[1 0 2 3]\n",
      "[1 2 0 3]\n",
      "[1 2 0 3]\n",
      "[1 2 0 3]\n",
      "[[ 1.          1.33333333 -0.33333333 -0.33333333]\n",
      " [-0.          1.         -0.25       -1.        ]\n",
      " [ 0.          0.          1.          0.47058824]\n",
      " [-0.         -0.         -0.          1.        ]]\n"
     ]
    }
   ],
   "source": [
    "A = np.array([ [0,1,4,1],\n",
    "               [3,4,-1,-1],\n",
    "               [1,-4,1,5],\n",
    "               [2,-2,1,3] ],float)\n",
    "v = np.array([-4,3,9,7],float)\n",
    "\n",
    "Am = A\n",
    "vm = v\n",
    "N = len(v)\n",
    "A_lines = np.arange(0,N,1)\n",
    "A_coluns = np.arange(0,N,1)\n",
    "for m in range(N):\n",
    "            \n",
    "    # Calculando o maior elemento\n",
    "    maior = Am[A_lines[m],A_lines[m]]\n",
    "    maior_indice = A_lines[m]\n",
    "    contador = 0\n",
    "    for k in A_lines[m : N  : 1]:\n",
    "        count = np.abs(Am[k,m])\n",
    "        if count > maior:\n",
    "            maior = count\n",
    "            maior_indice = k\n",
    "                \n",
    "                    \n",
    "    # Troquei a ordem no meu vetor de leitura\n",
    "    posicao = np.where(A_lines == maior_indice)\n",
    "    m_tempo = A_lines[m]\n",
    "    A_lines[posicao] = m_tempo\n",
    "    A_lines[m] = maior_indice\n",
    "\n",
    "\n",
    "\n",
    "    # O erro ta pra beixo aqui :\n",
    "    \n",
    "    # Divide by the diagonal element\n",
    "    div = Am[A_lines[m],m]\n",
    "    Am[A_lines[m],:] /= div\n",
    "    vm[A_lines[m]] /= div\n",
    "    \n",
    "        \n",
    "    # Now subtract from the lower rows\n",
    "    for i in A_lines[m + 1: N  :1]:\n",
    "        mult = Am[i,m]\n",
    "        Am[i,:] -= mult*Am[A_lines[m],:]\n",
    "        vm[i] -= mult*vm[A_lines[m]]\n",
    "\n",
    "\n",
    "    print(A_lines)\n",
    "print(Am[A_lines,:])   "
   ]
  },
  {
   "cell_type": "markdown",
   "id": "d7b0baaf-25a5-4a45-8cba-a45ca48176c3",
   "metadata": {},
   "source": [
    "# Exercício 3"
   ]
  },
  {
   "cell_type": "code",
   "execution_count": 8,
   "id": "32b565d4-eda1-4286-b16f-973a9625cbaf",
   "metadata": {},
   "outputs": [],
   "source": [
    "def LU(A):\n",
    "    U = A\n",
    "    N = U[:,0]\n",
    "    N = len(N)\n",
    "    L = np.zeros([N,N],float)\n",
    "    for m in range(N):\n",
    "        for p in range(N):\n",
    "            if p >= m:    \n",
    "                L[p,m] = U[p,m]\n",
    "        # Divide by the diagonal element\n",
    "        div = U[m,m]\n",
    "        U[m,:] /= div\n",
    "\n",
    "        # Now subtract from the lower rows\n",
    "        for i in range(m+1,N):\n",
    "            mult = U[i,m]\n",
    "            U[i,:] -= mult*U[m,:]\n",
    "\n",
    "    \n",
    "    return L , U"
   ]
  },
  {
   "cell_type": "code",
   "execution_count": 9,
   "id": "77b0acf0-c504-4a7b-b0df-60b30ad744a6",
   "metadata": {},
   "outputs": [
    {
     "data": {
      "text/plain": [
       "(array([[ 4.        ,  0.        ,  0.        ,  0.        ],\n",
       "        [-1.        ,  2.75      ,  0.        ,  0.        ],\n",
       "        [-1.        , -0.25      ,  2.72727273,  0.        ],\n",
       "        [-1.        , -1.25      , -1.36363636,  2.5       ]]),\n",
       " array([[ 1.        , -0.25      , -0.25      , -0.25      ],\n",
       "        [ 0.        ,  1.        , -0.09090909, -0.45454545],\n",
       "        [ 0.        ,  0.        ,  1.        , -0.5       ],\n",
       "        [ 0.        ,  0.        ,  0.        ,  1.        ]]))"
      ]
     },
     "execution_count": 9,
     "metadata": {},
     "output_type": "execute_result"
    }
   ],
   "source": [
    "A = np.array([[4,-1,-1,-1],\n",
    "              [-1,3,0,-1],\n",
    "              [-1,0,3,-1],\n",
    "              [-1,-1,-1,4]],float)\n",
    "L,U = LU(A)\n",
    "L,U\n"
   ]
  },
  {
   "cell_type": "code",
   "execution_count": 10,
   "id": "7f9e5b14-2f9d-4a7d-b76a-73dfdb3cec82",
   "metadata": {},
   "outputs": [],
   "source": [
    "# Solução Pelo LU\n",
    "def solucao_LU(L,U,v):\n",
    "    N = len(v)\n",
    "    y = np.empty(N,float)\n",
    "    for n in range(N):\n",
    "        y[n] = v[n]/L[n,n]\n",
    "        for j in range(n):\n",
    "            y[n] -= L[n,j]*y[j]/L[n,n]\n",
    "        # Backsubstitution\n",
    "    x = np.empty(N,float)\n",
    "    for m in range(N-1,-1,-1):\n",
    "        x[m] = y[m]\n",
    "        for i in range(m+1,N):\n",
    "            x[m] -= U[m,i]*x[i]\n",
    "    return x\n",
    "\n"
   ]
  },
  {
   "cell_type": "code",
   "execution_count": 11,
   "id": "685d687f-a656-419d-b443-f9801cddd59c",
   "metadata": {},
   "outputs": [
    {
     "data": {
      "text/plain": [
       "array([3.        , 1.66666667, 3.33333333, 2.        ])"
      ]
     },
     "execution_count": 11,
     "metadata": {},
     "output_type": "execute_result"
    }
   ],
   "source": [
    "A = np.array([[4,-1,-1,-1],\n",
    "              [-1,3,0,-1],\n",
    "              [-1,0,3,-1],\n",
    "              [-1,-1,-1,4]],float)\n",
    "v = np.array([5,0,5,0],float) \n",
    "\n",
    "# [3.        , 1.66666667, 3.33333333, 2.        ]\n",
    "L,U = LU(A)\n",
    "solucao_LU(L,U,v)"
   ]
  },
  {
   "cell_type": "code",
   "execution_count": 12,
   "id": "3c9c887c-141b-4c0e-8ffe-de89ff333174",
   "metadata": {},
   "outputs": [
    {
     "name": "stdout",
     "output_type": "stream",
     "text": [
      "[[ 4.         -1.         -1.         -1.        ]\n",
      " [ 0.          2.75       -0.25       -1.25      ]\n",
      " [ 0.          0.          2.72727273 -1.36363636]\n",
      " [ 0.          0.          0.          2.5       ]]\n",
      "[[ 1.          0.          0.          0.        ]\n",
      " [-0.25        1.          0.          0.        ]\n",
      " [-0.25       -0.09090909  1.          0.        ]\n",
      " [-0.25       -0.45454545 -0.5         1.        ]]\n"
     ]
    },
    {
     "data": {
      "text/plain": [
       "[3.0, 1.6666666666666665, 3.333333333333333, 2.0]"
      ]
     },
     "execution_count": 12,
     "metadata": {},
     "output_type": "execute_result"
    }
   ],
   "source": [
    "# Essa aqui é minha nova LU\n",
    "\n",
    "\n",
    "A = np.array([[4,-1,-1,-1],\n",
    "              [-1,3,0,-1],\n",
    "              [-1,0,3,-1],\n",
    "              [-1,-1,-1,4]],float)\n",
    "v = np.array([5,0,5,0],float) \n",
    "\n",
    "\n",
    "def LU(A):\n",
    "  n = len(A)\n",
    "  x = [0]*n\n",
    "  L = np.eye(n)\n",
    "    \n",
    "  # Calculo dos pivos.\n",
    "  for k in list(range(1,n,1)):\n",
    "      \n",
    "    # Calculo dos multiplicadores.\n",
    "    for i in list(range(k+1,n+1,1)):\n",
    "      m = A[i-1][k-1]/A[k-1][k-1]\n",
    "      A[i-1][k-1] = 0\n",
    "      L[i-1][k-1] = m\n",
    "      # Atualizar demais valores da linha\n",
    "      for j in list(range(k+1,n+1,1)):\n",
    "        A[i-1][j-1] = A[i-1][j-1]-m*A[k-1][j-1] \n",
    "\n",
    "  return L,A\n",
    "\n",
    "\n",
    "\n",
    "def solveLowerTriangular(L,b):\n",
    "  n = len(b)\n",
    "  y = [0]*n\n",
    "  \n",
    "  for i in list(range(1,n+1,1)):\n",
    "    s = 0\n",
    "    for j in list(range(1,i,1)):\n",
    "      s = s + L[i-1][j-1]*y[j-1]\n",
    "\n",
    "    y[i-1] = b[i-1] - s\n",
    "\n",
    "  return y\n",
    "\n",
    "\n",
    "# Resolve o sistema triangular superior.\n",
    "def solveUpperTriangular(U,b):\n",
    "  n = len(b)\n",
    "  x = [0]*n\n",
    "  x[n-1] = b[n-1]/U[n-1][n-1]\n",
    "\n",
    "  for i in list(range(n-1,0,-1)):\n",
    "    s = 0\n",
    "    for j in list(range(i+1,n+1,1)):\n",
    "      s = s + U[i-1][j-1]*x[j-1]\n",
    "\n",
    "    x[i-1] = (b[i-1]-s)/(U[i-1][i-1])\n",
    "\n",
    "  return x\n",
    "\n",
    "\n",
    "def resolver_LU(L,U,v):\n",
    "    n = len(v)\n",
    "    y = [0]*n\n",
    "  \n",
    "    for i in list(range(1,n+1,1)):\n",
    "        s = 0\n",
    "        for j in list(range(1,i,1)):\n",
    "          s = s + L[i-1][j-1]*y[j-1]\n",
    "\n",
    "        y[i-1] = v[i-1] - s\n",
    "        \n",
    "    x = [0]*n\n",
    "    x[n-1] = y[n-1]/U[n-1][n-1]\n",
    "\n",
    "    for i in list(range(n-1,0,-1)):\n",
    "        s = 0\n",
    "        for j in list(range(i+1,n+1,1)):\n",
    "          s = s + U[i-1][j-1]*x[j-1]\n",
    "\n",
    "        x[i-1] = (y[i-1]-s)/(U[i-1][i-1])\n",
    "    return x\n",
    "\n",
    "    \n",
    "\n",
    "# Obtendo os fatores L e U.\n",
    "L,U = LU(A)\n",
    "print(U)\n",
    "print(L)\n",
    "\n",
    "x = resolver_LU(L,U,v)\n",
    "x\n"
   ]
  },
  {
   "cell_type": "code",
   "execution_count": 16,
   "id": "b6e34084-9058-43a5-a5a4-f65269be60c8",
   "metadata": {},
   "outputs": [
    {
     "data": {
      "text/plain": [
       "array([ 1.61904762, -0.42857143, -1.23809524,  1.38095238])"
      ]
     },
     "execution_count": 16,
     "metadata": {},
     "output_type": "execute_result"
    }
   ],
   "source": [
    "import numpy as np\n",
    "def lu_pivo(A):\n",
    "\n",
    "    n = A.shape[0]\n",
    "    piv = np.arange(0,n)\n",
    "    for k in range(n-1):\n",
    "\n",
    "        # piv\n",
    "        max_row_index = np.argmax(abs(A[k:n,k])) + k\n",
    "        piv[[k,max_row_index]] = piv[[max_row_index,k]]\n",
    "        A[[k,max_row_index]] = A[[max_row_index,k]]\n",
    "\n",
    "        # LU \n",
    "        for i in range(k+1,n):          \n",
    "            A[i,k] = A[i,k]/A[k,k]      \n",
    "            for j in range(k+1,n):      \n",
    "                A[i,j] -= A[i,k]*A[k,j] \n",
    "\n",
    "    return A,piv\n",
    "\n",
    "A1 = np.array([[0,1,4,1],\n",
    "               [3,4,-1,-1],\n",
    "               [1,-4,1,5],\n",
    "               [2,-2,1,3]],float)\n",
    "v1 = np.array([-4,3,9,7],float)\n",
    "\n",
    "A2 = np.array([[0,1,4,1],\n",
    "               [3,4,-1,-1],\n",
    "               [1,-4,1,5],\n",
    "               [2,-2,1,3]],float)\n",
    "def lu_pivo(A):\n",
    "\n",
    "    n = A.shape[0]\n",
    "    piv = np.arange(0,n)\n",
    "    for k in range(n-1):\n",
    "\n",
    "        # piv\n",
    "        max_row_index = np.argmax(abs(A[piv[k:n],k])) + k\n",
    "        piv[[k,max_row_index]] = piv[[max_row_index,k]]\n",
    "        \n",
    "\n",
    "        # LU \n",
    "        for i in piv[k+1:n]:          \n",
    "            A[i,k] = A[i,k]/A[piv[k],k]      \n",
    "            for j in range(k+1,n):      \n",
    "                A[i,j] -= A[i,k]*A[piv[k],j] \n",
    "\n",
    "    return A,piv\n",
    "\n",
    "\n",
    "def resolver_LU(A,v,piv):\n",
    "  n = len(v)\n",
    "  y = np.zeros(n)\n",
    "  \n",
    "  for i in list(range(1,n+1,1)):\n",
    "    s = 0\n",
    "    for j in list(range(1,i,1)):\n",
    "      s = s + A[piv[i-1],j-1]*y[piv[j-1]]\n",
    "\n",
    "    y[piv[i-1]] = v[piv[i-1]] - s\n",
    "\n",
    "  x = np.zeros(n)\n",
    "  x[piv[n-1]] = y[piv[n-1]]/A[piv[n-1],n-1]\n",
    "\n",
    "  for i in list(range(n-1,0,-1)):\n",
    "    s = 0\n",
    "    for j in list(range(i+1,n+1,1)):\n",
    "      s = s + A[piv[i-1],j-1]*x[piv[j-1]]\n",
    "\n",
    "    x[piv[i-1]] = (y[piv[i-1]]-s)/(A[piv[i-1],i-1])\n",
    "    \n",
    "  return x[piv]\n",
    "    \n",
    "#1.61904762, -0.42857143, -1.23809524,  1.38095238]\n",
    "\n",
    "A = np.array([[4,-1,-1,-1],\n",
    "              [-1,3,0,-1],\n",
    "              [-1,0,3,-1],\n",
    "              [-1,-1,-1,4]],float)\n",
    "v = np.array([5,0,5,0],float) \n",
    "\n",
    "\n",
    "LU,piv = lu_pivo(A1)\n",
    "resolver_LU(LU,v1,piv)"
   ]
  },
  {
   "cell_type": "code",
   "execution_count": 17,
   "id": "3d53b1da-8edb-47ed-bed5-61e758b59a75",
   "metadata": {},
   "outputs": [
    {
     "data": {
      "text/plain": [
       "array([ 1.61904762, -0.42857143, -1.23809524,  1.38095238])"
      ]
     },
     "execution_count": 17,
     "metadata": {},
     "output_type": "execute_result"
    }
   ],
   "source": [
    "import numpy as np\n",
    "\n",
    "\n",
    "\n",
    "def QR(A):\n",
    "\n",
    "    # Função temporária\n",
    "    def householder(x):\n",
    "        alpha = x[0]\n",
    "\n",
    "        # Calcula a norma excluido o segundo elemento \n",
    "        s = np.power(np.linalg.norm(x[1:]), 2)\n",
    "        v = x.copy()\n",
    "\n",
    "        if s == 0:\n",
    "            tau = 0\n",
    "        else:\n",
    "            t = np.sqrt(alpha**2 + s)\n",
    "            v[0] = alpha - t if alpha <= 0 else -s / (alpha + t)\n",
    "            tau = 2 * v[0]**2 / (s + v[0]**2)\n",
    "            v /= v[0]\n",
    "\n",
    "        return v, tau\n",
    "\n",
    "    \n",
    "    m, n = A.shape\n",
    "    R = A.copy()\n",
    "    Q = np.identity(m)\n",
    "\n",
    "    for j in range(min(m, n)):\n",
    "        v, tau = householder(R[j:, j])\n",
    "        H = np.identity(m)\n",
    "        H[j:, j:] -= tau * np.outer(v, v)\n",
    "        R = H @ R\n",
    "        Q = H @ Q\n",
    "\n",
    "    return Q.T, R\n",
    "\n",
    "A = np.array([[4, -1, -1, -1],\n",
    "              [-1, 3, 0, -1],\n",
    "              [-1, 0, 3, -1],\n",
    "              [-1, -1, -1, 4]], float)\n",
    "v = np.array([5,0,5,0],float) \n",
    "\n",
    "\n",
    "\n",
    "\n",
    "def resolver_QR(Q,R,v):\n",
    "    \n",
    "    y = Q.T@ v\n",
    "\n",
    "    n = len(y)\n",
    "    x = np.zeros(n)\n",
    "    x[n-1] = y[n-1]/R[n-1][n-1]\n",
    "\n",
    "    for i in list(range(n-1,0,-1)):\n",
    "        s = 0\n",
    "        for j in list(range(i+1,n+1,1)):\n",
    "            s = s + R[i-1][j-1]*x[j-1]\n",
    "\n",
    "        x[i-1] = (y[i-1]-s)/(R[i-1][i-1])\n",
    "    return x\n",
    "\n",
    "\n",
    "\n",
    "\n",
    "Q, R = QR(A)\n",
    "resolver_QR(Q,R,v)\n",
    "\n",
    "\n",
    "\n",
    "A1 = np.array([[0,1,4,1],\n",
    "               [3,4,-1,-1],\n",
    "               [1,-4,1,5],\n",
    "               [2,-2,1,3]],float)\n",
    "v1 = np.array([-4,3,9,7],float)\n",
    "\n",
    "Q, R = QR(A1)\n",
    "resolver_QR(Q,R,v1)"
   ]
  },
  {
   "cell_type": "markdown",
   "id": "96a2f2d5-1ac2-4166-b5b1-0c02e140f3fa",
   "metadata": {},
   "source": [
    "# Exercício 5"
   ]
  },
  {
   "cell_type": "code",
   "execution_count": 18,
   "id": "444c2b59-8ae9-439a-86d1-78cc72dce26e",
   "metadata": {},
   "outputs": [
    {
     "name": "stdout",
     "output_type": "stream",
     "text": [
      "[[ 1.        +0.j      0.        +0.j     -0.99999775-0.0015j]\n",
      " [-0.        -0.j      1.        -0.j     -0.50000225+0.003j ]\n",
      " [-0.        +0.j     -0.        +0.j      1.        -0.j    ]]\n",
      "R =  [0.01799904 0.02099889 0.01499923]\n",
      "theta =  [1.56079668 1.56093954 1.55999669]\n"
     ]
    }
   ],
   "source": [
    "from cmath import polar\n",
    "\n",
    "R1 , R3 , R5 = 10**3,10**3,10**3\n",
    "R2 , R4 , R6 = 2*10**3,2*10**3,2*10**3\n",
    "C1 = 10**(-3)\n",
    "C2 = 0.5 * 10**(-3)\n",
    "x_p = 3\n",
    "w = 10**3\n",
    "\n",
    "A = np.array([[(1/R1) + (1/R4) + (w*C1)*1j,-(w*C1)*1j,0],\n",
    "             [-(C1*w)*1j,(1/R2) + (1/R5)+ (w*C1)*1j+ (w*C2)*1j,-(w*C1)*1j],\n",
    "             [0,-(C2*w)*1j,(1/R3) + (1/R6) + (w*C2)*1j]],complex)\n",
    "v = np.array([x_p/R1,x_p/R2,x_p/R3],complex)\n",
    "\n",
    "\n",
    "\n",
    "\n",
    "import numpy as np\n",
    "\n",
    "def Gaussian_elimintation_pivo_total(A, v):\n",
    "    Am = A.copy()\n",
    "    vm = v.copy()\n",
    "    N = len(v)\n",
    "    A_lines = np.arange(0, N, 1)\n",
    "    A_columns = np.arange(0, N, 1)\n",
    "    \n",
    "    for m in range(N):\n",
    "                \n",
    "        # Calculando o maior elemento na coluna\n",
    "        maior_coluna = np.abs(Am[A_lines[m], A_columns[m]])\n",
    "        maior_indice_coluna = A_columns[m]\n",
    "        for k1 in A_columns[m : N : 1]:\n",
    "            count_coluna = np.abs(Am[A_lines[m], k1])\n",
    "            if count_coluna > maior_coluna:\n",
    "                maior_coluna = count_coluna\n",
    "                maior_indice_coluna = k1\n",
    "                \n",
    "        # Trocando a ordem no vetor de leitura de colunas\n",
    "        posicao_coluna = np.where(A_columns == maior_indice_coluna)\n",
    "        m_tempo_coluna = A_columns[m]\n",
    "        A_columns[posicao_coluna] = m_tempo_coluna\n",
    "        A_columns[m] = maior_indice_coluna\n",
    "        \n",
    "        # Calculando o maior elemento na linha\n",
    "        maior = np.abs(Am[A_lines[m], A_columns[m]])\n",
    "        maior_indice = A_lines[m]\n",
    "        for k in A_lines[m : N : 1]:\n",
    "            count = np.abs(Am[k, A_columns[m]])\n",
    "            if count > maior:\n",
    "                maior = count\n",
    "                maior_indice = k\n",
    "                \n",
    "        # Trocando a ordem no vetor de leitura de linhas\n",
    "        posicao = np.where(A_lines == maior_indice)\n",
    "        m_tempo = A_lines[m]\n",
    "        A_lines[posicao] = m_tempo\n",
    "        A_lines[m] = maior_indice\n",
    "    \n",
    "        # Dividindo pelo elemento diagonal\n",
    "        div = Am[A_lines[m], A_columns[m]]\n",
    "        Am[A_lines[m], :] /= div\n",
    "        vm[A_lines[m]] /= div\n",
    "    \n",
    "        # Subtraindo das linhas inferiores\n",
    "        for i in A_lines[m + 1: N : 1]:\n",
    "            mult = Am[i, A_columns[m]]\n",
    "            Am[i, :] -= mult * Am[A_lines[m], :]\n",
    "            vm[i] -= mult * vm[A_lines[m]]\n",
    "    \n",
    "    # Substituição retroativa\n",
    "    x = np.empty(N, complex)\n",
    "    for m in range(N - 1, -1, -1):\n",
    "        x[A_columns[m]] = vm[A_lines[m]]\n",
    "        for i in range(m + 1, N):\n",
    "            x[A_columns[m]] -= Am[A_lines[m], A_columns[i]] * x[A_columns[i]]\n",
    "\n",
    "    print(Am[:, A_columns])\n",
    "    return x\n",
    "\n",
    "\n",
    "x = Gaussian_elimintation_pivo_total(A, v)\n",
    "p = np.vectorize(polar)\n",
    "R,teta = p(x)\n",
    "print('R = ', R)\n",
    "print('theta = ',teta)"
   ]
  },
  {
   "cell_type": "markdown",
   "id": "7548549f-5f75-4e4e-80d3-44ea209ffffd",
   "metadata": {},
   "source": [
    "# Exercício 6"
   ]
  },
  {
   "cell_type": "code",
   "execution_count": 58,
   "id": "bc3d6ec0-cda2-458d-a41e-1ce20ceb29af",
   "metadata": {},
   "outputs": [
    {
     "name": "stdout",
     "output_type": "stream",
     "text": [
      "[[-1.  0.  0.  0.  0.  0.  0.  0.  0.  0.]\n",
      " [-2.  1. -2.  0.  0.  0.  0.  0.  0.  0.]\n",
      " [ 0. -2.  1. -2.  0.  0.  0.  0.  0.  0.]\n",
      " [ 0.  0. -2.  1. -2.  0.  0.  0.  0.  0.]\n",
      " [ 0.  0.  0. -2.  1. -2.  0.  0.  0.  0.]\n",
      " [ 0.  0.  0.  0. -2.  1. -2.  0.  0.  0.]\n",
      " [ 0.  0.  0.  0.  0. -2.  1. -2.  0.  0.]\n",
      " [ 0.  0.  0.  0.  0.  0. -2.  1. -2.  0.]\n",
      " [ 0.  0.  0.  0.  0.  0.  0. -2.  1. -2.]\n",
      " [ 0.  0.  0.  0.  0.  0.  0.  0.  0. -1.]]\n"
     ]
    }
   ],
   "source": [
    "# gerador de matrizes banded\n",
    "N = 10\n",
    "A = np.zeros([N,N], float)\n",
    "a = 1\n",
    "k = 2\n",
    "A[0,0] = 1-2\n",
    "A[N - 1,N - 1] = 1-2\n",
    "for i in range (1,N - 1):\n",
    "    A[i,i] += a\n",
    "    A[i,i + 1] += -k\n",
    "    A[i,i - 1] += -k\n",
    "\n",
    "print(A)"
   ]
  },
  {
   "cell_type": "code",
   "execution_count": 57,
   "id": "6b03852b-047c-4148-849d-70b897d5ae80",
   "metadata": {},
   "outputs": [
    {
     "data": {
      "text/plain": [
       "array([[-1., -1., -1., -1., -1., -1., -1., -1., -1., -1.],\n",
       "       [20., 21., 21., 21., 21., 21., 21., 21., 21., 20.],\n",
       "       [-1., -1., -1., -1., -1., -1., -1., -1., -1., -1.]])"
      ]
     },
     "execution_count": 57,
     "metadata": {},
     "output_type": "execute_result"
    }
   ],
   "source": [
    "N = 10\n",
    "k = 1\n",
    "alpha = 21\n",
    "C = 10\n",
    "\n",
    "A = np.empty([3,N] ,float)\n",
    "A[0, :] = -k\n",
    "A[1, :] = alpha\n",
    "A[2, :] = -k\n",
    "A[1,0] = alpha - k\n",
    "A[1,N-1] = alpha - k\n",
    "v = np.zeros(N,float)\n",
    "v[0] = C\n",
    "v,A\n",
    "def banded(A,v,up,down):\n",
    "\n",
    "    \n",
    "    N = len(v)\n",
    "\n",
    "    # Gaussian elimination\n",
    "    for m in range(N):\n",
    "\n",
    "        # Normalization factor, seleciona o elemento da diagona principa\n",
    "        \n",
    "        div = A[up,m]\n",
    "\n",
    "        # Update the vector first\n",
    "        v[m] /= div\n",
    "        for k in range(1,down+1):\n",
    "            if m+k<N:\n",
    "                v[m+k] -= A[up+k,m]*v[m]\n",
    "\n",
    "        # Now normalize the pivot row of A and subtract from lower ones\n",
    "        for i in range(up):\n",
    "            j = m + up - i\n",
    "            if j<N:\n",
    "                A[i,j] /= div\n",
    "                for k in range(1,down+1):\n",
    "                    A[i+k,j] -= A[up+k,m]*A[i,j]\n",
    "\n",
    "    # Backsubstitution\n",
    "    for m in range(N-2,-1,-1):\n",
    "        for i in range(up):\n",
    "            j = m + up - i\n",
    "            if j<N:\n",
    "                v[m] -= A[i,j]*v[j]\n",
    "\n",
    "    return v\n",
    "A\n",
    "#banded(A,v,1,1)"
   ]
  },
  {
   "cell_type": "code",
   "execution_count": 83,
   "id": "94619824-ab78-4fe9-a6fe-3f77e07c9eb7",
   "metadata": {},
   "outputs": [
    {
     "data": {
      "text/plain": [
       "array([3.7254902 , 3.43137255, 2.74509804, 2.25490196, 1.56862745,\n",
       "       1.2745098 ])"
      ]
     },
     "execution_count": 83,
     "metadata": {},
     "output_type": "execute_result"
    }
   ],
   "source": [
    "N = 6\n",
    "k = 1\n",
    "alpha = 4\n",
    "V_mais = 5\n",
    "\n",
    "A = np.empty([5,N] ,float)\n",
    "A[0, :] = -k\n",
    "A[1, :] = -k\n",
    "A[2, :] = alpha\n",
    "A[3, :] = -k\n",
    "A[4, :] = -k\n",
    "A[2,0] = alpha - k\n",
    "A[2,N-1] = alpha - k\n",
    "v = np.zeros(N,float)\n",
    "v[0] = V_mais\n",
    "v[1] = V_mais\n",
    "\n",
    "banded(A,v,2,2)"
   ]
  },
  {
   "cell_type": "markdown",
   "id": "689a1620-b814-44f6-ae5b-4045d5fb4ead",
   "metadata": {},
   "source": [
    "# Exercício 8"
   ]
  },
  {
   "cell_type": "code",
   "execution_count": 91,
   "id": "0da117be-e7b6-407c-838d-7c0c89ee02f3",
   "metadata": {},
   "outputs": [
    {
     "name": "stdout",
     "output_type": "stream",
     "text": [
      "[[ 4.00000000e+00 -1.00000000e+00 -1.00000000e+00 -1.00000000e+00]\n",
      " [-1.00000000e+00  3.00000000e+00  6.62478172e-17 -1.00000000e+00]\n",
      " [-1.00000000e+00 -1.51956246e-16  3.00000000e+00 -1.00000000e+00]\n",
      " [-1.00000000e+00 -1.00000000e+00 -1.00000000e+00  4.00000000e+00]]\n"
     ]
    }
   ],
   "source": [
    "def QR(A):\n",
    "\n",
    "    # Função temporária\n",
    "    def householder(x):\n",
    "        alpha = x[0]\n",
    "\n",
    "        # Calcula a norma excluido o segundo elemento \n",
    "        s = np.power(np.linalg.norm(x[1:]), 2)\n",
    "        v = x.copy()\n",
    "\n",
    "        if s == 0:\n",
    "            tau = 0\n",
    "        else:\n",
    "            t = np.sqrt(alpha**2 + s)\n",
    "            v[0] = alpha - t if alpha <= 0 else -s / (alpha + t)\n",
    "            tau = 2 * v[0]**2 / (s + v[0]**2)\n",
    "            v /= v[0]\n",
    "\n",
    "        return v, tau\n",
    "\n",
    "    \n",
    "    m, n = A.shape\n",
    "    R = A.copy()\n",
    "    Q = np.identity(m)\n",
    "\n",
    "    for j in range(min(m, n)):\n",
    "        v, tau = householder(R[j:, j])\n",
    "        H = np.identity(m)\n",
    "        H[j:, j:] -= tau * np.outer(v, v)\n",
    "        R = H @ R\n",
    "        Q = H @ Q\n",
    "\n",
    "    return Q.T, R\n",
    "\n",
    "A = np.array([[4, -1, -1, -1],\n",
    "              [-1, 3, 0, -1],\n",
    "              [-1, 0, 3, -1],\n",
    "              [-1, -1, -1, 4]], float)\n",
    "v = np.array([5,0,5,0],float) \n",
    "\n",
    "\n",
    "\n",
    "\n",
    "def resolver_QR(Q,R,v):\n",
    "    \n",
    "    y = Q.T@ v\n",
    "\n",
    "    n = len(y)\n",
    "    x = np.zeros(n)\n",
    "    x[n-1] = y[n-1]/R[n-1][n-1]\n",
    "\n",
    "    for i in list(range(n-1,0,-1)):\n",
    "        s = 0\n",
    "        for j in list(range(i+1,n+1,1)):\n",
    "            s = s + R[i-1][j-1]*x[j-1]\n",
    "\n",
    "        x[i-1] = (y[i-1]-s)/(R[i-1][i-1])\n",
    "    return x\n",
    "\n",
    "\n",
    "\n",
    "\n",
    "Q, R = QR(A)\n"
   ]
  },
  {
   "cell_type": "code",
   "execution_count": 30,
   "id": "e7c912da-d0c1-454e-bcbc-b223877f49c9",
   "metadata": {},
   "outputs": [
    {
     "name": "stdout",
     "output_type": "stream",
     "text": [
      "[[ 0.91766294  0.08721078  0.08620832  0.37796447]\n",
      " [-0.22941573  0.88954992 -0.11494443  0.37796447]\n",
      " [-0.22941573 -0.10465293  0.89081931  0.37796447]\n",
      " [-0.22941573 -0.43605388 -0.4310416   0.75592895]] \n",
      "\n",
      "\n",
      " [[ 4.35889894 -1.3764944  -1.3764944  -1.3764944 ]\n",
      " [ 0.          3.01749286  0.03488431 -2.61632329]\n",
      " [ 0.          0.          3.01729121 -2.58624961]\n",
      " [ 0.          0.          0.          1.88982237]] \n",
      "\n",
      "\n",
      " [[ 4.00000000e+00 -1.00000000e+00 -1.00000000e+00 -1.00000000e+00]\n",
      " [-1.00000000e+00  3.00000000e+00 -2.32698062e-18 -1.00000000e+00]\n",
      " [-1.00000000e+00  1.58515967e-17  3.00000000e+00 -1.00000000e+00]\n",
      " [-1.00000000e+00 -1.00000000e+00 -1.00000000e+00  4.00000000e+00]]\n"
     ]
    }
   ],
   "source": [
    "# decomposição Qr\n",
    "# primeiro criar uma função que calcula u,q\n",
    "\n",
    "\n",
    "def achar_u (a,q,ordem):\n",
    "    N = len(a)\n",
    "    u = np.zeros(N)\n",
    "    for i in range (ordem ):\n",
    "        som += np.dot(q[:,i],a)*q[:,i]\n",
    "    return u\n",
    "\n",
    "def QR (A):\n",
    "\n",
    "    def achar_u (a,q,ordem):\n",
    "        N = len(a)\n",
    "        u = np.zeros(N,float)\n",
    "        som = np.zeros(N,float)\n",
    "        multi = 0\n",
    "        for i in range ( ordem + 1):\n",
    "            multi = np.dot(q[:,i],a)\n",
    "            som += multi * q[:,i]\n",
    "        u = a - som\n",
    "        return u\n",
    "        \n",
    "    # Criando as matrizes\n",
    "    N = len(A)\n",
    "    R = np.zeros([N,N],float)\n",
    "    q = np.zeros([N,N],float)\n",
    "    a_conta = np.zeros([N,N],float)\n",
    "    a = A.T\n",
    "    # Fazendo o primeiro caso\n",
    "    u = A[:,0]\n",
    "\n",
    "    for i in range(N):\n",
    "\n",
    "        \n",
    "        norm_u = np.linalg.norm(u)\n",
    "        \n",
    "        q[:,i] = u / norm_u\n",
    "\n",
    "    \n",
    "        for j in range (i + 1 , N):\n",
    "            R[ i , j ] = np.dot(a[j, :] , q[:,i])  \n",
    "        \n",
    "        R[i,i] = norm_u\n",
    "        if i < (N - 1):\n",
    "            u = achar_u( A[ : ,i + 1 ] , q , i)\n",
    "        q1 = u / norm_u\n",
    "    return q,R\n",
    "    \n",
    "\n",
    "A = np.array([[4, -1, -1, -1],\n",
    "              [-1, 3, 0, -1],\n",
    "              [-1, 0, 3, -1],\n",
    "              [-1, -1, -1, 4]], float)\n",
    "v = np.array([5,0,5,0],float) \n",
    "\n",
    "Q,R = QR(A)\n",
    "\n",
    "print(Q,'\\n\\n\\n',R,'\\n\\n\\n',Q@R)"
   ]
  },
  {
   "cell_type": "markdown",
   "id": "c61539ae-905e-41ef-999d-e406528a3d73",
   "metadata": {},
   "source": [
    "# Exercício 9"
   ]
  },
  {
   "cell_type": "code",
   "execution_count": 17,
   "id": "6b5a05ba-8be8-4a19-9735-60685dcda92d",
   "metadata": {},
   "outputs": [
    {
     "data": {
      "text/plain": [
       "array([-2.41137893, 12.41137968, -0.76296442,  0.88476498, 10.76296517,\n",
       "        2.53133081,  9.11523577,  4.17718796,  5.82281279,  7.46866994])"
      ]
     },
     "execution_count": 17,
     "metadata": {},
     "output_type": "execute_result"
    }
   ],
   "source": [
    "import scipy.constants as const\n",
    "import numpy as np\n",
    "def Hmn (m,n):\n",
    "    H = np.zeros([m,n],float)\n",
    "    hbar = 1/(2*np.pi)\n",
    "    L = 5\n",
    "    e = 1\n",
    "    M = 0.511e6\n",
    "    a = 10\n",
    "    for i in range(m):\n",
    "        E0 = (hbar**2 * np.pi**2 * (i + 1)**2) / (2 * M * L**2)  # Energia do estado fundamental\n",
    "        for j in range(n):\n",
    "            if i == j:\n",
    "                H[i, j] = E0 + a / 2  # Diagonal principal com a energia do estado fundamental + a/2\n",
    "            else:\n",
    "                if (i + 1) % 2 == 0 and (j + 1) % 2 == 0:\n",
    "                    H[i, j] = 0  # Termos pares-pares são zero\n",
    "                elif (i + 1) % 2 != 0 and (j + 1) % 2 != 0:\n",
    "                    H[i, j] = 0  # Termos ímpares-ímpares são zero\n",
    "                else:\n",
    "                    factor = -(8 * a / np.pi**2) if (i + 1) % 2 == 0 else -(8 * a / np.pi)\n",
    "                    H[i, j] = factor * ((i + 1) * (j + 1)) / ((i + 1)**2 - (j + 1)**2)**2\n",
    "    return H\n",
    "\n",
    "            \n",
    "H = Hmn(10,10)\n",
    "einvalue,einvector = np.linalg.eig(H)\n",
    "einvalue"
   ]
  },
  {
   "cell_type": "markdown",
   "id": "1309ed07-b7fb-40d0-8903-cf0f286520e5",
   "metadata": {},
   "source": [
    "# Exercício 10"
   ]
  },
  {
   "cell_type": "code",
   "execution_count": 71,
   "id": "1ac87d6e-7364-44f7-b6a0-f44d1662c497",
   "metadata": {},
   "outputs": [
    {
     "name": "stdout",
     "output_type": "stream",
     "text": [
      "x =  0.8646647167633873\n",
      "x =  0.8225966691808597\n",
      "x =  0.8070247503317746\n",
      "x =  0.8009201942366403\n",
      "x =  0.7984747083247583\n",
      "x =  0.7974866394625985\n",
      "x =  0.797086049491047\n",
      "x =  0.796923413762181\n",
      "x =  0.7968573480008734\n",
      "x =  0.7968305046795713\n",
      "x =  0.7968195968986895\n",
      "x =  0.7968151643557075\n",
      "x =  0.7968133630966887\n",
      "x =  0.7968126311118459\n",
      "0.7968126311118459\n"
     ]
    },
    {
     "data": {
      "text/plain": [
       "0.7968123336514795"
      ]
     },
     "execution_count": 71,
     "metadata": {},
     "output_type": "execute_result"
    }
   ],
   "source": [
    "# relaxação\n",
    "# converge exponencialmente \n",
    "# se a derivada maior que 1 da ruim, ai só inverter ou achar outra formulação\n",
    "# ei = x_{-1} - x_{i}/ 2*x_{-1} - x_{-2} - x\n",
    "\n",
    "def f(c,x):\n",
    "    return 1 - np.exp(-c*x)\n",
    "def relax (f,xi,erro):\n",
    "    x = np.zeros([100])\n",
    "    x[0] = xi\n",
    "    err = xi\n",
    "    i = 1\n",
    "    while(err > erro):\n",
    "        x[i] = f(2,x[i - 1])\n",
    "        print(\"x = \",x[i])\n",
    "        if(i >= 3):\n",
    "            err = (x[i - 1]-x[i])**2/(2*x[i - 1] - x[i - 1] - x[i])\n",
    "        i += 1\n",
    "    return x[i - 1]\n",
    "    \n",
    "0.7968126311118459"
   ]
  },
  {
   "cell_type": "code",
   "execution_count": 30,
   "id": "cdb5362b-b163-4afd-adbc-090055991eab",
   "metadata": {},
   "outputs": [
    {
     "data": {
      "image/png": "[encoded data removed]",
      "text/plain": [
       "<Figure size 432x288 with 1 Axes>"
      ]
     },
     "metadata": {
      "needs_background": "light"
     },
     "output_type": "display_data"
    }
   ],
   "source": [
    "import matplotlib.pyplot as plt\n",
    "import numpy as np\n",
    "\n",
    "\n",
    "def relax(f, xi, erro, max_iter=1000):  # Adiciona um parâmetro para o número máximo de iterações\n",
    "    c = np.arange(0, 3, 0.01)\n",
    "    x = np.zeros((len(c), len(c)))\n",
    "    err = np.zeros(len(c))\n",
    "    \n",
    "    for j, cj in enumerate(c):\n",
    "        err[j] = xi\n",
    "        x[j, 0] = xi\n",
    "        i = 1\n",
    "        while i < len(c) and i < max_iter:  # Adiciona uma condição de parada adicional\n",
    "            x[j, i] = f(cj, x[j, i - 1])\n",
    "            if i >= 3:\n",
    "                denominator = 2 * x[j, i - 1] - x[j, i - 2] - x[j, i]\n",
    "                if denominator != 0:  # Evita a divisão por zero\n",
    "                    err[j] = np.abs((x[j, i - 1] - x[j, i])**2 / denominator)\n",
    "                if err[j] < erro:\n",
    "                    break\n",
    "            i += 1\n",
    "    return x\n",
    "\n",
    "\n",
    "\n",
    "\n",
    "# Exemplo de função f\n",
    "def f(c, x):\n",
    "    return 1 - np.exp(-c * x)\n",
    "\n",
    "c = np.arange(0, 3, 0.01)\n",
    "x = relax(f, 1, 1e-3)\n",
    "for i in range(len(c)):\n",
    "    plt.plot(c,x[i,:],label =f\" c({i})\")"
   ]
  },
  {
   "cell_type": "markdown",
   "id": "7cd4f546-3c16-465c-838c-55fc61d38bb9",
   "metadata": {},
   "source": [
    "# exercicio 11"
   ]
  },
  {
   "cell_type": "code",
   "execution_count": 36,
   "id": "c64d6498-119c-4c9d-aba7-6d12bb44052d",
   "metadata": {},
   "outputs": [
    {
     "name": "stdout",
     "output_type": "stream",
     "text": [
      "1 : x =  0.8646647167633873\n",
      "2 : x =  0.8225966691808597\n",
      "3 : x =  0.8070247503317746\n",
      "4 : x =  0.8009201942366403\n",
      "5 : x =  0.7984747083247583\n",
      "6 : x =  0.7974866394625985\n",
      "7 : x =  0.797086049491047\n",
      "8 : x =  0.796923413762181\n",
      "9 : x =  0.7968573480008734\n",
      "10 : x =  0.7968305046795713\n",
      "11 : x =  0.7968195968986895\n",
      "12 : x =  0.7968151643557075\n",
      "13 : x =  0.7968133630966887\n",
      "14 : x =  0.7968126311118459\n",
      "0.7968126311118459\n",
      "1 : x =  0.7699300184977584\n",
      "2 : x =  0.796550101836636\n",
      "3 : x =  0.7968144830832113\n",
      "0.7968144830832113\n"
     ]
    }
   ],
   "source": [
    "# Exemplo de função f\n",
    "def f(c, x):\n",
    "    return 1 - np.exp(-c * x)\n",
    "\n",
    "def relax (f,xi,erro):\n",
    "    x = np.zeros([100])\n",
    "    x[0] = xi\n",
    "    err = xi\n",
    "    i = 1\n",
    "    while(err > erro):\n",
    "        x[i] = f(2,x[i - 1])\n",
    "        print(i,\": x = \",x[i])\n",
    "        if(i >= 3):\n",
    "            err = (x[i - 1]-x[i])**2/(2*x[i - 1] - x[i - 1] - x[i])\n",
    "        i += 1\n",
    "    return x[i - 1]\n",
    " \n",
    "def sobre_relax (f,xi,w,erro):\n",
    "    x = np.zeros([100])\n",
    "    x[0] = xi\n",
    "    err = xi\n",
    "    i = 1\n",
    "    while(err > erro):\n",
    "        x[i] = (1 + w)*f(2,x[i - 1]) - w*x[i-1]\n",
    "        print(i,\": x = \",x[i])\n",
    "        if(i >= 3):\n",
    "            err = (x[i - 1]-x[i])/((1 -1/((1+w)*(x[i - 1] - x[i])/x[i-2] - x[i -1]) - w))\n",
    "        i += 1\n",
    "    return x[i - 1]\n",
    "\n",
    "print(relax(f,1,1e-6))\n",
    "print(sobre_relax(f,1,0.7,1e-6))"
   ]
  },
  {
   "cell_type": "markdown",
   "id": "9dfceda6-7010-4a7d-bea2-de2575fafd56",
   "metadata": {},
   "source": [
    "# Exercício 12"
   ]
  },
  {
   "cell_type": "code",
   "execution_count": 101,
   "id": "b7e6c032-271f-4df9-b05e-3aa6ca589992",
   "metadata": {},
   "outputs": [
    {
     "name": "stdout",
     "output_type": "stream",
     "text": [
      "1 : x =  2.0  y =  0.5\n",
      "2 : x =  2.5  y =  0.4\n",
      "3 : x =  2.9000000000000004  y =  0.3448275862068966\n",
      "4 : x =  3.2448275862068976  y =  0.308182784272051\n",
      "5 : x =  3.553010370478949  y =  0.2814514723370197\n",
      "6 : x =  3.8344618428159687  y =  0.26079278944281153\n",
      "7 : x =  4.09525463225878  y =  0.24418506046556612\n",
      "8 : x =  4.339439692724346  y =  0.2304444976333314\n",
      "9 : x =  4.569884190357677  y =  0.21882392602201406\n",
      "10 : x =  4.788708116379691  y =  0.2088245881137582\n",
      "11 : x =  4.997532704493449  y =  0.20009874054468246\n",
      "12 : x =  5.197631445038131  y =  0.19239532671263954\n",
      "13 : x =  5.390026771750771  y =  0.18552783545362303\n",
      "14 : x =  5.575554607204394  y =  0.17935435493858504\n",
      "15 : x =  5.754908962142978  y =  0.1737646949027715\n",
      "16 : x =  5.928673657045749  y =  0.16867179032726498\n",
      "17 : x =  6.097345447373014  y =  0.16400579705236168\n",
      "18 : x =  6.2613512444253745  y =  0.1597099349585799\n",
      "19 : x =  6.421061179383954  y =  0.1557374975978568\n",
      "20 : x =  6.576798676981811  y =  0.15204965958588754\n",
      "21 : x =  6.728848336567698  y =  0.1486138414750016\n",
      "22 : x =  6.8774621780427  y =  0.14540247174206872\n",
      "23 : x =  7.022864649784769  y =  0.14239203656454452\n",
      "24 : x =  7.165256686349315  y =  0.1395623414168988\n",
      "25 : x =  7.3048190277662135  y =  0.13689593078198356\n",
      "26 : x =  7.4417149585481965  y =  0.13437762741118076\n",
      "27 : x =  7.576092585959377  y =  0.13199416304036202\n",
      "28 : x =  7.7080867489997384  y =  0.12973387982819054\n",
      "29 : x =  7.837820628827928  y =  0.12758648702956352\n",
      "30 : x =  7.965407115857491  y =  0.12554286120657976\n",
      "31 : x =  8.090949977064067  y =  0.12359488105040367\n",
      "32 : x =  8.214544858114467  y =  0.12173528993662779\n",
      "33 : x =  8.336280148051092  y =  0.11995758086822285\n",
      "34 : x =  8.45623772891931  y =  0.11825589961598648\n",
      "35 : x =  8.574493628535292  y =  0.11662496274672968\n",
      "36 : x =  8.691118591282017  y =  0.11505998790570991\n",
      "37 : x =  8.806178579187721  y =  0.11355663424352667\n",
      "38 : x =  8.919735213431242  y =  0.11211095128633528\n",
      "39 : x =  9.031846164717571  y =  0.11071933486936994\n",
      "40 : x =  9.142565499586935  y =  0.109378489007837\n",
      "41 : x =  9.251943988594766  y =  0.10808539278153204\n",
      "42 : x =  9.360029381376291  y =  0.10683727147157311\n",
      "43 : x =  9.466866652847859  y =  0.10563157131818009\n",
      "44 : x =  9.572498224166033  y =  0.10446593737416134\n",
      "45 : x =  9.676964161540187  y =  0.10333819401485095\n",
      "46 : x =  9.780302355555031  y =  0.10224632773566736\n",
      "47 : x =  9.882548683290691  y =  0.10118847192635526\n",
      "48 : x =  9.983737155217039  y =  0.10016289335877052\n",
      "49 : x =  10.083900048575801  y =  0.09916798016470166\n",
      "50 : x =  10.183068028740495  y =  0.09820223111321838\n",
      "51 : x =  10.281270259853706  y =  0.09726424602461801\n",
      "52 : x =  10.378534505878315  y =  0.09635271718117885\n",
      "53 : x =  10.474887223059484  y =  0.09546642161441057\n",
      "54 : x =  10.570353644673887  y =  0.09460421416495104\n",
      "55 : x =  10.664957858838829  y =  0.09376502122521059\n",
      "56 : x =  10.758722880064031  y =  0.09294783508672803\n",
      "57 : x =  10.851670715150751  y =  0.09215170882432247\n",
      "58 : x =  10.943822423975066  y =  0.09137575165778089\n",
      "59 : x =  11.03519817563284  y =  0.09061912473924846\n",
      "60 : x =  11.12581730037208  y =  0.08988103732087677\n",
      "61 : x =  11.21569833769295  y =  0.08916074326279513\n",
      "62 : x =  11.304859080955739  y =  0.08845753784623532\n",
      "63 : x =  11.393316618801967  y =  0.08777075486076956\n",
      "64 : x =  11.481087373662728  y =  0.08709976393821106\n",
      "65 : x =  11.56818713760093  y =  0.08644396810885135\n",
      "66 : x =  11.654631105709774  y =  0.08580280155843668\n",
      "67 : x =  11.740433907268201  y =  0.08517572756667238\n",
      "68 : x =  11.825609634834866  y =  0.08456223661013511\n",
      "69 : x =  11.910171871444993  y =  0.08396184461431078\n",
      "70 : x =  11.994133716059297  y =  0.08337409134109204\n",
      "71 : x =  12.077507807400384  y =  0.08279853889949536\n",
      "72 : x =  12.160306346299874  y =  0.08223477036861646\n",
      "73 : x =  12.242541116668484  y =  0.0816823885229577\n",
      "74 : x =  12.324223505191435  y =  0.08114101465124851\n",
      "75 : x =  12.405364519842678  y =  0.08061028746075745\n",
      "76 : x =  12.48597480730343  y =  0.08008986205987448\n",
      "77 : x =  12.5660646693633  y =  0.07957940901243729\n",
      "78 : x =  12.645644078375733  y =  0.07907861345789549\n",
      "79 : x =  12.724722691833625  y =  0.07858717429196097\n",
      "80 : x =  12.803309866125584  y =  0.07810480340288838\n",
      "81 : x =  12.881414669528471  y =  0.07763122495897458\n",
      "82 : x =  12.959045894487446  y =  0.07716617474326429\n",
      "83 : x =  13.036212069230709  y =  0.0767093995318083\n",
      "84 : x =  13.112921468762517  y =  0.07626065651214269\n",
      "85 : x =  13.189182125274659  y =  0.07581971273894858\n",
      "86 : x =  13.265001838013607  y =  0.07538634462411405\n",
      "87 : x =  13.34038818263772  y =  0.07496033745865674\n",
      "88 : x =  13.415348520096378  y =  0.07454148496418012\n",
      "89 : x =  13.48989000506056  y =  0.07412958887173007\n",
      "90 : x =  13.564019593932292  y =  0.07372445852609492\n",
      "91 : x =  13.63774405245839  y =  0.07332591051375073\n",
      "92 : x =  13.711069962972141  y =  0.07293376831279991\n",
      "93 : x =  13.784003731284944  y =  0.07254786196338182\n",
      "94 : x =  13.856551593248327  y =  0.07216802775715533\n",
      "95 : x =  13.928719621005484  y =  0.07179410794456155\n",
      "96 : x =  14.000513728950049  y =  0.07142595045867606\n",
      "97 : x =  14.071939679408727  y =  0.07106340865455003\n",
      "98 : x =  14.14300308806328  y =  0.07070634106302374\n",
      "99 : x =  14.213709429126308  y =  0.07035461115807182\n"
     ]
    },
    {
     "data": {
      "text/plain": [
       "(14.213709429126308, 0.07035461115807182)"
      ]
     },
     "execution_count": 101,
     "metadata": {},
     "output_type": "execute_result"
    }
   ],
   "source": [
    "\n",
    "def f1(a,b,x,y):\n",
    "    return y*(a + x**2)\n",
    "\n",
    "def f2(a,b,x,y):\n",
    "    return x/(a+x**2)\n",
    "\n",
    "\n",
    "def relax_2v (fx,fy,xi,yi,erro):\n",
    "    x = np.zeros([100])\n",
    "    y = np.zeros([100])\n",
    "    x[0] = xi\n",
    "    y[0] = yi\n",
    "    i = 1\n",
    "    while(i < 100):\n",
    "        y[i] = fy(1,2,x[i - 1],y[i - 1])\n",
    "        x[i] = fx(1,2,x[i - 1],y[i-1])\n",
    "        print(i,\": x = \" ,x[i], \" y = \", y[i])\n",
    "        i += 1\n",
    "        if(np.abs(x[i - 1] - x[i - 2]) < erro):\n",
    "            break\n",
    "    return x[i - 1],y[i - 1]\n",
    "\n",
    "\n",
    "\n",
    "relax_2v(f1,f2,1,1,10e-6)"
   ]
  },
  {
   "cell_type": "markdown",
   "id": "2a06dcc5-88d1-4064-8878-f44a2e2a0009",
   "metadata": {},
   "source": [
    "# Exercício 13"
   ]
  },
  {
   "cell_type": "code",
   "execution_count": 4,
   "id": "ce64c5fd-c45f-4c5d-bb48-6b6e4bf09edd",
   "metadata": {},
   "outputs": [
    {
     "name": "stdout",
     "output_type": "stream",
     "text": [
      "0.09999999999430997\n",
      "-0.3758129098001497\n"
     ]
    }
   ],
   "source": [
    "def f(x):\n",
    "    return 5*np.exp(-x) + x - 5\n",
    "\n",
    "a = 0\n",
    "x = np.arange(-100,10000,0.1)\n",
    "for i in x:\n",
    "    a  = f(i)\n",
    "    if a < 0:\n",
    "        print(i)\n",
    "        print(f(i))\n",
    "        break\n",
    "\n"
   ]
  },
  {
   "cell_type": "code",
   "execution_count": 5,
   "id": "74ebbc09-5dfe-4c6f-ae0d-98eacf23e525",
   "metadata": {},
   "outputs": [
    {
     "name": "stdout",
     "output_type": "stream",
     "text": [
      "Número de passos =  20\n",
      "0.0028977723006411364 0.002897771955\n"
     ]
    }
   ],
   "source": [
    "x1 = 4\n",
    "x2 = 5\n",
    "# já escolher x1 e x2 de sinais opostos\n",
    "def bissec (f,x1,x2,err):\n",
    "    N = np.ceil(np.log2((x2 - x1)/err)) # definindo numero de passos\n",
    "    N = int(N)\n",
    "    print(\"Número de passos = \",N)\n",
    "\n",
    "    xtemp = 0\n",
    "    for i in range (N):\n",
    "        xtemp = 1/2 * (x2 + x1)\n",
    "        if f(xtemp)*f(x1) > 0:\n",
    "            x1 = xtemp\n",
    "        else:\n",
    "            x2 = xtemp\n",
    "    return xtemp\n",
    "            \n",
    "x = bissec(f,x1,x2,1e-6)\n",
    "kb = const.k\n",
    "h = const.h\n",
    "c = const.c\n",
    "b = h*c/(kb*x)\n",
    "print(b , const.Wien)\n"
   ]
  },
  {
   "cell_type": "code",
   "execution_count": 6,
   "id": "046d3240-5b78-470b-a4d6-a0d9756a1b8f",
   "metadata": {},
   "outputs": [
    {
     "data": {
      "text/plain": [
       "5772.454782153658"
      ]
     },
     "execution_count": 6,
     "metadata": {},
     "output_type": "execute_result"
    }
   ],
   "source": [
    "lamb = 502e-9\n",
    "T = b/lamb\n",
    "T"
   ]
  },
  {
   "cell_type": "markdown",
   "id": "2fb1c8be-b69c-431b-98cb-f35e230b5b62",
   "metadata": {},
   "source": [
    "# Exercício 14"
   ]
  },
  {
   "cell_type": "code",
   "execution_count": 69,
   "id": "cea856ac-797b-43aa-82fe-d4e57f7d3b0f",
   "metadata": {},
   "outputs": [
    {
     "data": {
      "text/plain": [
       "<matplotlib.legend.Legend at 0x7f1910a25960>"
      ]
     },
     "execution_count": 69,
     "metadata": {},
     "output_type": "execute_result"
    }
   ],
   "source": [
    "import matplotlib.pyplot as plt\n",
    "%matplotlib tk\n",
    "\n",
    "def y1 (E):\n",
    "    w = 10\n",
    "    m = 0.511e6\n",
    "    hbar = 1/(2*np.pi)\n",
    "    return np.tan((w**2*m*E)/(2*hbar**2))\n",
    "def y2 (E):\n",
    "    V = 20\n",
    "    return np.sqrt((V-E)/E)\n",
    "\n",
    "def y3 (E):\n",
    "    V = 20\n",
    "    return -1 * np.sqrt(E/(V-E))\n",
    "\n",
    "\n",
    "E = np.arange(0.1,20,0.1)\n",
    "\n",
    "\n",
    "plt.plot(E,y1(E), label = \"y1\")\n",
    "plt.plot(E,y2(E), label = \"y2\")\n",
    "plt.plot(E,y3(E), label = \"y3\")\n",
    "plt.legend()"
   ]
  },
  {
   "cell_type": "code",
   "execution_count": 80,
   "id": "c4b474e8-29dc-45a8-959c-b1547aa9d925",
   "metadata": {},
   "outputs": [
    {
     "data": {
      "text/plain": [
       "<matplotlib.legend.Legend at 0x7f19102c3280>"
      ]
     },
     "execution_count": 80,
     "metadata": {},
     "output_type": "execute_result"
    }
   ],
   "source": [
    "# par\n",
    "plt.plot(E,y1(E) - y2(E), label = \"y1\")\n",
    "plt.plot(E,zero)\n",
    "plt.legend()"
   ]
  },
  {
   "cell_type": "code",
   "execution_count": 72,
   "id": "ddfed354-445c-4c8d-a90f-4e41531822c1",
   "metadata": {},
   "outputs": [
    {
     "data": {
      "text/plain": [
       "<matplotlib.legend.Legend at 0x7f1910282380>"
      ]
     },
     "execution_count": 72,
     "metadata": {},
     "output_type": "execute_result"
    }
   ],
   "source": [
    "#impar\n",
    "zero = np.zeros(len(E))\n",
    "plt.plot(E,y1(E) - y3(E), label = \"y1\")\n",
    "plt.plot(E,zero)\n",
    "plt.legend()"
   ]
  },
  {
   "cell_type": "code",
   "execution_count": 95,
   "id": "0ff8699f-b8dd-47bb-b1c5-aade7b82b40d",
   "metadata": {},
   "outputs": [
    {
     "name": "stdout",
     "output_type": "stream",
     "text": [
      "Número de passos =  8\n",
      "Número de passos =  10\n",
      "Número de passos =  10\n"
     ]
    },
    {
     "data": {
      "text/plain": [
       "(0.71903515625, 2.96923828125, 4.17060546875)"
      ]
     },
     "execution_count": 95,
     "metadata": {},
     "output_type": "execute_result"
    }
   ],
   "source": [
    "#1,3,5\n",
    "# já escolher x1 e x2 de sinais opostos\n",
    "def bissec (f,x1,x2,err):\n",
    "    N = np.ceil(np.log2((x2 - x1)/err)) # definindo numero de passos\n",
    "    N = int(N)\n",
    "    print(\"Número de passos = \",N)\n",
    "\n",
    "    xtemp = 0\n",
    "    for i in range (N):\n",
    "        xtemp = 1/2 * (x2 + x1)\n",
    "        if f(xtemp)*f(x1) > 0:\n",
    "            x1 = xtemp\n",
    "        else:\n",
    "            x2 = xtemp\n",
    "    return xtemp\n",
    "\n",
    "def f1(E):\n",
    "    def y1 (E):\n",
    "        w = 10\n",
    "        m = 0.511e6\n",
    "        hbar = 1/(2*np.pi)\n",
    "        return np.tan((w**2*m*E)/(2*hbar**2))\n",
    "    def y3 (E):\n",
    "        V = 20\n",
    "        return -1 * np.sqrt(E/(V-E))\n",
    "    return y1(E) - y3(E)\n",
    "\n",
    "x11 = 0.659\n",
    "x12 = 0.8\n",
    "x11,x12\n",
    "err = 1e-3\n",
    "E1 = bissec (f1,x11,x12,err)\n",
    "x31 = 2.3\n",
    "x32 = 3\n",
    "E3 = bissec (f1,x31,x32,err)\n",
    "x51 = 3.5\n",
    "x52 = 4.2\n",
    "E5 = bissec (f1,x51,x52,err)\n",
    "E5\n",
    "E1,E3,E5"
   ]
  },
  {
   "cell_type": "code",
   "execution_count": 94,
   "id": "08fa0a52-a344-4a2a-a1f1-4d5a08aaf038",
   "metadata": {},
   "outputs": [
    {
     "name": "stdout",
     "output_type": "stream",
     "text": [
      "Número de passos =  7\n",
      "Número de passos =  9\n",
      "Número de passos =  7\n"
     ]
    },
    {
     "data": {
      "text/plain": [
       "(0.71903515625,\n",
       " 1.8273437500000003,\n",
       " 2.96923828125,\n",
       " 3.1273437499999996,\n",
       " 4.1208984375,\n",
       " 4.3257812499999995)"
      ]
     },
     "execution_count": 94,
     "metadata": {},
     "output_type": "execute_result"
    }
   ],
   "source": [
    "# 2,4,6\n",
    "def f2(E):\n",
    "    def y1 (E):\n",
    "        w = 10\n",
    "        m = 0.511e6\n",
    "        hbar = 1/(2*np.pi)\n",
    "        return np.tan((w**2*m*E)/(2*hbar**2))\n",
    "    def y2 (E):\n",
    "        V = 20\n",
    "        return np.sqrt((V-E)/E)\n",
    "    return y1(E) - y2(E)\n",
    "\n",
    "x21 = 1.8\n",
    "x22 = 1.9\n",
    "E2 = bissec (f1,x21,x22,err)\n",
    "x41 = 3.1\n",
    "x42 = 3.5\n",
    "E4 = bissec (f1,x41,x42,err)\n",
    "x61 = 4.3\n",
    "x62 = 4.4\n",
    "E6 = bissec (f1,x61,x62,err)\n",
    "E1,E2,E3,E4,E5,E6"
   ]
  },
  {
   "cell_type": "markdown",
   "id": "96c407ba-de1a-44fd-a9c5-79ab33eb8e13",
   "metadata": {},
   "source": [
    "# exercício 15"
   ]
  },
  {
   "cell_type": "code",
   "execution_count": 14,
   "id": "5a5ff50a-cef3-458a-be33-21ad59d677b8",
   "metadata": {},
   "outputs": [
    {
     "data": {
      "text/plain": [
       "[<matplotlib.lines.Line2D at 0x7f0068070310>]"
      ]
     },
     "execution_count": 14,
     "metadata": {},
     "output_type": "execute_result"
    }
   ],
   "source": [
    "import numpy as np\n",
    "import matplotlib.pyplot as plt\n",
    "%matplotlib tk\n",
    "def f(x):\n",
    "    return 924*x**6 - 2772*x**5 + 3150*x**4 - 1680*x**3 + 420*x**2 - 42*x +1 \n",
    "\n",
    "def f_(x):\n",
    "    return 5*924*x**5 - 4*2772*x**4 + 4*3150*x**3 - 3*1680*x**2 + 2*420*x - 42\n",
    "\n",
    "\n",
    "\n",
    "def Newton_Raphson (f,f_,xi,err):\n",
    "    err = xi\n",
    "\n",
    "    while True:\n",
    "        xtemp = xi\n",
    "        xi = xi - f(xi)/f_(xi)\n",
    "        if np.abs(xi - xtemp) < err:\n",
    "            break\n",
    "    return xi\n",
    "\n",
    "\n",
    "x = np.arange(0,1,0.01)\n",
    "zeros = np.zeros(len(x))\n",
    "plt.plot(x,f(x))\n",
    "plt.plot(x,zeros)"
   ]
  },
  {
   "cell_type": "code",
   "execution_count": 15,
   "id": "c3285dba-7e9d-4089-a146-6144bc9065f4",
   "metadata": {},
   "outputs": [
    {
     "data": {
      "text/plain": [
       "(0.033364968376891554,\n",
       " 0.1725035109737562,\n",
       " 0.35988710260039336,\n",
       " 0.6002764693610899,\n",
       " 0.8199285801251613,\n",
       " 0.9580861263170594)"
      ]
     },
     "execution_count": 15,
     "metadata": {},
     "output_type": "execute_result"
    }
   ],
   "source": [
    "p1 = Newton_Raphson (f,f_,0.01,1e-10)\n",
    "p2 = Newton_Raphson (f,f_,0.18,1e-10)\n",
    "p3 = Newton_Raphson (f,f_,0.362,1e-10)\n",
    "p4 = Newton_Raphson (f,f_,0.6,1e-10)\n",
    "p5 = Newton_Raphson (f,f_,0.82,1e-10)\n",
    "p6 = Newton_Raphson (f,f_,0.958,1e-10)\n",
    "\n",
    "p1,p2,p3,p4,p5,p6"
   ]
  },
  {
   "cell_type": "code",
   "execution_count": 47,
   "id": "0534ceb7-3601-4931-bdf1-6e822b3093f6",
   "metadata": {},
   "outputs": [],
   "source": [
    "# x1 e x2 não podem conter a raiz e idealmente proximos\n",
    "def secante (f,x1,x2,err):\n",
    "    xtemp = 0\n",
    "    while True:\n",
    "        xtemp = x2 - f(x2)*((x2-x1)/(f(x2) - f(x1)))\n",
    "        if np.abs(xtemp - x2) < err:\n",
    "            break\n",
    "        x1 = x2\n",
    "        x2 = xtemp\n",
    "    return xtemp\n",
    "\n"
   ]
  },
  {
   "cell_type": "code",
   "execution_count": 44,
   "id": "4e3105e2-b8a4-4d29-9d68-34b3810e5eb8",
   "metadata": {},
   "outputs": [
    {
     "data": {
      "text/plain": [
       "[<matplotlib.lines.Line2D at 0x7f0067d2cdc0>]"
      ]
     },
     "execution_count": 44,
     "metadata": {},
     "output_type": "execute_result"
    }
   ],
   "source": [
    "import matplotlib.pyplot as plt\n",
    "import numpy as np\n",
    "%matplotlib tk\n",
    "\n",
    "def f (r):\n",
    "    G = 6.674e-11 \n",
    "    M = 5.974e24 \n",
    "    m = 7.348e22\n",
    "    R = 3.844e8\n",
    "    w = 2.662e-6\n",
    "    return ((G*M)/r**2) - (G*m)/((R-r)**2) - (w**2 *r)\n",
    "\n",
    "\n",
    "def f_(r):\n",
    "    G = 6.674e-11 \n",
    "    M = 5.974e24 \n",
    "    m = 7.348e22\n",
    "    R = 3.844e8\n",
    "    w = 2.662e-6\n",
    "    return -w**2 - 2*G*m/(R - r)**3 - 2*G*M/r**3\n",
    "\n",
    "r = np.arange(6371*100,3671 *10000 ,100)\n",
    "plt.plot(r,f(r))"
   ]
  },
  {
   "cell_type": "code",
   "execution_count": 48,
   "id": "ff59da8d-6e57-4320-8fc2-1884b3e0b24b",
   "metadata": {},
   "outputs": [
    {
     "data": {
      "text/plain": [
       "(326045071.66535544, 326045071.66535544)"
      ]
     },
     "execution_count": 48,
     "metadata": {},
     "output_type": "execute_result"
    }
   ],
   "source": [
    "def Newton_Raphson(f, f_, xi, err):\n",
    "    while True:\n",
    "        xtemp = xi\n",
    "        xi = xi - f(xi)/f_(xi)\n",
    "        if np.abs(xi - xtemp) < err:\n",
    "            break\n",
    "    return xi\n",
    "Newton_Raphson (f,f_,1.31e6,1e-1),secante(f,1.31e6,1.21e6,1e-1)"
   ]
  },
  {
   "cell_type": "markdown",
   "id": "d30b9a0b-302d-4e77-b585-f37f524cb55d",
   "metadata": {},
   "source": [
    "# Exercício 17"
   ]
  },
  {
   "cell_type": "code",
   "execution_count": 9,
   "id": "977744fd-c6e6-4644-81f2-8611c0938d0c",
   "metadata": {},
   "outputs": [
    {
     "name": "stdout",
     "output_type": "stream",
     "text": [
      "Solução encontrada: [3.44695462 2.82956807]\n"
     ]
    }
   ],
   "source": [
    "import numpy as np\n",
    "\n",
    "def F(v1, v2):\n",
    "    Vm = 5\n",
    "    R1 = 1000\n",
    "    R2 = 4000\n",
    "    R3 = 3000\n",
    "    R4 = 2000\n",
    "    I0 = 3e-9\n",
    "    VT = 0.05\n",
    "    return np.array([\n",
    "        ((v1 - Vm)/R1 + v1/R2 + I0*(np.exp((v1 - v2)/VT) - 1)),\n",
    "        ((Vm - v2)/R3 - v2/R4 + I0*(np.exp((v1 - v2)/VT) - 1))\n",
    "    ])\n",
    "\n",
    "Vm = 5\n",
    "R1 = 1000\n",
    "R2 = 4000\n",
    "R3 = 3000\n",
    "R4 = 2000\n",
    "I0 = 3e-9\n",
    "VT = 0.05\n",
    "\n",
    "x = np.array([2, 5])\n",
    "\n",
    "# Define a função que calcula a matriz jacobiana\n",
    "def J(v1, v2):\n",
    "    df1v1 = 1/R1 + 1/R2 + I0*(np.exp((v1 - v2)/VT)*(1/VT))\n",
    "    df1v2 = I0*(np.exp((v1 - v2)/VT)*(-1/VT))\n",
    "    df2v1 = I0*(np.exp((v1 - v2)/VT)*(1/VT))\n",
    "    df2v2 = -1/R4 - 1/R3 + I0*(np.exp((v1 - v2)/VT)*(-1/VT))\n",
    "    return np.array([[df1v1, df1v2], [df2v1, df2v2]])\n",
    "\n",
    "def Newton_Raphson_mais(f, J, xi, err):\n",
    "    while True:\n",
    "        J_xi = J(xi[0], xi[1])\n",
    "        xtemp = np.linalg.solve(J_xi, f(xi[0], xi[1]))\n",
    "        xi =xi -  xtemp\n",
    "        if np.linalg.norm(xtemp) < err:\n",
    "            break\n",
    "    return xi\n",
    "\n",
    "solucao = Newton_Raphson(F, J, x, 1e-6)\n",
    "print(\"Solução encontrada:\", solucao)\n"
   ]
  },
  {
   "cell_type": "markdown",
   "id": "e9b984be-118b-40bc-b8ed-761defc92320",
   "metadata": {},
   "source": [
    "# Exercício 18"
   ]
  },
  {
   "cell_type": "code",
   "execution_count": 29,
   "id": "4b9d514f-4649-4c1e-9d5a-c468846887ac",
   "metadata": {},
   "outputs": [],
   "source": [
    "# secção áurea\n",
    "import numpy as np\n",
    "def aurea (f,x1,x4,err):\n",
    "\n",
    "    # razão aurea\n",
    "    z = (1+ np.sqrt(5))/2\n",
    "\n",
    "    #pontos\n",
    "    x2 = x4 - (x4 - x1)/z\n",
    "    x3 = x1 + (x4 - x1)/z\n",
    "    \n",
    "    # f(pontos)\n",
    "    \n",
    "    f1 = f(x1)\n",
    "    f2 = f(x2)\n",
    "    f3 = f(x3)\n",
    "    f4 = f(x4)\n",
    "    \n",
    "    while np.abs(x4 - x1) > err:\n",
    "        if f2 < f3:\n",
    "            \n",
    "            x4,f4 = x3,f3\n",
    "            x3,f3 = x2,f2\n",
    "            x2 = x4 - (x4 - x1)/z\n",
    "            f2 = f(x2)\n",
    "        else :\n",
    "            \n",
    "            x1,f1 = x2,f2\n",
    "            x2,f2 = x3,f3\n",
    "            x3 = x1 - (x4 - x1)/z\n",
    "            f3 = f(x3)      \n",
    "    return (x4 + x1)/2"
   ]
  },
  {
   "cell_type": "code",
   "execution_count": 45,
   "id": "88d6d622-f04c-47fe-8a62-f639704eda87",
   "metadata": {},
   "outputs": [
    {
     "data": {
      "text/plain": [
       "[<matplotlib.lines.Line2D at 0x7f172ee442e0>]"
      ]
     },
     "execution_count": 45,
     "metadata": {},
     "output_type": "execute_result"
    }
   ],
   "source": [
    "import scipy.special as sp\n",
    "import matplotlib.pyplot as plt\n",
    "%matplotlib tk\n",
    "def f (x):\n",
    "    return (15/np.pi**4) * x**3/(np.exp(x) - 1) \n",
    "    \n",
    "\n",
    "def gauss_che(f, a, b, nc):\n",
    "    xc, wc = sp.roots_chebyt(nc)\n",
    "    xc = xc[:, np.newaxis]  # Adiciona uma nova dimensão para torná-lo uma coluna\n",
    "    wc = wc[:, np.newaxis]  # Adiciona uma nova dimensão para torná-lo uma coluna\n",
    "\n",
    "    xpc = 0.5 * (b - a) * xc + 0.5 * (b + a)\n",
    "    wpc = 0.5 * (b - a) * wc\n",
    "\n",
    "    # Calculando a integral usando a regra de Gauss-Chebyshev\n",
    "    sc = np.sum(f(xpc) * wpc, axis=0)  # Somando ao longo do eixo das colunas\n",
    "    return sc\n",
    "\n",
    "\n",
    "c = const.c\n",
    "h = const.h\n",
    "y1 = 390e-9\n",
    "y2 = 750e-9\n",
    "k = const.Boltzmann\n",
    "T = np.arange(300,10000,0.1)\n",
    "\n",
    "\n",
    "\n",
    "a = (h*c)/(y2 * k * T)\n",
    "b = (h*c)/(y1 * k * T)\n",
    "\n",
    "n = gauss_che(f,a,b,1000)\n",
    "\n",
    "plt.plot(T,n)"
   ]
  },
  {
   "cell_type": "code",
   "execution_count": 48,
   "id": "88006c00-1d9b-4a2f-aaff-a692b8d7cf57",
   "metadata": {},
   "outputs": [
    {
     "data": {
      "text/plain": [
       "7009.3196235411"
      ]
     },
     "execution_count": 48,
     "metadata": {},
     "output_type": "execute_result"
    }
   ],
   "source": [
    "import numpy as np\n",
    "def aurea (f,x1,x4,err):\n",
    "\n",
    "    # razão aurea\n",
    "    z = (1+ np.sqrt(5))/2\n",
    "\n",
    "    #pontos\n",
    "    x2 = x4 - (x4 - x1)/z\n",
    "    x3 = x1 + (x4 - x1)/z\n",
    "    \n",
    "    # f(pontos)\n",
    "    \n",
    "    f1 = f(x1)\n",
    "    f2 = f(x2)\n",
    "    f3 = f(x3)\n",
    "    f4 = f(x4)\n",
    "    \n",
    "    while np.abs(x4 - x1) > err:\n",
    "        if f2 < f3:\n",
    "            \n",
    "            x4,f4 = x3,f3\n",
    "            x3,f3 = x2,f2\n",
    "            x2 = x4 - (x4 - x1)/z\n",
    "            f2 = f(x2)\n",
    "        else :\n",
    "            \n",
    "            x1,f1 = x2,f2\n",
    "            x2,f2 = x3,f3\n",
    "            x3 = x1 - (x4 - x1)/z\n",
    "            f3 = f(x3)      \n",
    "    return (x4 + x1)/2\n",
    "\n",
    "\n",
    "def F(T):\n",
    "    \n",
    "    def f (x):\n",
    "        return (15/np.pi**4) * x**3/(np.exp(x) - 1)\n",
    "\n",
    "    \n",
    "    def gauss_che(f, a, b, nc):\n",
    "        xc, wc = sp.roots_chebyt(nc)\n",
    "        xc = xc[:, np.newaxis]  # Adiciona uma nova dimensão para torná-lo uma coluna\n",
    "        wc = wc[:, np.newaxis]  # Adiciona uma nova dimensão para torná-lo uma coluna\n",
    "\n",
    "        xpc = 0.5 * (b - a) * xc + 0.5 * (b + a)\n",
    "        wpc = 0.5 * (b - a) * wc\n",
    "\n",
    "        # Calculando a integral usando a regra de Gauss-Chebyshev\n",
    "        sc = np.sum(f(xpc) * wpc, axis=0)  # Somando ao longo do eixo das colunas\n",
    "        return sc\n",
    "\n",
    "    a = (h*c)/(y2 * k * T)\n",
    "    b = (h*c)/(y1 * k * T)\n",
    "        \n",
    "    return gauss_che(f,a,b,1000)\n",
    "    \n",
    "x1 = 5.26e3\n",
    "x4 = 8.42e3\n",
    "\n",
    "\n",
    "aurea(F,x1,x4,10-6)"
   ]
  }
 ],
 "metadata": {
  "kernelspec": {
   "display_name": "Python 3 (ipykernel)",
   "language": "python",
   "name": "python3"
  },
  "language_info": {
   "codemirror_mode": {
    "name": "ipython",
    "version": 3
   },
   "file_extension": ".py",
   "mimetype": "text/x-python",
   "name": "python",
   "nbconvert_exporter": "python",
   "pygments_lexer": "ipython3",
   "version": "3.10.12"
  }
 },
 "nbformat": 4,
 "nbformat_minor": 5
}
