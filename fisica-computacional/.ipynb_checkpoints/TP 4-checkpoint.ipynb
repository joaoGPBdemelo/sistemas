{
 "cells": [
  {
   "cell_type": "markdown",
   "id": "4bd6862c-4c8b-40fc-bc9b-64346c751d48",
   "metadata": {},
   "source": [
    "# TP 4"
   ]
  },
  {
   "cell_type": "code",
   "execution_count": 1,
   "id": "d756228e-58dc-43fd-8df6-2f1a8d51370e",
   "metadata": {},
   "outputs": [],
   "source": [
    "#bibliotecas\n",
    "import numpy as np\n",
    "import matplotlib.pyplot as plt"
   ]
  },
  {
   "cell_type": "code",
   "execution_count": 2,
   "id": "61d14523-c000-4401-ba43-6aeb3f8b6e66",
   "metadata": {},
   "outputs": [
    {
     "name": "stdout",
     "output_type": "stream",
     "text": [
      "altitude.txt  dow2.txt      piano.txt  stm.txt       velocities.txt\n",
      "blur.txt      dow.txt       pitch.txt  sunspots.txt\n",
      "circular.txt  millikan.txt  stars.txt  trumpet.txt\n"
     ]
    }
   ],
   "source": [
    "%ls 'newman/dados'"
   ]
  },
  {
   "cell_type": "code",
   "execution_count": 3,
   "id": "412b0da5-909f-42ae-afe4-d572d8a3d61a",
   "metadata": {},
   "outputs": [
    {
     "data": {
      "text/plain": [
       "101"
      ]
     },
     "execution_count": 3,
     "metadata": {},
     "output_type": "execute_result"
    }
   ],
   "source": [
    "dados = np.loadtxt('newman/dados/velocities.txt')\n",
    "dados.shape\n",
    "dados.shape[0]"
   ]
  },
  {
   "cell_type": "markdown",
   "id": "4f930de0-fb92-44a2-b2d5-2abc97a7bf53",
   "metadata": {},
   "source": [
    "*Exercício 1*"
   ]
  },
  {
   "cell_type": "code",
   "execution_count": 4,
   "id": "ac4aeaf9-3dcb-406b-8df8-47d57433d25e",
   "metadata": {},
   "outputs": [
    {
     "data": {
      "text/plain": [
       "8.38757800000002"
      ]
     },
     "execution_count": 4,
     "metadata": {},
     "output_type": "execute_result"
    }
   ],
   "source": [
    "# a)\n",
    "def inter (dados):\n",
    "    N = dados.shape[0] - 1\n",
    "    b =  dados[N  ,0]\n",
    "    a =  dados[0,0]\n",
    "    h = (b - a)/N\n",
    "    integral = sum(dados[1:,1]*h)\n",
    "    return integral\n",
    "inter(dados)\n"
   ]
  },
  {
   "cell_type": "code",
   "execution_count": 5,
   "id": "ffa2f561-c089-4e3f-9ac8-1d5c3bdb3809",
   "metadata": {
    "scrolled": true
   },
   "outputs": [
    {
     "data": {
      "image/png": "[encoded data removed]",
      "text/plain": [
       "<Figure size 432x288 with 1 Axes>"
      ]
     },
     "metadata": {
      "needs_background": "light"
     },
     "output_type": "display_data"
    }
   ],
   "source": [
    "# b)\n",
    "def inter (dados):\n",
    "    N = dados.shape[0] - 1\n",
    "    b =  dados[N ,0]\n",
    "    a =  dados[0,0]\n",
    "    h = (b - a)/N\n",
    "    tempo = dados[:, 0]\n",
    "    tempo2 = dados[1:, 0]\n",
    "    velocidade = dados[:, 1]\n",
    "    distancias = dados[1:,1]*h\n",
    "    space = np.zeros(N )\n",
    "    for k in range (N - 1):\n",
    "        for i in range (k, N -1 ):\n",
    "             space[k] += distancias[k]\n",
    "    plt.plot(tempo, velocidade)\n",
    "    plt.plot(tempo2,space)\n",
    "    plt.grid(True)\n",
    "    plt.show()\n",
    "\n",
    "inter(dados)"
   ]
  },
  {
   "cell_type": "code",
   "execution_count": 6,
   "id": "91cc342e-3060-49e4-8737-7431c86a5483",
   "metadata": {},
   "outputs": [
    {
     "data": {
      "text/plain": [
       "4.50656"
      ]
     },
     "execution_count": 6,
     "metadata": {},
     "output_type": "execute_result"
    }
   ],
   "source": [
    "# pelo trapézio\n",
    "# integral regra do trapézio\n",
    "def trap (f,N,a,b):\n",
    "    x = np.linspace(a,b,N+1)\n",
    "    y = f(x)\n",
    "    h = np.abs(b-a)/N\n",
    "    integral = f(a)/2 + f(b)/2 \n",
    "    for i in range (1,N ):\n",
    "        integral += f(a + i*h)\n",
    "    return h * integral\n",
    "\n",
    "def f (x):\n",
    "    y = x**4 - 2*x + 1\n",
    "    return y\n",
    "trap (f,10,0,2)\n",
    "#cai com h²"
   ]
  },
  {
   "cell_type": "markdown",
   "id": "2dd38485-c1ac-4cb6-b70c-28f8d7af03e4",
   "metadata": {},
   "source": [
    "*Execício 2*"
   ]
  },
  {
   "cell_type": "markdown",
   "id": "e4b9cf72-9fee-43b0-81ef-10461008d9d8",
   "metadata": {},
   "source": [
    "![descrição da imagem](simpson2.png)"
   ]
  },
  {
   "cell_type": "code",
   "execution_count": 27,
   "id": "bd6df852-320e-415e-898b-c45985a4ef7a",
   "metadata": {},
   "outputs": [
    {
     "data": {
      "text/plain": [
       "4.400426666666667"
      ]
     },
     "execution_count": 27,
     "metadata": {},
     "output_type": "execute_result"
    }
   ],
   "source": [
    "#regra de Simpson\n",
    "def simpson (f,N,a,b):\n",
    "    x = np.linspace(a,b,N+1)\n",
    "    y = f(x)\n",
    "    h = np.abs(b - a)/N\n",
    "    par = 0\n",
    "    impar = 0\n",
    "    for i in range(1,N ,2):\n",
    "        impar += f(a + i*h)\n",
    "    for k in range(2,N - 1,2):\n",
    "        par += f(a + k*h)\n",
    "    integral = (h/3)*(f(a) + f(b) + 4*impar + 2*par)\n",
    "    return integral\n",
    "\n",
    "simpson (f,10,0,2)    \n",
    "# cai com h⁴"
   ]
  },
  {
   "cell_type": "markdown",
   "id": "631b6f7c-c3be-446d-b330-cb38e830a220",
   "metadata": {},
   "source": [
    "*Exercício 3*"
   ]
  },
  {
   "cell_type": "code",
   "execution_count": 39,
   "id": "95da0a24-0ff8-4e64-8155-2f7fb8c32b20",
   "metadata": {},
   "outputs": [
    {
     "data": {
      "image/png": "[encoded data removed]",
      "text/plain": [
       "<Figure size 432x288 with 1 Axes>"
      ]
     },
     "metadata": {
      "needs_background": "light"
     },
     "output_type": "display_data"
    }
   ],
   "source": [
    "# Gráfico de uma função que é uma integral\n",
    "x = np.arange(0,3,0.1)\n",
    "def f2(t):\n",
    "    y = np.exp(-(t**2))\n",
    "    return y\n",
    "N = len(x)\n",
    "E = np.zeros(N)\n",
    "for i in range(N):\n",
    "    E[i] = simpson(f2,30,0,x[i])\n",
    "\n",
    "plt.plot(x,E)\n",
    "plt.grid(True)"
   ]
  },
  {
   "cell_type": "markdown",
   "id": "00241b79-5d98-4e79-901e-6b5257421404",
   "metadata": {},
   "source": [
    "*Exercício 4*"
   ]
  },
  {
   "cell_type": "code",
   "execution_count": null,
   "id": "0a8f200e-136c-4edc-97d8-629b1c8c58dc",
   "metadata": {},
   "outputs": [],
   "source": [
    "# Limites na difração do telescópio\n"
   ]
  }
 ],
 "metadata": {
  "kernelspec": {
   "display_name": "Python 3 (ipykernel)",
   "language": "python",
   "name": "python3"
  },
  "language_info": {
   "codemirror_mode": {
    "name": "ipython",
    "version": 3
   },
   "file_extension": ".py",
   "mimetype": "text/x-python",
   "name": "python",
   "nbconvert_exporter": "python",
   "pygments_lexer": "ipython3",
   "version": "3.10.12"
  }
 },
 "nbformat": 4,
 "nbformat_minor": 5
}
