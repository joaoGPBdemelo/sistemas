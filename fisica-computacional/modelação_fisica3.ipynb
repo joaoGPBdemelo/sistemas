{
 "cells": [
  {
   "cell_type": "markdown",
   "id": "86521c47",
   "metadata": {},
   "source": [
    "## Exercício 1\n",
    "__Pêndulo gravítico forçado__ - Considere um pêndulo gravítico, de massa $m$ e comprimento $l$. O pêndulo é perturbado por uma força externa dependente do tempo que atua em torno do ponto de equilíbrio,\n",
    "$$\n",
    "\\mathbf{F}(\\theta)=Ae^{-(60/\\pi)^2}\\sin(\\Omega t)mg\\mathbf{u}_\\theta\n",
    "$$\n",
    "Expresse o tempo em unidade de $\\sqrt{l/g}$ e considere $A=0.01$.\n",
    "1. Considerando $\\Omega=0.5$ e que o pêndulo parte do repouso e na posição de equilíbrio,\n",
    "    \n",
    "    a) Calcule a trajetória até $t=1000$. Estime o erro acumulado neste intervalo de tempo na variável $\\theta$ medindo para diferentes passos de integração. Represente os resultados obtidos e comente o que observa.\n",
    "    \n",
    "    b) Calcule o trabalho da força gravítica e o trabalho da força externa. Verifique o teorema da energia cinética.\n",
    "    \n",
    "    c) Faça a transformada de Fourier discreta de $\\theta(t)$ e represente-a como função de frequência. Comente os resultados observados.\n",
    "\n",
    "\n",
    "2. Integre as equações de movimento para valores de $\\Omega\\in [0.01,10]$ e represente o máximo desvio como função da frequência da força.\n",
    "\n",
    "\n",
    "3. Represente a tensão do fio como função do tempo para $\\Omega=1$. Supondo que o fio rebenta quando a tensão for $T=1.3mg$, determine o instante em que este evento acontece.\n",
    "\n",
    "\n",
    "## Exercício 2\n",
    "__Carga induzida num condutor__ - Considere uma barra condutora infinita de secção quadrada com uma ligação à Terra que fixa o potencial a zero.\n",
    "\n",
    "Aproximando do condutor uma superfície dielétrica carregada com uma densidade superficial de carga $\\sigma(\\theta,z)=c\\theta^2$ (a superfície é caracterizada por um raio de $64a,-\\pi/6<\\theta<\\pi/6$). Gera-se um potencial no espaço e uma densidade de carga superficial no condutor. Note que quer a superfície quer a barra são infinitas na direção $z$ e estão alinhadas paralelamente a esse eixo.\n",
    "\n",
    "Fixando a referência do potencial eletroestático no eixo dos $z$ e para cada ponto $\\mathbf{r}$ situado no plano $xy$ é dado por,\n",
    "$$\n",
    "V(\\mathbf{r})=\\frac{1}{4\\pi\\epsilon_0}\\int ds^\\prime\\sigma(\\theta)\\log\\left(\\frac{|\\mathbf{r}^\\prime|^2}{|\\mathbf{r}^\\prime-\\mathbf{r}|^2}\\right),\n",
    "$$\n",
    "onde $ds^\\prime$ é um arco infinitesimal situado no ponto $\\mathbf{r}^\\prime$ da superfície do dielétrico (Note que já foi integrado em $z$, uma vez que a densidade é constante na direção vertical). Colocando em torno da barra uma região de controlo, delimitada pela superfície a vermelho, com uma discretização do espaço numa rede quadrada a dimensão linear repartida em $M$ segmentos (sendo $M$ uma potência par: 16, 32, 64, etc). Expresse a carga em unidade de $ca^2$ e o potencial em unidades de $ca\\ /\\epsilon_0$.\n",
    "\n",
    "1. Calcule e represente o potencial elétrico gerado pelo dielétrico ao longo da superfície da região de controlo (represente o potencial como função da coordenada $\\theta$ associada a cada ponto da superfície de controlo).\n",
    "\n",
    "\n",
    "2. Assumindo que na superfície da região de controlo (a vermelho) o potencial é apenas dado pelo dielétrico:\n",
    "    \n",
    "    a) Calcule o potencial em todos os pontos interiores e represente-o usando o _imshow_.\n",
    "    \n",
    "    b) Calcule a carga na superfície do condutor.\n",
    "\n",
    "\n",
    "3. Faça um processo autoconsistente no qual corrige o potencial na fronteira da região de controlo com o potencial gerado pela carga na superfície do condutor. Com essa nova condição fronteira volte a resolver o problema de contorno (que lhe permite obter um novo potencial no interior da região de controlo e a densidade de carga na barra metálica, como na questão anterior). Repita este procedimento até que, quer o potencial, quer a densidade de carga convirjam.\n",
    "\n",
    "![exame](https://i.postimg.cc/MH1sqWf4/exame.png)"
   ]
  },
  {
   "cell_type": "code",
   "execution_count": 1,
   "id": "da451752-8947-49f6-8510-170ad6b12cfd",
   "metadata": {},
   "outputs": [
    {
     "data": {
      "image/png": "[encoded data removed]",
      "text/plain": [
       "<Figure size 432x288 with 1 Axes>"
      ]
     },
     "metadata": {
      "needs_background": "light"
     },
     "output_type": "display_data"
    }
   ],
   "source": [
    "import numpy as np\n",
    "import matplotlib.pyplot as plt\n",
    "\n",
    "def rk4_2d(a,b,N,r_0,f):\n",
    "    h = (b-a)/N\n",
    "    tpoints = np.linspace(a + 1e-16,b,N) \n",
    "    xpoints = np.zeros(N)\n",
    "    ypoints = np.zeros(N)\n",
    "    r = r_0\n",
    "    err = np.zeros(N)\n",
    "    anterior = 0\n",
    "    for i,t in enumerate(tpoints):\n",
    "        anterior = xpoints[i]\n",
    "        xpoints[i] = r[0]\n",
    "        ypoints[i] = r[1]\n",
    "        k1 = h*f(r,t)\n",
    "        k2 = h*f(r+0.5*k1,t+0.5*h)\n",
    "        k3 = h*f(r+0.5*k2,t+0.5*h)\n",
    "        k4 = h*f(r+k3,t+h)\n",
    "        r += (k1+2*k2+2*k3+k4)/6\n",
    "        erro = np.abs((xpoints[i] - anterior))\n",
    "        if i > 0:\n",
    "            err[i] = err[i-1] + np.abs(xpoints[i] - xpoints[i-1])\n",
    "\n",
    "    return [xpoints,ypoints,err]\n",
    "\n",
    "\n",
    "\n",
    "g = 9.82\n",
    "l = 0.1\n",
    "A = 0.01\n",
    "m = 1\n",
    "Omega = 0.5\n",
    "\n",
    "# funcões de cada variável\n",
    "def f(r,t):\n",
    "    fo = r[1]\n",
    "    fw = - np.sin(r[0]) + A*np.sin(Omega*t*np.sqrt(l/g))*m*g*np.exp(-(6*r[0]/np.pi)**2)\n",
    "    return np.array([fo,fw],float)\n",
    "\n",
    "a = 0\n",
    "b = 1000\n",
    "N = [1000,1500,2000,5000,10000]\n",
    "for i in N:\n",
    "    t = np.linspace(a,b,i)\n",
    "    r_0 = (0,1e-16)\n",
    "    r = rk4_2d(a,b,i,r_0,f)\n",
    "    plt.plot(t,r[2],label = f'inte{i}')\n",
    "    plt.legend()\n",
    "\n"
   ]
  },
  {
   "cell_type": "code",
   "execution_count": 2,
   "id": "65ce59e0-c106-4640-b00c-6095c80a2503",
   "metadata": {},
   "outputs": [
    {
     "ename": "NameError",
     "evalue": "name 'teta' is not defined",
     "output_type": "error",
     "traceback": [
      "\u001b[0;31m---------------------------------------------------------------------------\u001b[0m",
      "\u001b[0;31mNameError\u001b[0m                                 Traceback (most recent call last)",
      "Cell \u001b[0;32mIn[2], line 22\u001b[0m\n\u001b[1;32m     19\u001b[0m \u001b[38;5;66;03m# Calcular o deslocamento como a soma cumulativa de theta\u001b[39;00m\n\u001b[1;32m     20\u001b[0m desloc \u001b[38;5;241m=\u001b[39m r[\u001b[38;5;241m0\u001b[39m]\n\u001b[0;32m---> 22\u001b[0m F_ex \u001b[38;5;241m=\u001b[39m np\u001b[38;5;241m.\u001b[39marray([force_ex(time) \u001b[38;5;28;01mfor\u001b[39;00m time \u001b[38;5;129;01min\u001b[39;00m t])\n\u001b[1;32m     23\u001b[0m F_grav \u001b[38;5;241m=\u001b[39m np\u001b[38;5;241m.\u001b[39marray([force_grav(teta) \u001b[38;5;28;01mfor\u001b[39;00m teta \u001b[38;5;129;01min\u001b[39;00m r[\u001b[38;5;241m0\u001b[39m]])\n\u001b[1;32m     26\u001b[0m tau_ex \u001b[38;5;241m=\u001b[39m F_ex\u001b[38;5;241m*\u001b[39mdesloc\n",
      "Cell \u001b[0;32mIn[2], line 22\u001b[0m, in \u001b[0;36m<listcomp>\u001b[0;34m(.0)\u001b[0m\n\u001b[1;32m     19\u001b[0m \u001b[38;5;66;03m# Calcular o deslocamento como a soma cumulativa de theta\u001b[39;00m\n\u001b[1;32m     20\u001b[0m desloc \u001b[38;5;241m=\u001b[39m r[\u001b[38;5;241m0\u001b[39m]\n\u001b[0;32m---> 22\u001b[0m F_ex \u001b[38;5;241m=\u001b[39m np\u001b[38;5;241m.\u001b[39marray([\u001b[43mforce_ex\u001b[49m\u001b[43m(\u001b[49m\u001b[43mtime\u001b[49m\u001b[43m)\u001b[49m \u001b[38;5;28;01mfor\u001b[39;00m time \u001b[38;5;129;01min\u001b[39;00m t])\n\u001b[1;32m     23\u001b[0m F_grav \u001b[38;5;241m=\u001b[39m np\u001b[38;5;241m.\u001b[39marray([force_grav(teta) \u001b[38;5;28;01mfor\u001b[39;00m teta \u001b[38;5;129;01min\u001b[39;00m r[\u001b[38;5;241m0\u001b[39m]])\n\u001b[1;32m     26\u001b[0m tau_ex \u001b[38;5;241m=\u001b[39m F_ex\u001b[38;5;241m*\u001b[39mdesloc\n",
      "Cell \u001b[0;32mIn[2], line 14\u001b[0m, in \u001b[0;36mforce_ex\u001b[0;34m(temp)\u001b[0m\n\u001b[1;32m     13\u001b[0m \u001b[38;5;28;01mdef\u001b[39;00m \u001b[38;5;21mforce_ex\u001b[39m(temp):\n\u001b[0;32m---> 14\u001b[0m     \u001b[38;5;28;01mreturn\u001b[39;00m A \u001b[38;5;241m*\u001b[39m np\u001b[38;5;241m.\u001b[39msin(Omega \u001b[38;5;241m*\u001b[39m temp \u001b[38;5;241m*\u001b[39m np\u001b[38;5;241m.\u001b[39msqrt(l \u001b[38;5;241m/\u001b[39m g)) \u001b[38;5;241m*\u001b[39m m \u001b[38;5;241m*\u001b[39m g \u001b[38;5;241m*\u001b[39m np\u001b[38;5;241m.\u001b[39mexp(\u001b[38;5;241m-\u001b[39m(\u001b[38;5;241m6\u001b[39m\u001b[38;5;241m*\u001b[39m\u001b[43mteta\u001b[49m \u001b[38;5;241m/\u001b[39m np\u001b[38;5;241m.\u001b[39mpi)\u001b[38;5;241m*\u001b[39m\u001b[38;5;241m*\u001b[39m\u001b[38;5;241m2\u001b[39m)\n",
      "\u001b[0;31mNameError\u001b[0m: name 'teta' is not defined"
     ]
    }
   ],
   "source": [
    "g = 9.82\n",
    "l = 0.01\n",
    "A = 0.01\n",
    "m = 0.01\n",
    "Omega = 0.5\n",
    "a = 0\n",
    "b = 100\n",
    "N = 10000\n",
    "t = np.linspace(a,b,N)\n",
    "r_0 = (0,1e-16)\n",
    "r = rk4_2d(a,b,N,r_0,f)\n",
    "\n",
    "def force_ex(temp):\n",
    "    return A * np.sin(Omega * temp * np.sqrt(l / g)) * m * g * np.exp(-(6*teta / np.pi)**2)\n",
    "\n",
    "def force_grav(teta):\n",
    "    return  -np.sin(teta)\n",
    "\n",
    "# Calcular o deslocamento como a soma cumulativa de theta\n",
    "desloc = r[0]\n",
    "\n",
    "F_ex = np.array([force_ex(time) for time in t])\n",
    "F_grav = np.array([force_grav(teta) for teta in r[0]])\n",
    "\n",
    "\n",
    "tau_ex = F_ex*desloc\n",
    "tau_grav = F_grav*desloc\n",
    "\n",
    "\n",
    "# energia cinetica\n",
    "Ek = 0.5 * m * l**2 * r[1]**2\n",
    "\n",
    "\n",
    "\n",
    "#plt.plot(t,tau_grav+tau_ex)\n",
    "plt.plot(t,tau_ex+tau_grav)\n",
    "plt.plot(t,Ek)\n",
    "\n"
   ]
  },
  {
   "cell_type": "code",
   "execution_count": 5,
   "id": "51f0e481-b7c8-4f7d-b829-2593f7d78464",
   "metadata": {},
   "outputs": [
    {
     "data": {
      "text/plain": [
       "[<matplotlib.lines.Line2D at 0x7f63f3bc52a0>]"
      ]
     },
     "execution_count": 5,
     "metadata": {},
     "output_type": "execute_result"
    },
    {
     "data": {
      "image/png": "[encoded data removed]",
      "text/plain": [
       "<Figure size 432x288 with 1 Axes>"
      ]
     },
     "metadata": {
      "needs_background": "light"
     },
     "output_type": "display_data"
    }
   ],
   "source": [
    "def fft(x):\n",
    "    N = len(x)\n",
    "    if N <= 1:\n",
    "        return x\n",
    "    elif N % 2 != 0:\n",
    "        raise ValueError(\"escolher x como potencia de 2\")\n",
    "\n",
    "\n",
    "    X_even = fft(x[::2])\n",
    "\n",
    "    X_odd = fft(x[1::2])\n",
    "\n",
    "    factor = np.exp(-2j * np.pi * np.arange(N) / N)\n",
    "    X = np.zeros(N, dtype=complex)\n",
    "    half_N = N // 2\n",
    "    X[:half_N] = X_even + factor[:half_N] * X_odd\n",
    "    X[half_N:] = X_even + factor[half_N:] * X_odd\n",
    "\n",
    "    return X\n",
    "g = 9.82\n",
    "l = 0.01\n",
    "A = 0.01\n",
    "m = 0.01\n",
    "Omega = 0.5\n",
    "a = 0\n",
    "b = 100\n",
    "N = 2048\n",
    "t = np.linspace(a,b,N)\n",
    "r_0 = (0,1e-16)\n",
    "r = rk4_2d(a,b,N,r_0,f)\n",
    "\n",
    "four = fft(r[0])\n",
    "frequencias = np.arange(N)*(2*np.pi/N)\n",
    "plt.plot(frequencias,np.abs(four))"
   ]
  },
  {
   "cell_type": "code",
   "execution_count": 6,
   "id": "9208e89f-4c5a-49f4-89b8-eb928c66e2b9",
   "metadata": {},
   "outputs": [
    {
     "data": {
      "text/plain": [
       "[<matplotlib.lines.Line2D at 0x7f63f3a2b850>]"
      ]
     },
     "execution_count": 6,
     "metadata": {},
     "output_type": "execute_result"
    },
    {
     "data": {
      "image/png": "[encoded data removed]",
      "text/plain": [
       "<Figure size 432x288 with 1 Axes>"
      ]
     },
     "metadata": {
      "needs_background": "light"
     },
     "output_type": "display_data"
    }
   ],
   "source": [
    "g = 9.82\n",
    "l = 1\n",
    "A = 0.01\n",
    "m = 1\n",
    "a = 0\n",
    "b = 1000\n",
    "N = 2048\n",
    "n_O = 100\n",
    "Omega = np.linspace(0.01,10,n_O)\n",
    "maximos = np.zeros(n_O)\n",
    "for i,O in enumerate(Omega):\n",
    "    # funcões de cada variável\n",
    "    def f(r, t):\n",
    "        fo = r[1]\n",
    "        fw = -np.sin(r[0]) + A * np.sin(O * t * np.sqrt(l / g))\n",
    "        return np.array([fo, fw], float)\n",
    "\n",
    "    \n",
    "    t = np.linspace(a,b,N)\n",
    "    r_0 = (0,1e-16)\n",
    "    r = rk4_2d(a,b,N,r_0,f)\n",
    "    maximos[i] = np.max(np.abs(r[0]))\n",
    "  \n",
    "plt.plot(Omega*np.sqrt(l/g),maximos)\n"
   ]
  },
  {
   "cell_type": "code",
   "execution_count": 7,
   "id": "3c682a25-ddd7-4953-b873-f13dc64e14ca",
   "metadata": {},
   "outputs": [
    {
     "data": {
      "text/plain": [
       "[<matplotlib.lines.Line2D at 0x7f63f37e3760>]"
      ]
     },
     "execution_count": 7,
     "metadata": {},
     "output_type": "execute_result"
    },
    {
     "data": {
      "image/png": "[encoded data removed]",
      "text/plain": [
       "<Figure size 432x288 with 1 Axes>"
      ]
     },
     "metadata": {
      "needs_background": "light"
     },
     "output_type": "display_data"
    }
   ],
   "source": [
    "g = 9.82\n",
    "l = 1\n",
    "A = 0.01\n",
    "m = 0.01\n",
    "Omega = 1\n",
    "a = 0\n",
    "b = 10\n",
    "N = 2048\n",
    "t = np.linspace(a,b,N)\n",
    "r_0 = (0,1e-16)\n",
    "def f(r,t):\n",
    "    fo = r[1]\n",
    "    fw = - np.sin(r[0]) + A*np.sin(Omega*t*np.sqrt(l/g))*m*g*np.exp(-(6*r[0]/np.pi)**2)\n",
    "    return np.array([fo,fw],float)\n",
    "\n",
    "\n",
    "r = rk4_2d(a,b,N,r_0,f)\n",
    "\n",
    "ten = m*r[1]*r[1]*l\n",
    "cont = (ten,t)\n",
    "\n",
    "\n",
    "for i in range(N):\n",
    "    if ten[i] >= 1.3:\n",
    "        print(cont[1][i])\n",
    "        break\n",
    "plt.plot(t,ten)\n"
   ]
  },
  {
   "cell_type": "markdown",
   "id": "10e8657a-6602-4cbb-ab75-4cf27e4f1e1a",
   "metadata": {},
   "source": [
    "## Exercício 1\n",
    "__Pêndulo gravítico forçado__ - Considere um pêndulo gravítico, de massa $m$ e comprimento $l$. O pêndulo é perturbado por uma força externa dependente do tempo que atua em torno do ponto de equilíbrio,\n",
    "$$\n",
    "\\mathbf{F}(\\theta)=Ae^{-(60/\\pi)^2}\\sin(\\Omega t)mg\\mathbf{u}_\\theta\n",
    "$$\n",
    "Expresse o tempo em unidade de $\\sqrt{l/g}$ e considere $A=0.01$.\n",
    "1. Considerando $\\Omega=0.5$ e que o pêndulo parte do repouso e na posição de equilíbrio,\n",
    "    \n",
    "    a) Calcule a trajetória até $t=1000$. Estime o erro acumulado neste intervalo de tempo na variável $\\theta$ medindo para diferentes passos de integração. Represente os resultados obtidos e comente o que observa.\n",
    "    \n",
    "    b) Calcule o trabalho da força gravítica e o trabalho da força externa. Verifique o teorema da energia cinética.\n",
    "    \n",
    "    c) Faça a transformada de Fourier discreta de $\\theta(t)$ e represente-a como função de frequência. Comente os resultados observados.\n",
    "\n",
    "\n",
    "2. Integre as equações de movimento para valores de $\\Omega\\in [0.01,10]$ e represente o máximo desvio como função da frequência da força.\n",
    "\n",
    "\n",
    "3. Represente a tensão do fio como função do tempo para $\\Omega=1$. Supondo que o fio rebenta quando a tensão for $T=1.3mg$, determine o instante em que este evento acontece.\n",
    "\n",
    "\n",
    "## Exercício 2\n",
    "__Carga induzida num condutor__ - Considere uma barra condutora infinita de secção quadrada com uma ligação à Terra que fixa o potencial a zero.\n",
    "\n",
    "Aproximando do condutor uma superfície dielétrica carregada com uma densidade superficial de carga $\\sigma(\\theta,z)=c\\theta^2$ (a superfície é caracterizada por um raio de $64a,-\\pi/6<\\theta<\\pi/6$). Gera-se um potencial no espaço e uma densidade de carga superficial no condutor. Note que quer a superfície quer a barra são infinitas na direção $z$ e estão alinhadas paralelamente a esse eixo.\n",
    "\n",
    "Fixando a referência do potencial eletroestático no eixo dos $z$ e para cada ponto $\\mathbf{r}$ situado no plano $xy$ é dado por,\n",
    "$$\n",
    "V(\\mathbf{r})=\\frac{1}{4\\pi\\epsilon_0}\\int ds^\\prime\\sigma(\\theta)\\log\\left(\\frac{|\\mathbf{r}^\\prime|^2}{|\\mathbf{r}^\\prime-\\mathbf{r}|^2}\\right),\n",
    "$$\n",
    "onde $ds^\\prime$ é um arco infinitesimal situado no ponto $\\mathbf{r}^\\prime$ da superfície do dielétrico (Note que já foi integrado em $z$, uma vez que a densidade é constante na direção vertical). Colocando em torno da barra uma região de controlo, delimitada pela superfície a vermelho, com uma discretização do espaço numa rede quadrada a dimensão linear repartida em $M$ segmentos (sendo $M$ uma potência par: 16, 32, 64, etc). Expresse a carga em unidade de $ca^2$ e o potencial em unidades de $ca\\ /\\epsilon_0$.\n",
    "\n",
    "1. Calcule e represente o potencial elétrico gerado pelo dielétrico ao longo da superfície da região de controlo (represente o potencial como função da coordenada $\\theta$ associada a cada ponto da superfície de controlo).\n",
    "\n",
    "\n",
    "2. Assumindo que na superfície da região de controlo (a vermelho) o potencial é apenas dado pelo dielétrico:\n",
    "    \n",
    "    a) Calcule o potencial em todos os pontos interiores e represente-o usando o _imshow_.\n",
    "    \n",
    "    b) Calcule a carga na superfície do condutor.\n",
    "\n",
    "\n",
    "3. Faça um processo autoconsistente no qual corrige o potencial na fronteira da região de controlo com o potencial gerado pela carga na superfície do condutor. Com essa nova condição fronteira volte a resolver o problema de contorno (que lhe permite obter um novo potencial no interior da região de controlo e a densidade de carga na barra metálica, como na questão anterior). Repita este procedimento até que, quer o potencial, quer a densidade de carga convirjam.\n",
    "\n",
    "![exame](https://i.postimg.cc/MH1sqWf4/exame.png)"
   ]
  },
  {
   "cell_type": "code",
   "execution_count": null,
   "id": "eed9b71c-780e-4aaa-a3a7-868de8fbd84b",
   "metadata": {},
   "outputs": [],
   "source": []
  }
 ],
 "metadata": {
  "kernelspec": {
   "display_name": "Python 3 (ipykernel)",
   "language": "python",
   "name": "python3"
  },
  "language_info": {
   "codemirror_mode": {
    "name": "ipython",
    "version": 3
   },
   "file_extension": ".py",
   "mimetype": "text/x-python",
   "name": "python",
   "nbconvert_exporter": "python",
   "pygments_lexer": "ipython3",
   "version": "3.10.12"
  }
 },
 "nbformat": 4,
 "nbformat_minor": 5
}
