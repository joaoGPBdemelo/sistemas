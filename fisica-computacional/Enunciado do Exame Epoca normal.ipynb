{
 "cells": [
  {
   "cell_type": "code",
   "execution_count": 1,
   "id": "0c86eb4f",
   "metadata": {},
   "outputs": [],
   "source": [
    "#importaçoes\n",
    "import numpy as np\n",
    "import matplotlib.pyplot as plt\n",
    "import scipy.linalg"
   ]
  },
  {
   "cell_type": "markdown",
   "id": "e483d1b3",
   "metadata": {},
   "source": [
    "# Exercicio 1 "
   ]
  },
  {
   "cell_type": "markdown",
   "id": "df2743b3",
   "metadata": {},
   "source": [
    "Explique a relaçao entre o algoritmo de relaxaçao e os metodos de Jacobi e Gauss-Seidel explicando detalhadamente as suas condiçoes de convergencia."
   ]
  },
  {
   "cell_type": "markdown",
   "id": "45fddb87",
   "metadata": {},
   "source": [
    "# Exercicio 2"
   ]
  },
  {
   "cell_type": "markdown",
   "id": "0b6e7d6c",
   "metadata": {},
   "source": [
    "Considere o circuito com n blocos representado na figura.\n",
    "\n",
    "Caracterizado pelo sistema de equaçoes:\n",
    "$$\n",
    "\\begin{cases}\n",
    "V(\\omega)=\\frac{I_1}{i\\omega C_1}+R_1(I_1-I_2)+i\\omega L_1(I_1-I_A)\\\\\n",
    "0=\\frac{I_2}{i\\omega C_2}+R_1(I_2-I_1)+R_2(I_2-I_3)+i\\omega L_2(I_2-I_A)\\\\\n",
    "\\dots\\\\\n",
    "0=\\frac{I_n}{i\\omega C_n}+R_{n-1}(I_n-I_{n-1})+R_nI_n+i\\omega L_n(I_n-I_A)\\\\\n",
    "0=i\\omega L_1(I_A-I_1)+i\\omega L_2(I_A-I_2)+\\dots+i\\omega L_n(I_A-I_n)+R_AI_A\n",
    "\\end{cases}\n",
    "$$\n",
    "onde as correntes e a tensao sao dadas por,\n",
    "$$\n",
    "V(\\omega)=\\int^{T}_{0}dtV(t)e^{-i\\omega t} \\text{ } \\text{(1.1)}\n",
    "$$\n",
    "$$\n",
    "I_n(\\omega)=\\int^{T}_{0}dtI_n(t)e^{-i\\omega t}\n",
    "$$\n",
    "considere o caso $n=5$ nas questoes seguintes."
   ]
  },
  {
   "cell_type": "code",
   "execution_count": 18,
   "id": "25f960d5-4fb9-4414-b3e9-8eea242b50de",
   "metadata": {},
   "outputs": [],
   "source": [
    "class circ:\n",
    "    def __init__(self,n):\n",
    "        self.n = n + 1\n",
    "        self.matrix = np.zeros([n+1,n+1],complex)\n",
    "        i = 0\n",
    "        k = 0\n",
    "        for i in range(0, n +1):\n",
    "            for k in range(0,n + 1):\n",
    "                if i == k:\n",
    "                    self.matrix[i,k] = (1/(1j * w * c)) + (2*R + 1j*w*L)\n",
    "                    if i >= 1:\n",
    "                        self.matrix[i,k-1] = -R\n",
    "        self.matrix[0,0] -= R\n",
    "        # Arrumar a ultima coluna depois\n",
    "        for p in range(n+1):\n",
    "            self.matrix[p,n] = -1j*w*L\n",
    "\n"
   ]
  },
  {
   "cell_type": "code",
   "execution_count": 24,
   "id": "7d5b3437-24fc-4c1b-a595-1a7e9af6fbbe",
   "metadata": {},
   "outputs": [
    {
     "name": "stdout",
     "output_type": "stream",
     "text": [
      "[0.96875+0.j      0.46875+0.j      0.21875+0.j      0.09375+0.j\n",
      " 0.03125+0.j      0.     +0.03125j]\n"
     ]
    }
   ],
   "source": [
    "# decomposição LU\n",
    "def LU(A):\n",
    "    U = A\n",
    "    N = U[:,0]\n",
    "    N = len(N)\n",
    "    L = np.zeros([N,N],complex)\n",
    "    for m in range(N):\n",
    "        for p in range(N):\n",
    "            if p >= m:    \n",
    "                L[p,m] = U[p,m]\n",
    "        # Divide by the diagonal element\n",
    "        div = U[m,m]\n",
    "        U[m,:] /= div\n",
    "\n",
    "        # Now subtract from the lower rows\n",
    "        for i in range(m+1,N):\n",
    "            mult = U[i,m]\n",
    "            U[i,:] -= mult*U[m,:]\n",
    "\n",
    "    \n",
    "    return L , U\n",
    "\n",
    "# solução LU\n",
    "def solucao_LU(L,U,v):\n",
    "    L = np.copy(L)\n",
    "    U = np.copy(U)\n",
    "    N = len(v)\n",
    "    y = np.empty(N,complex)\n",
    "    for n in range(N):\n",
    "        y[n] = v[n]/L[n,n]\n",
    "        for j in range(n):\n",
    "            y[n] -= L[n,j]*y[j]/L[n,n]\n",
    "        # Backsubstitution\n",
    "    x = np.empty(N,complex)\n",
    "    for m in range(N-1,-1,-1):\n",
    "        x[m] = y[m]\n",
    "        for i in range(m+1,N):\n",
    "            x[m] -= U[m,i]*x[i]\n",
    "    return x\n",
    "\n",
    "\n",
    "# vou considerar w nessas unidade = 1\n",
    "# e V(w) = 1 também\n",
    "R = 1\n",
    "L = 1\n",
    "c = 1\n",
    "w = 1\n",
    "n = 5\n",
    "matriz = circ(n)\n",
    "L,U = LU(matriz.matrix)\n",
    "v = np.zeros(n + 1)\n",
    "v[0] = 1\n",
    "I = solucao_LU(L,U,v)\n",
    "print(I)"
   ]
  },
  {
   "cell_type": "markdown",
   "id": "2bd825c3",
   "metadata": {},
   "source": [
    "1. Escreva uma funçao que obtenha o valor das correntes atraves da decomposiçao LU para um potencial $V(\\omega)$, uma frequencia $\\omega$ e o numero de blocos $n$ (Considere que nestas unidades $R_i=1$, $L_i=1$ e $C_i=1$)"
   ]
  },
  {
   "cell_type": "markdown",
   "id": "f5b8f787",
   "metadata": {},
   "source": [
    "2. Considere que o potencial é dado por um impulso periodico de periodo T.\n",
    "$$\n",
    "V(t)=V_0e^{-\\frac{(t-T/2)^{2}}{2}\\cos(\\Omega t)}\\text{ }  \\text{ se 0$\\leq$ t $\\leq$ T}\n",
    "$$\n",
    "$$\n",
    "V(t+T)=V(t) \\text{ }  \\text{ $\\forall$ t}\n",
    "$$\n",
    "onde $V_0=1$, $\\Omega=3$ e $T=64$. Considere uma amostragem discreta de tempos equiespaçados, construa uma aproximaçao aos coeficientes de Fourier. Explique em que medida esta aproximaçao é uma boa aproximaçao dos coeficientes de Fourier e quais sao as suas limitaçoes. Podemos escolher qualquer numero de pontos? Existe alguma vantagem em escolher o numero de pontos de um subconjunto de numeros inteiros."
   ]
  },
  {
   "cell_type": "code",
   "execution_count": 26,
   "id": "da52bd2c-d3e5-4800-a619-7fc59e787056",
   "metadata": {},
   "outputs": [
    {
     "name": "stdout",
     "output_type": "stream",
     "text": [
      "[0.16069874 0.30927276 0.56696353 ... 0.86874502 0.56696353 0.30927276]\n"
     ]
    },
    {
     "data": {
      "text/plain": [
       "4096"
      ]
     },
     "execution_count": 26,
     "metadata": {},
     "output_type": "execute_result"
    }
   ],
   "source": [
    "def fft(x):\n",
    "    N = len(x)\n",
    "    if N <= 1:\n",
    "        return x\n",
    "    elif N % 2 != 0:\n",
    "        raise ValueError(\"escolher x como potencia de 2\")\n",
    "\n",
    "\n",
    "    X_even = fft(x[::2])\n",
    "\n",
    "    X_odd = fft(x[1::2])\n",
    "\n",
    "    factor = np.exp(-2j * np.pi * np.arange(N) / N)\n",
    "    X = np.zeros(N, dtype=complex)\n",
    "    half_N = N // 2\n",
    "    X[:half_N] = X_even + factor[:half_N] * X_odd\n",
    "    X[half_N:] = X_even + factor[half_N:] * X_odd\n",
    "\n",
    "    return X\n",
    "\n",
    "\n",
    "\n",
    "\n",
    "\n",
    "def V(t):\n",
    "    V_0 = 1\n",
    "    T = 64\n",
    "    Omega = 3\n",
    "    return V_0*np.exp(-((t - (T/2))**2)/2)*np.cos(Omega*t)\n",
    "\n",
    "N = 2048\n",
    "t = np.linspace(0,64,N)\n",
    "x = V(t)\n",
    "c = np.abs(fft(x))\n",
    "print(c)\n",
    "2**12"
   ]
  },
  {
   "cell_type": "code",
   "execution_count": 32,
   "id": "61292179-dcb3-47db-b93c-754a173d4d4e",
   "metadata": {},
   "outputs": [
    {
     "data": {
      "image/png": "[encoded data removed]",
      "text/plain": [
       "<Figure size 432x288 with 1 Axes>"
      ]
     },
     "metadata": {
      "needs_background": "light"
     },
     "output_type": "display_data"
    }
   ],
   "source": [
    "N = 2**15\n",
    "t = np.linspace(0,64,N)\n",
    "x = V(t)\n",
    "ref_c = np.abs(np.fft.fft(x))\n",
    "\n",
    "\n",
    "\n",
    "\n",
    "for N in [2,4,8,16,32,64,128,256,512,1024,2048,4096]:\n",
    "    t = np.linspace(0,64,N)\n",
    "    x = V(t)\n",
    "    c = np.abs(np.fft.fft(x))\n",
    "\n",
    "    \n",
    "    frequencias = np.arange(N)*(2*np.pi/N)\n",
    "    plt.plot(frequencias,c,label = f'N = {N}')\n",
    "    \n",
    "\n"
   ]
  },
  {
   "cell_type": "markdown",
   "id": "5eff6c63",
   "metadata": {},
   "source": [
    "3. Represente os coeficientes de Fourier para diferentes amostragens temporais como funçao da frequencia e discuta os resultados comparando com os coeficientes numericamente exactos ($\\omega=\\omega_n$ na equaçao 1.1)"
   ]
  },
  {
   "cell_type": "code",
   "execution_count": 99,
   "id": "8e66f1e2-564b-498e-98b9-38d9a8e16e30",
   "metadata": {},
   "outputs": [
    {
     "data": {
      "image/png": "[encoded data removed]",
      "text/plain": [
       "<Figure size 432x288 with 1 Axes>"
      ]
     },
     "metadata": {
      "needs_background": "light"
     },
     "output_type": "display_data"
    }
   ],
   "source": [
    "# decomposição LU\n",
    "from scipy.special import roots_chebyt\n",
    "import scipy\n",
    "def LU(A):\n",
    "    U = A\n",
    "    N = U[:,0]\n",
    "    N = len(N)\n",
    "    L = np.zeros([N,N],complex)\n",
    "    for m in range(N):\n",
    "        for p in range(N):\n",
    "            if p >= m:    \n",
    "                L[p,m] = U[p,m]\n",
    "        # Divide by the diagonal element\n",
    "        div = U[m,m]\n",
    "        U[m,:] /= div\n",
    "\n",
    "        # Now subtract from the lower rows\n",
    "        for i in range(m+1,N):\n",
    "            mult = U[i,m]\n",
    "            U[i,:] -= mult*U[m,:]\n",
    "\n",
    "    \n",
    "    return L , U\n",
    "\n",
    "# solução LU\n",
    "def solucao_LU(L,U,v):\n",
    "    L = np.copy(L)\n",
    "    U = np.copy(U)\n",
    "    N = len(v)\n",
    "    y = np.empty(N,complex)\n",
    "    for n in range(N):\n",
    "        y[n] = v[n]/L[n,n]\n",
    "        for j in range(n):\n",
    "            y[n] -= L[n,j]*y[j]/L[n,n]\n",
    "        # Backsubstitution\n",
    "    x = np.empty(N,complex)\n",
    "    for m in range(N-1,-1,-1):\n",
    "        x[m] = y[m]\n",
    "        for i in range(m+1,N):\n",
    "            x[m] -= U[m,i]*x[i]\n",
    "    return x\n",
    "\n",
    "\n",
    "# ---> Gauss-Chebyshev <---\n",
    "def gauss_che(f,a,b,nc):\n",
    "    xc, wc = roots_chebyt(nc)\n",
    "    xpc = 0.5 * (b - a) * xc + 0.5 * (b + a)\n",
    "    wpc = 0.5 * (b - a) * wc\n",
    "\n",
    "    # Calculando a integral usando a regra de Gauss-Chebyshev\n",
    "    sc = np.sum(f(xpc) * wpc)\n",
    "    return sc\n",
    " \n",
    "    \n",
    "def V(t):\n",
    "    V_0 = 1\n",
    "    T = 64\n",
    "    Omega = 3\n",
    "    return V_0*np.exp(-((t - (T/2))**2)/2)*np.cos(Omega*t)*np.exp(-1j*w)\n",
    "\n",
    "# vou considerar w nessas unidade = 1\n",
    "# e V(w) = 1 também\n",
    "R = 1\n",
    "L = 1\n",
    "c = 1\n",
    "w = 1\n",
    "n = 5\n",
    "matriz = circ(n)\n",
    "L,U = LU(matriz.matrix)\n",
    "T = np.linspace(0,64,1000)\n",
    "i_guard = np.zeros([n+1,len(T)],complex)\n",
    "for i,t in enumerate(T):\n",
    "    v = np.zeros(n + 1,complex)\n",
    "    v[0] =   gauss_che(V, 0, t, 1000)\n",
    "    I = solucao_LU(L,U,v)\n",
    "    i_guard[:,i] = I\n",
    "\n",
    "for i in range (n+1):\n",
    "    plt.plot(T,np.real(i_guard[i,:]))"
   ]
  },
  {
   "cell_type": "markdown",
   "id": "75fac7e0",
   "metadata": {},
   "source": [
    "4. Calcule cada uma das correntes no tempo $I_n(t)$, como resposta á diferença de potencial $V(t)$ e explique detalhadamente o procedimento usado. Assuma que a componente de frequencia nula das correntes é zero."
   ]
  },
  {
   "cell_type": "markdown",
   "id": "cdc3116c",
   "metadata": {},
   "source": [
    "# Exercicio 3"
   ]
  },
  {
   "cell_type": "markdown",
   "id": "4ca3d4bc",
   "metadata": {},
   "source": [
    "Um corpo de massa M é lançado do solo com uma velocidade inicial de modulo $v_0$ e angulo $\\theta$ com a horizontal.\n",
    "\n",
    "No corpo atua uma força de arrasto de tal modo que a equaçao de movimento é dada por\n",
    "$$\n",
    "\\frac{d^2\\textbf{r}}{dt^2}=-g\\textbf{u}_y-\\frac{\\gamma}{M}||\\textbf{V}-\\textbf{V}_{ar}(\\textbf{r})||(\\textbf{V}-\\textbf{V}_{ar}(\\textbf{r}))+e^{-10^6y}\\textbf{u}_y\n",
    "$$\n",
    "onde $\\textbf{V}$ é o vector velocidade, com $\\gamma /M=0.4m^{-1}$, $g=9.8ms^{-2}$ e $\\textbf{V}_ar$ é a velocidade do escoamento do ar, que depende da posiçao de acordo com,\n",
    "$$\n",
    "\\textbf{V}_{ar}(x,y)=\n",
    "\\begin{cases}\n",
    "v_r\\left(\\frac{y}{y_r}\\right)^{1/7}\\textbf{u}_x \\text{ }\\text{se $y>0$}\\\\\n",
    "0 \\text{ } \\text{caso contrario }\n",
    "\\end{cases}\n",
    "$$\n",
    "com a velocidade de referencia, $v_r=10ms^{-1}$ a uma altura de $y_r=0.5m$. O ultimo termo na equaçao de movimento representa a força respulsiva junto ao solo. O projetil é lanaçado. O projetil é lançado com uma velocidade inicial de 50$ms^{-1}$"
   ]
  },
  {
   "cell_type": "markdown",
   "id": "71ae54ab",
   "metadata": {},
   "source": [
    "1. Calcule a posiçao da massa para $\\theta=\\pi/4$ e $t=6$ com $\\gamma=0$. Analise a dependencia do erro introduzido com o metodo de RK4 como funçao de h"
   ]
  },
  {
   "cell_type": "markdown",
   "id": "197a0ef8",
   "metadata": {},
   "source": [
    "2. Reperesente a trajetoria para valores do angulo $0<\\theta<\\pi$ para $0\\leq t < 10$ s."
   ]
  },
  {
   "cell_type": "markdown",
   "id": "9b6d90ee",
   "metadata": {},
   "source": [
    "3. Para as trajetorias da questao anterior calcule o trabalho exercicido pela força de arrasto ao longo da trajetoria e pela força de contacto com o solo. Verifique o teorema das forças vivas(ou da energia cinetia) considerando que a massa é $M=1$. Use o metodo de Simpson para efetuar a integraçao."
   ]
  },
  {
   "cell_type": "markdown",
   "id": "64d0ad5a",
   "metadata": {},
   "source": [
    "4. Determine todos os angulos $\\theta$ para os quais a primeira colisao com o solo ocorre em $x=10$ m."
   ]
  }
 ],
 "metadata": {
  "kernelspec": {
   "display_name": "Python 3 (ipykernel)",
   "language": "python",
   "name": "python3"
  },
  "language_info": {
   "codemirror_mode": {
    "name": "ipython",
    "version": 3
   },
   "file_extension": ".py",
   "mimetype": "text/x-python",
   "name": "python",
   "nbconvert_exporter": "python",
   "pygments_lexer": "ipython3",
   "version": "3.11.7"
  }
 },
 "nbformat": 4,
 "nbformat_minor": 5
}
