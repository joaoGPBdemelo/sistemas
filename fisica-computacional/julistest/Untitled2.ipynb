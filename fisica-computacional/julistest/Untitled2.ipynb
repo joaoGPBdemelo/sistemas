{
 "cells": [
  {
   "cell_type": "markdown",
   "id": "4fd3adfe-31fc-4efa-807b-a628d5e6b1f3",
   "metadata": {},
   "source": [
    "# Passa alto"
   ]
  },
  {
   "cell_type": "code",
   "execution_count": null,
   "id": "ea89e0fd-c704-40b8-bd34-08d3c0d97e5a",
   "metadata": {},
   "outputs": [],
   "source": []
  }
 ],
 "metadata": {
  "kernelspec": {
   "display_name": "Julia 1.10.4",
   "language": "julia",
   "name": "julia-1.10"
  },
  "language_info": {
   "file_extension": ".jl",
   "mimetype": "application/julia",
   "name": "julia",
   "version": "1.10.4"
  }
 },
 "nbformat": 4,
 "nbformat_minor": 5
}
