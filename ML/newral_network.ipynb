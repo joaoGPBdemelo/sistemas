{
 "cells": [
  {
   "cell_type": "markdown",
   "metadata": {},
   "source": [
    "# projeto rede neural \n",
    "- 0: Primeiro vou defirnir minha função sigma\n",
    "- 1: Fazer o algoritimo da descida do gradiente\n",
    "- 2: Depois minha função que intera a descido do gradiente\n",
    "- 3: Inicio minha rede, com funcoes custo e tudo\n",
    "- 4: Crio a função que calcula o delta da ultima camada\n",
    "- 6: Crio a função que calcula das outras camadas\n",
    "- 7: Coloco tudo num ciclo de treino\n",
    "- 8: Calculo as médias\n",
    "- 9: Jogo na descida do gradiente\n",
    "- 10: repito de 7 - 9\n",
    "- 11: fazer grafico dinamico do custo e da precisão\n",
    "- 12: rescrever em júlia"
   ]
  },
  {
   "cell_type": "code",
   "execution_count": 37,
   "metadata": {},
   "outputs": [],
   "source": [
    "# bibliotecas\n",
    "import numpy as np\n",
    "import matplotlib.pyplot as plt\n",
    "import pandas as pd"
   ]
  },
  {
   "cell_type": "code",
   "execution_count": 38,
   "metadata": {},
   "outputs": [],
   "source": [
    "def sigma(z):\n",
    "    return 1/(1 + np.exp(-z))\n",
    "# w --> peso, grad_w --> grad de w, n --> relaxação\n",
    "def grad_descend_2(w,jacob_C,grad_C_y,n):\n",
    "    w =w - n * jacob_C.T @ grad_C_y\n",
    "    return w\n",
    "\n",
    "def grad_descend(w,grad_C,n):\n",
    "    w = w - n * grad_C\n",
    "    return w\n",
    "# cost functions\n",
    "def C (output,expected):\n",
    "    cost = (expected - output)**2\n",
    "    return np.mean(cost)\n",
    "# z function\n",
    "def z(sigma,w,x,b):\n",
    "    return sigma(w @ x + b)\n",
    "\n",
    "def delta_out(output,expected):\n",
    "    return 2*(expected - output)*output * (1 - output)\n",
    " \n",
    "#fazer por neuronio\n",
    "# value e o valor obtido, delta_mais um e o delta de todos os neuronios da camada seguinta, w pessos em relação a camada seguite\n",
    "def delta(delta_l_mais_1,w,value):\n",
    "    delta_l_minos_1 = delta_l_mais_1 * w * ( value * (1-value) )\n",
    "    return np.sum(delta_l_minos_1)\n",
    "\n"
   ]
  },
  {
   "cell_type": "code",
   "execution_count": 39,
   "metadata": {},
   "outputs": [],
   "source": [
    "# newral check\n",
    "class newral:\n",
    "    \n",
    "    def __init__(self,input_size):\n",
    "        # inputs \n",
    "        self.h_l_size = 10\n",
    "        h_l_size  = self.h_l_size\n",
    "        self.input_size = input_size \n",
    "        output_size  = 10\n",
    "        \n",
    "        \n",
    "        # criando os vetores intermediarios\n",
    "        self.y1 = np.zeros(h_l_size)\n",
    "        self.y2 = np.zeros(output_size)\n",
    "        \n",
    "        \n",
    "        #-----------------------------#\n",
    "        # input vector\n",
    "        self.x = np.zeros(input_size)\n",
    "        \n",
    "        # hl vecotor\n",
    "        self.hl_vctor = np.zeros(h_l_size)\n",
    "        \n",
    "        #outpu vector\n",
    "        self.output_vector = np.zeros(output_size)\n",
    "        \n",
    "        # weight 1 # fazer a inicialização xavier\n",
    "        self.w_0_1 = np.random.randn(h_l_size,input_size)  * np.sqrt(1.0/ self.input_size)\n",
    "        \n",
    "        # bias 1\n",
    "        self.b_1 = np.random.randn(h_l_size) * np.sqrt(1.0/ h_l_size)\n",
    "        \n",
    "        # weight 2\n",
    "        self.w_1_2 = np.random.randn(output_size,h_l_size) * np.sqrt(1.0/ h_l_size)\n",
    "        \n",
    "        # bias 2\n",
    "        self.b_2 = np.random.randn(output_size) * np.sqrt(1.0/ output_size)\n",
    "\n",
    "\n",
    "\n",
    "    def thinking(self,input_):\n",
    "        \n",
    "        # dou meu input\n",
    "        self.x = input_\n",
    "        \n",
    "        # hl\n",
    "        z1 = self.w_0_1 @ self.x + self.b_1\n",
    "        self.y1 = sigma(z1)\n",
    "        \n",
    "        #output\n",
    "        z2 = self.w_1_2 @ self.y1 + self.b_2\n",
    "        self.y2 = sigma(z2)\n",
    "        \n",
    "        return self.y2\n"
   ]
  },
  {
   "cell_type": "code",
   "execution_count": 40,
   "metadata": {},
   "outputs": [
    {
     "data": {
      "text/plain": [
       "(60000, 785)"
      ]
     },
     "execution_count": 40,
     "metadata": {},
     "output_type": "execute_result"
    },
    {
     "data": {
      "image/png": "[encoded data removed]",
      "text/plain": [
       "<Figure size 432x288 with 1 Axes>"
      ]
     },
     "metadata": {
      "needs_background": "light"
     },
     "output_type": "display_data"
    }
   ],
   "source": [
    "# Loading the images\n",
    "train = np.array(pd.read_csv('archive/mnist_train.csv'))\n",
    "train_tag = train[:,0]\n",
    "train = train / 255.0\n",
    "# a linhas tem o label e a imagem\n",
    "plt.imshow(train[1,1:].reshape(28, 28),cmap = 'gray')\n",
    "\n",
    "# veotor resultado\n",
    "expected = np.zeros(10)\n",
    "expected[train_tag[1]] = 1\n",
    "np.shape(train)\n"
   ]
  },
  {
   "cell_type": "code",
   "execution_count": 10,
   "metadata": {},
   "outputs": [],
   "source": [
    "rede1 = newral(784)\n",
    "### ------ segurança ------ ###"
   ]
  },
  {
   "cell_type": "code",
   "execution_count": 33,
   "metadata": {},
   "outputs": [],
   "source": [
    "# ciclo e treinameto da minha rede\n",
    "# ---> iniciando minhas rede\n",
    "n_inputs = 784\n",
    "rede = newral(n_inputs)\n",
    "size_delta_l_menos_1 = rede.h_l_size\n",
    "dataset_len = 10\n",
    "output_len = 10\n",
    "x_input = np.zeros((dataset_len, n_inputs))\n",
    "y2 = np.zeros((dataset_len,output_len))\n",
    "y1 = np.zeros((dataset_len,rede.h_l_size))\n",
    "expected = np.zeros((dataset_len, output_len))\n",
    "n = 10\n",
    "l = 0\n",
    "i = 0\n",
    "\n",
    "\n",
    "while l < 6000:\n",
    "    # Deltas\n",
    "    deltas_L1 = np.zeros((dataset_len,size_delta_l_menos_1))\n",
    "    deltas_L2 = np.zeros((dataset_len,output_len))\n",
    "\n",
    "    #Calculando os deltas de um dataset\n",
    "    for i in range (dataset_len):\n",
    "        # ---> guardando meu primeito output numa variavel, train é minha matriz com os valores e o label\n",
    "        x_input[i,:] = train[i + l*dataset_len,1:]\n",
    "        # o vetor esperado\n",
    "        expected[i, train_tag[i + l*dataset_len]] = 1\n",
    "        # minhas rede pensando\n",
    "        y2[i,:] = rede.thinking(x_input[i,:])\n",
    "        y1[i,:] = rede.y1\n",
    "\n",
    "        #calculando a função custo\n",
    "        #cost = C(y2[i,:] , expected[])\n",
    "\n",
    "        # calculando o delta da primeira camanda\n",
    "        deltas_L2[i,:] = delta_out(y2[i,:],expected[i,:])\n",
    "\n",
    "        # calculando o delta da camada anterior\n",
    "        size_w = np.size(rede.w_1_2[0,:])\n",
    "\n",
    "    # calculo os meus deltas\n",
    "    i = 0\n",
    "    for i in range (dataset_len):\n",
    "        for k in range(size_w):\n",
    "            deltas_L1[i,k] = delta(deltas_L2[i,:],rede.w_1_2[:,k],y1[i,k])\n",
    "    \n",
    "        k = 0\n",
    "    \n",
    "    \n",
    "\n",
    "    \n",
    "    # ja tenho os deltas calculados tenho que calcular agora os valores dos gradientes, de todas as imagens\n",
    "    gradient_w_1_2_x = np.zeros((output_len,rede.h_l_size,dataset_len))\n",
    "    i = 0\n",
    "    k = 0\n",
    "    for i in range(dataset_len):\n",
    "        for k in range(output_len):\n",
    "            gradient_w_1_2_x[k,:,i] = deltas_L2[i,k] * y1[i,:]\n",
    "        k = 0\n",
    "\n",
    "    gradient_w_0_1_x = np.zeros((rede.h_l_size,rede.input_size,dataset_len))\n",
    "    i = 0\n",
    "    k = 0\n",
    "    for i in range(dataset_len):\n",
    "        for k in range(rede.h_l_size):\n",
    "            gradient_w_0_1_x[k,:,i] = deltas_L1[i,k] * x_input[i,:]\n",
    "        k = 0\n",
    "        \n",
    "    # calcular a media por interação agora\n",
    "    gradient_w_1_2 = np.zeros((output_len,rede.h_l_size))\n",
    "    gradient_w_0_1 = np.zeros((rede.h_l_size,rede.input_size))\n",
    "\n",
    "    i = 0\n",
    "    k = 0\n",
    "    for i in range(output_len):\n",
    "        for k in range(rede.h_l_size):\n",
    "            gradient_w_1_2[i,k] = np.mean(gradient_w_1_2_x[i,k,:]) \n",
    "        k = 0\n",
    "        \n",
    "    i = 0\n",
    "    k = 0\n",
    "    for i in range(rede.h_l_size):\n",
    "        for k in range(rede.input_size):\n",
    "            gradient_w_0_1[i,k] = np.mean(gradient_w_0_1_x[i,k,:])\n",
    "        k = 0\n",
    "\n",
    "        \n",
    "    # agora a medias das bias\n",
    "    grad_bias_1 = np.zeros(rede.h_l_size)\n",
    "\n",
    "    grad_bias_2 = np.zeros(output_len)\n",
    "\n",
    "    i = 0\n",
    "    for i in range(rede.h_l_size):\n",
    "        grad_bias_1[i] = np.mean(deltas_L1[:,i]) \n",
    "    k = 0\n",
    "    for k in range(output_len):\n",
    "        grad_bias_2[k] = np.mean(deltas_L2[:,k])\n",
    "# atualizando os gradientes(w,grad,n)\n",
    "\n",
    "    rede.w_0_1 -= n*gradient_w_0_1\n",
    "    rede.w_1_2 -= n*gradient_w_1_2\n",
    "    rede.b_1 -= n*grad_bias_1\n",
    "    rede.b_2 -= n*grad_bias_2\n",
    "# atualizando o l\n",
    "    l += 1"
   ]
  },
  {
   "cell_type": "code",
   "execution_count": 76,
   "metadata": {},
   "outputs": [],
   "source": [
    "# ja tenho os deltas calculados tenho que calcular agora os valores dos gradientes, de todas as imagens\n",
    "gradient_w_1_2_x = np.zeros((output_len,rede.h_l_size,dataset_len))\n",
    "i = 0\n",
    "k = 0\n",
    "for i in range(dataset_len):\n",
    "    for k in range(output_len):\n",
    "        gradient_w_1_2_x[k,:,i] = deltas_L2[i,k] * rede.y1\n",
    "\n",
    "\n",
    "gradient_w_0_1_x = np.zeros((rede.h_l_size,rede.input_size,dataset_len))\n",
    "i = 0\n",
    "k = 0\n",
    "for i in range(dataset_len):\n",
    "    for k in range(rede.h_l_size):\n",
    "        gradient_w_0_1_x[k,:,i] = deltas_L1[i,k] * rede.x\n",
    "        \n"
   ]
  },
  {
   "cell_type": "code",
   "execution_count": null,
   "metadata": {},
   "outputs": [],
   "source": [
    "# calcular a media por interação agora\n",
    "gradient_w_1_2 = np.zeros((output_len,rede.h_l_size))\n",
    "gradient_w_0_1 = np.zeros((rede.h_l_size,rede.input_size))\n",
    "\n",
    "i = 0\n",
    "k = 0\n",
    "for i in range(output_len):\n",
    "    for k in range(rede.h_l_size):\n",
    "        gradient_w_1_2[i,k] = np.mean(gradient_w_1_2_x[i,k,:]) \n",
    "\n",
    "i = 0\n",
    "k = 0\n",
    "for i in range(rede.h_l_size):\n",
    "    for k in range(rede.input_size):\n",
    "        gradient_w_0_1[i,k] = np.mean(gradient_w_0_1_x[i,k,:]) \n",
    "        \n",
    "# agora a medias das bias\n",
    "grad_bias_1 = np.zeros(rede.h_l_size)\n",
    "\n",
    "grad_bias_2 = np.zeros(output_len)\n",
    "\n",
    "i = 0\n",
    "for i in range(rede.h_l_size):\n",
    "    grad_bias_1[i] = np.mean(deltas_L1[:,i]) \n",
    "k = 0\n",
    "for k in range(output_len):\n",
    "    grad_bias_2[k] = np.mean(deltas_L2[:,k])\n",
    "# atualizando os gradientes(w,grad,n)\n",
    "\n",
    "grad_descend(rede.w_0_1,gradient_w_0_1,10)\n",
    "grad_descend(rede.w_1_2,gradient_w_1_2,10)\n",
    "grad_descend(rede.b_1,grad_bias_1,1)\n",
    "grad_descend(rede.b_2,grad_bias_2,1)"
   ]
  },
  {
   "cell_type": "code",
   "execution_count": 6,
   "metadata": {},
   "outputs": [],
   "source": [
    "test = np.array(pd.read_csv('archive/mnist_test.csv'))\n",
    "# Loading the images\n",
    "test = np.array(pd.read_csv('archive/mnist_test.csv'))\n",
    "test_tag = train[:,0]\n"
   ]
  },
  {
   "cell_type": "code",
   "execution_count": 34,
   "metadata": {},
   "outputs": [
    {
     "name": "stdout",
     "output_type": "stream",
     "text": [
      "[0.99975967 0.99869278 0.99962674 0.99966529 0.99997672 0.99953931\n",
      " 0.9999891  0.99967471 0.99998925 0.99996405]\n",
      "0\n"
     ]
    },
    {
     "data": {
      "text/plain": [
       "array([[ 0.0391193 ,  0.04195869,  0.01799161, ...,  0.02997195,\n",
       "        -0.03311249,  0.00941895],\n",
       "       [ 0.00255334, -0.02962597, -0.02603708, ..., -0.01673535,\n",
       "        -0.03020327,  0.02446908],\n",
       "       [ 0.0041884 , -0.0327013 ,  0.04095165, ...,  0.01307841,\n",
       "        -0.03507031, -0.02894796],\n",
       "       ...,\n",
       "       [-0.01651856, -0.04201183, -0.02834375, ...,  0.02610503,\n",
       "         0.00559841, -0.02349527],\n",
       "       [-0.03193456, -0.0569549 , -0.04432506, ...,  0.0088695 ,\n",
       "        -0.02438187,  0.00280873],\n",
       "       [-0.05053373,  0.03684961, -0.03599257, ...,  0.02369122,\n",
       "         0.04314577,  0.06254607]])"
      ]
     },
     "execution_count": 34,
     "metadata": {},
     "output_type": "execute_result"
    }
   ],
   "source": [
    "print(rede.thinking(train[1,1:]))\n",
    "print(train_tag[1])\n",
    "rede.w_0_1"
   ]
  },
  {
   "cell_type": "code",
   "execution_count": 2,
   "metadata": {},
   "outputs": [
    {
     "name": "stdout",
     "output_type": "stream",
     "text": [
      "0\n",
      "1\n"
     ]
    }
   ],
   "source": []
  }
 ],
 "metadata": {
  "kernelspec": {
   "display_name": "Python 3",
   "language": "python",
   "name": "python3"
  },
  "language_info": {
   "codemirror_mode": {
    "name": "ipython",
    "version": 3
   },
   "file_extension": ".py",
   "mimetype": "text/x-python",
   "name": "python",
   "nbconvert_exporter": "python",
   "pygments_lexer": "ipython3",
   "version": "3.7.6"
  }
 },
 "nbformat": 4,
 "nbformat_minor": 4
}
