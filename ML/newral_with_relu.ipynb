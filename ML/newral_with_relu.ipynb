{
 "cells": [
  {
   "cell_type": "code",
   "execution_count": 1,
   "metadata": {},
   "outputs": [],
   "source": [
    "# bibliotecas\n",
    "import numpy as np\n",
    "import matplotlib.pyplot as plt\n",
    "import pandas as pd"
   ]
  },
  {
   "cell_type": "code",
   "execution_count": 2,
   "metadata": {},
   "outputs": [],
   "source": [
    "def sigma(z):\n",
    "    return 1/(1 + np.exp(-z))\n",
    "\n",
    "def relu(z):\n",
    "    return np.maximum(0,z)\n",
    "\n",
    "def sigma_deri(output):\n",
    "    return output * (1 - output)\n",
    "\n",
    "def relu_deri(z):\n",
    "    return z > 0\n",
    "\n",
    "def grad_descend(w,grad_C,n):\n",
    "    w = w - n * grad_C\n",
    "    return w\n",
    "# cost functions\n",
    "def C (output,expected):\n",
    "    cost = (expected - output)**2\n",
    "    return np.mean(cost)\n",
    "# z function\n",
    "def z(sigma,w,x,b):\n",
    "    return sigma(w @ x + b)\n",
    "\n",
    "def delta_out(output,expected):\n",
    "    return 2*(expected - output)* sigma_deri(output)\n",
    " \n",
    "#fazer por neuronio\n",
    "# value e o valor obtido, delta_mais um e o delta de todos os neuronios da camada seguinta, w pessos em relação a camada seguite\n",
    "def delta(delta_l_mais_1,w,value):\n",
    "    delta_l_minos_1 = np.dot(delta_l_mais_1 , w) * relu_deri(value)\n",
    "    return delta_l_minos_1\n",
    "\n",
    "  \n",
    "\n",
    "\n",
    "def delta_out_cross(output,expected,epsilon = 1e-10):\n",
    "    output = np.clip(output, epsilon, 1 - epsilon)\n",
    "    return  output - expected\n",
    "\n",
    "\n",
    "def batch_normalization( z, gamma, beta, epsilon=1e-5):\n",
    "    mean = np.mean(z, axis=0)\n",
    "    variance = np.var(z, axis=0)\n",
    "    z_hat = (z - mean) / np.sqrt(variance + epsilon)\n",
    "    return gamma * z_hat + beta\n",
    "\n",
    "def softmax(Z):\n",
    "    Z -= np.max(Z, axis=0)  # Subtract max value for numerical stability\n",
    "    A = np.exp(Z) / np.sum(np.exp(Z), axis=0)\n",
    "    return A"
   ]
  },
  {
   "cell_type": "code",
   "execution_count": 3,
   "metadata": {},
   "outputs": [],
   "source": [
    "# newral check\n",
    "class newral:\n",
    "    \n",
    "    def __init__(self,input_size):\n",
    "        # inputs \n",
    "        self.h_l_1size = 16\n",
    "        self.h_l_2size = 16\n",
    "        self.input_size = input_size \n",
    "        self.output_size  = 10\n",
    "        \n",
    "        \n",
    "        # criando os vetores intermediarios\n",
    "        self.y1 = np.zeros(self.h_l_1size)\n",
    "        self.y2 = np.zeros(self.h_l_2size)\n",
    "        self.y3 = np.zeros(self.output_size)\n",
    "        \n",
    "        \n",
    "        #-----------------------------#\n",
    "        # input vector\n",
    "        self.x = np.zeros(self.input_size)\n",
    "\n",
    "        \n",
    "        # weight 0_1 # fazer a inicialização xavier\n",
    "        self.w_0_1 = np.random.randn(self.h_l_1size,self.input_size)  * np.sqrt(2.0/ self.input_size)\n",
    "        \n",
    "        # bias 1\n",
    "        self.b_1 = np.random.randn(self.h_l_1size) * np.sqrt(2.0/ self.h_l_1size)\n",
    "        \n",
    "        # weight 1_2 # fazer a inicialização xavier\n",
    "        self.w_1_2 = np.random.rand(self.h_l_2size,self.h_l_1size) * np.sqrt(2.0/ self.h_l_1size)\n",
    "        \n",
    "        # bias 2\n",
    "        self.b_2 = np.random.randn(self.h_l_2size) * np.sqrt(2.0/ self.h_l_2size)\n",
    "        \n",
    "        \n",
    "        # weight 2_3\n",
    "        self.w_2_3 = np.random.randn(self.output_size,self.h_l_2size) *  np.sqrt(2.0/ self.h_l_2size)\n",
    "        \n",
    "        # bias 3\n",
    "        self.b_3 = np.random.randn(self.output_size) * np.sqrt(2.0/ self.output_size)\n",
    "\n",
    "\n",
    "\n",
    "    def thinking(self,input_):\n",
    "        \n",
    "        # dou meu input\n",
    "        self.x = input_\n",
    "        \n",
    "        # hl1\n",
    "        z1 = self.w_0_1  @ self.x + self.b_1\n",
    "        self.y1 = relu(z1)\n",
    "        \n",
    "        # hl1\n",
    "        z2 = self.w_1_2  @ self.y1 + self.b_2\n",
    "        self.y2 = relu(z2)\n",
    "        \n",
    "        #output\n",
    "        z3 = self.w_2_3 @ self.y2 + self.b_3\n",
    "        self.y3 = softmax(z3)\n",
    "        \n",
    "        return self.y3\n"
   ]
  },
  {
   "cell_type": "code",
   "execution_count": 4,
   "metadata": {},
   "outputs": [
    {
     "data": {
      "text/plain": [
       "<matplotlib.image.AxesImage at 0x715b70b72b10>"
      ]
     },
     "execution_count": 4,
     "metadata": {},
     "output_type": "execute_result"
    },
    {
     "data": {
      "image/png": "[encoded data removed]",
      "text/plain": [
       "<Figure size 432x288 with 1 Axes>"
      ]
     },
     "metadata": {
      "needs_background": "light"
     },
     "output_type": "display_data"
    }
   ],
   "source": [
    "# Loading the images\n",
    "train = np.array(pd.read_csv('archive/mnist_train.csv'))\n",
    "np.random.shuffle(train) \n",
    "train_tag = train[:,0]\n",
    "train = train / 255.0\n",
    " \n",
    "# a linhas tem o label e a imagem\n",
    "plt.imshow(train[2,1:].reshape(28, 28),cmap = 'gray')"
   ]
  },
  {
   "cell_type": "code",
   "execution_count": 5,
   "metadata": {},
   "outputs": [
    {
     "data": {
      "text/plain": [
       "9"
      ]
     },
     "execution_count": 5,
     "metadata": {},
     "output_type": "execute_result"
    }
   ],
   "source": [
    "train_tag[2]"
   ]
  },
  {
   "cell_type": "code",
   "execution_count": 6,
   "metadata": {},
   "outputs": [],
   "source": [
    "# ciclo e treinameto da minha rede\n",
    "# ---> iniciando minhas rede\n",
    "n_inputs = 784\n",
    "rede = newral(n_inputs)"
   ]
  },
  {
   "cell_type": "code",
   "execution_count": 7,
   "metadata": {},
   "outputs": [],
   "source": [
    "# -------------------------- #\n",
    "#size_delta_l_menos_1 = rede.h_l_size\n",
    "dataset_len = 64\n",
    "number_of_cicles = 60000//dataset_len\n",
    "x_input = np.zeros((dataset_len,rede.input_size))\n",
    "\n",
    "\n",
    "y3 = np.zeros((dataset_len,rede.output_size))\n",
    "y2 = np.zeros((dataset_len,rede.h_l_2size))\n",
    "y1 = np.zeros((dataset_len, rede.h_l_1size))\n",
    "\n",
    "\n",
    "n = 0.1\n",
    "i = 0"
   ]
  },
  {
   "cell_type": "code",
   "execution_count": 8,
   "metadata": {},
   "outputs": [],
   "source": [
    "# local onde serão armazenados os deltas\n",
    "deltas_L1 = np.zeros((dataset_len, rede.h_l_1size))\n",
    "deltas_L2 = np.zeros((dataset_len,rede.h_l_2size))\n",
    "deltas_L3 = np.zeros((dataset_len,rede.output_size))\n",
    "\n",
    "#calculo do aprendizado\n",
    "total_loss = np.zeros((number_of_cicles ,1),float)\n",
    "\n",
    "# calculando o delta da camada anterior\n",
    "size_w_1_2 = np.size(rede.w_1_2[0,:])\n",
    "size_w_2_3 = np.size(rede.w_2_3[0,:])\n",
    "l = 0\n",
    "while l < number_of_cicles :\n",
    "    expected = np.zeros((dataset_len, rede.output_size))\n",
    "    # Deltas\n",
    "\n",
    "    #Calculando os deltas de um dataset\n",
    "    for i in range (dataset_len):\n",
    "        # ---> guardando meu primeito output numa variavel, train é minha matriz com os valores e o label\n",
    "        x_input[i,:] = train[i + l*(dataset_len - 1 ) ,1:]\n",
    "        # o vetor esperado\n",
    "        expected[i, train_tag[i + l*(dataset_len - 1 ) ]] = 1\n",
    "        \n",
    "        # minhas rede pensando\n",
    "        y3[i,:] = rede.thinking(x_input[i,:])\n",
    "        y2[i,:] = rede.y2\n",
    "        y1[i,:] = rede.y1\n",
    "        \n",
    "        #calculando a função custo\n",
    "        total_loss[l,:] += C(y3[i,:], expected[i,:])\n",
    "    \n",
    "\n",
    "        # calculando o delta da primeira camanda\n",
    "        deltas_L3[i,:] = delta_out_cross(y3[i,:],expected[i,:])\n",
    "\n",
    "        \n",
    "        \n",
    "\n",
    "    # calculo os meus deltas da camada 3 pra 2\n",
    "    \n",
    "    deltas_L2 = delta(deltas_L3,rede.w_2_3,y2)\n",
    "    \n",
    "        \n",
    "        \n",
    "    # calculo os meus deltas da camada 2 para 1\n",
    "    \n",
    "    deltas_L1 = delta(deltas_L2,rede.w_1_2,y1)\n",
    "    \n",
    "\n",
    "\n",
    "    \n",
    "    \n",
    "\n",
    "    \n",
    "    # ja tenho os deltas calculados tenho que calcular agora os valores dos gradientes, de todas as imagens\n",
    "    \n",
    "    gradient_w_2_3_x = np.zeros((rede.output_size,rede.h_l_2size,dataset_len))\n",
    "    i = 0\n",
    "    k = 0\n",
    "    for i in range(dataset_len):\n",
    "        for k in range(rede.output_size):\n",
    "            gradient_w_2_3_x[k,:,i] = deltas_L3[i,k] * y2[i,:]\n",
    "        \n",
    "    \n",
    "    gradient_w_1_2_x = np.zeros((rede.h_l_2size,rede.h_l_1size,dataset_len))\n",
    "    i = 0\n",
    "    k = 0\n",
    "    for i in range(dataset_len):\n",
    "        for k in range(rede.h_l_2size):\n",
    "            gradient_w_1_2_x[k,:,i] = deltas_L2[i,k] * y1[i,:]\n",
    "        \n",
    "\n",
    "    gradient_w_0_1_x = np.zeros((rede.h_l_1size,rede.input_size,dataset_len))\n",
    "    i = 0\n",
    "    k = 0\n",
    "    for i in range(dataset_len):\n",
    "        for k in range(rede.h_l_1size):\n",
    "            gradient_w_0_1_x[k,:,i] = deltas_L1[i,k] * x_input[i,:]\n",
    "        \n",
    "        \n",
    "              \n",
    "        \n",
    "        \n",
    "    # calcular a media por interação agora\n",
    "    gradient_w_2_3 = np.zeros((rede.output_size,rede.h_l_2size))\n",
    "    gradient_w_1_2 = np.zeros((rede.h_l_2size,rede.h_l_1size))\n",
    "    gradient_w_0_1 = np.zeros((rede.h_l_1size,rede.input_size))\n",
    "\n",
    "    i = 0\n",
    "    k = 0\n",
    "    for i in range(rede.output_size):\n",
    "        for k in range(rede.h_l_2size):\n",
    "            gradient_w_2_3[i,k] = np.mean(gradient_w_2_3_x[i,k,:]) \n",
    "    \n",
    "        \n",
    "    \n",
    "    i = 0\n",
    "    k = 0\n",
    "    for i in range(rede.h_l_2size):\n",
    "        for k in range(rede.h_l_1size):\n",
    "            gradient_w_1_2[i,k] = np.mean(gradient_w_1_2_x[i,k,:]) \n",
    "        \n",
    "        \n",
    "    i = 0\n",
    "    k = 0\n",
    "    for i in range(rede.h_l_1size):\n",
    "        for k in range(rede.input_size):\n",
    "            gradient_w_0_1[i,k] = np.mean(gradient_w_0_1_x[i,k,:])\n",
    "        \n",
    "\n",
    "        \n",
    "    # agora a medias das bias\n",
    "    grad_bias_1 = np.zeros(rede.h_l_1size)\n",
    "    grad_bias_2 = np.zeros(rede.h_l_2size)\n",
    "    grad_bias_3 = np.zeros(rede.output_size)\n",
    "\n",
    "    i = 0\n",
    "    for i in range(rede.h_l_1size):\n",
    "        grad_bias_1[i] = np.mean(deltas_L1[:,i]) \n",
    "    k = 0\n",
    "    for k in range(rede.h_l_2size):\n",
    "        grad_bias_2[k] = np.mean(deltas_L2[:,k])\n",
    "        \n",
    "    k = 0\n",
    "    for k in range(rede.output_size):\n",
    "        grad_bias_3[k] = np.mean(deltas_L3[:,k])\n",
    "# atualizando os gradientes(w,grad,n)\n",
    "# clipando os gradientes para evitar que explodam\n",
    "    max_grad = 1\n",
    "    gradient_w_0_1 = np.clip(gradient_w_0_1, -max_grad, max_grad)\n",
    "    gradient_w_1_2 = np.clip(gradient_w_1_2, -max_grad, max_grad)\n",
    "    gradient_w_2_3 = np.clip(gradient_w_2_3, -max_grad, max_grad)\n",
    "\n",
    "    lambda_reg = 0.001  # Fator de regularização/ gradient vanishi\n",
    "    rede.w_0_1 -= n * (gradient_w_0_1 + lambda_reg * rede.w_0_1)\n",
    "    rede.w_1_2 -= n * (gradient_w_1_2 + lambda_reg * rede.w_1_2)\n",
    "    rede.w_2_3 -= n * (gradient_w_2_3 + lambda_reg * rede.w_2_3)\n",
    "\n",
    "    rede.b_1 -= n*grad_bias_1\n",
    "    rede.b_2 -= n*grad_bias_2\n",
    "    rede.b_3 -= n*grad_bias_3\n",
    "# atualizando o l\n",
    "    total_loss[l,:] /= dataset_len\n",
    "    l += 1\n",
    "    "
   ]
  },
  {
   "cell_type": "code",
   "execution_count": 9,
   "metadata": {},
   "outputs": [
    {
     "data": {
      "text/plain": [
       "[<matplotlib.lines.Line2D at 0x715b70c94750>]"
      ]
     },
     "execution_count": 9,
     "metadata": {},
     "output_type": "execute_result"
    },
    {
     "data": {
      "image/png": "[encoded data removed]",
      "text/plain": [
       "<Figure size 432x288 with 1 Axes>"
      ]
     },
     "metadata": {
      "needs_background": "light"
     },
     "output_type": "display_data"
    }
   ],
   "source": [
    "plt.plot(total_loss[:,:] )\n",
    "#total_loss"
   ]
  },
  {
   "cell_type": "code",
   "execution_count": 11,
   "metadata": {},
   "outputs": [
    {
     "name": "stdout",
     "output_type": "stream",
     "text": [
      "[4.21745224e-04 1.64364173e-05 2.86187860e-05 2.67752594e-03\n",
      " 2.69048443e-03 3.90982239e-04 4.19842995e-07 9.28912980e-01\n",
      " 2.74453499e-03 6.21162717e-02]\n",
      "7\n"
     ]
    },
    {
     "data": {
      "text/plain": [
       "(array([0.        , 0.32657797, 3.76227231, 0.35318222, 1.21599086,\n",
       "        0.        , 1.63957226, 0.        , 1.24547184, 0.        ,\n",
       "        1.55086015, 2.04830014, 0.50297698, 0.04647695, 3.70420009,\n",
       "        0.        ]),\n",
       " array([2.7188921 , 4.84224358, 0.48787511, 3.99727508, 3.93280791,\n",
       "        0.6773573 , 2.30394154, 1.4465985 , 0.9351521 , 2.50573463,\n",
       "        1.3909458 , 2.10434173, 4.14951396, 1.84827309, 1.31661387,\n",
       "        2.38863791]))"
      ]
     },
     "execution_count": 11,
     "metadata": {},
     "output_type": "execute_result"
    }
   ],
   "source": [
    "print(rede.thinking(train[1000,1:]))\n",
    "print(train_tag[1000])\n",
    "\n",
    "rede.y1,rede.y2"
   ]
  },
  {
   "cell_type": "code",
   "execution_count": null,
   "metadata": {},
   "outputs": [],
   "source": []
  }
 ],
 "metadata": {
  "kernelspec": {
   "display_name": "Python 3",
   "language": "python",
   "name": "python3"
  },
  "language_info": {
   "codemirror_mode": {
    "name": "ipython",
    "version": 3
   },
   "file_extension": ".py",
   "mimetype": "text/x-python",
   "name": "python",
   "nbconvert_exporter": "python",
   "pygments_lexer": "ipython3",
   "version": "3.7.6"
  }
 },
 "nbformat": 4,
 "nbformat_minor": 4
}
