{
 "cells": [
  {
   "cell_type": "markdown",
   "metadata": {},
   "source": [
    "# projeto rede neural \n",
    "- 0: Primeiro vou defirnir minha função sigma\n",
    "- 1: Fazer o algoritimo da descida do gradiente\n",
    "- 2: Depois minha função que intera a descido do gradiente\n",
    "- 3: Inicio minha rede, com funcoes custo e tudo\n",
    "- 4: Crio a função que calcula o delta da ultima camada\n",
    "- 6: Crio a função que calcula das outras camadas\n",
    "- 7: Coloco tudo num ciclo de treino\n",
    "- 8: Calculo as médias\n",
    "- 9: Jogo na descida do gradiente\n",
    "- 10: repito de 7 - 9\n",
    "- 11: rescrever em júlia"
   ]
  },
  {
   "cell_type": "code",
   "execution_count": 3,
   "metadata": {},
   "outputs": [],
   "source": [
    "# bibliotecas\n",
    "import numpy as np\n",
    "import matplotlib.pyplot as plt"
   ]
  },
  {
   "cell_type": "code",
   "execution_count": 26,
   "metadata": {},
   "outputs": [],
   "source": [
    "def sigma(z):\n",
    "    return 1/(1 + np.exp(-z))\n",
    "# w --> peso, grad_w --> grad de w, n --> relaxação\n",
    "def grad_descend_2(w,jacob_C,grad_C_y,n):\n",
    "    w =w - n * jacob_C.T @ grad_C_y\n",
    "    return w\n",
    "\n",
    "def grad_descend(w,grad_C,n):\n",
    "    w = w - n * grad_C\n",
    "    return w\n",
    "# cost functions\n",
    "def C (output,expected):\n",
    "    cost = (expected - output)**2\n",
    "    return np.mean(cost)\n",
    "# z function\n",
    "def z(sigma,w,x,b):\n",
    "    return sigma(w @ x + b)\n",
    "def delta_out(output,expected):\n",
    "    return 2*(expected - output) @ (1 - output)\n",
    "\n",
    " \n",
    "def delta(delta,layes):\n",
    "    "
   ]
  },
  {
   "cell_type": "code",
   "execution_count": 16,
   "metadata": {},
   "outputs": [
    {
     "data": {
      "text/plain": [
       "array([[-0.29230535, -0.3006401 ],\n",
       "       [-0.56063466, -2.46771089]])"
      ]
     },
     "execution_count": 16,
     "metadata": {},
     "output_type": "execute_result"
    }
   ],
   "source": [
    "class newral:\n",
    "    \n",
    "    def __init__(self,input_size):\n",
    "        # inputs \n",
    "        h_l_size = 10\n",
    "        output_size  = 10\n",
    "        # input vector\n",
    "        x = np.random.randn(input_size)\n",
    "        # weight 1\n",
    "        w_0_1 = np.random.randn(input_size,h_l_size)\n",
    "        # bias 1\n",
    "        b_1 = np.random.rand(h_l_size)\n",
    "        # weight 2\n",
    "        w_1_2 = np.random.randn(h_l_size,output_size)\n",
    "        # bias 2\n",
    "        b_2 = np.rand.randn(output_size)\n"
   ]
  }
 ],
 "metadata": {
  "kernelspec": {
   "display_name": "Python 3",
   "language": "python",
   "name": "python3"
  },
  "language_info": {
   "codemirror_mode": {
    "name": "ipython",
    "version": 3
   },
   "file_extension": ".py",
   "mimetype": "text/x-python",
   "name": "python",
   "nbconvert_exporter": "python",
   "pygments_lexer": "ipython3",
   "version": "3.7.6"
  }
 },
 "nbformat": 4,
 "nbformat_minor": 4
}
