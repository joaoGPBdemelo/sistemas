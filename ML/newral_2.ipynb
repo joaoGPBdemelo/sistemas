{
 "cells": [
  {
   "cell_type": "code",
   "execution_count": 1,
   "metadata": {},
   "outputs": [],
   "source": [
    "# fazer a rede newral com mais uma camada, depois deixar adaptavel isso"
   ]
  },
  {
   "cell_type": "code",
   "execution_count": 1,
   "metadata": {},
   "outputs": [],
   "source": [
    "# bibliotecas\n",
    "import numpy as np\n",
    "import matplotlib.pyplot as plt\n",
    "import pandas as pd"
   ]
  },
  {
   "cell_type": "code",
   "execution_count": 19,
   "metadata": {},
   "outputs": [],
   "source": [
    "def sigma(z):\n",
    "    return 1/(1 + np.exp(-z))\n",
    "# w --> peso, grad_w --> grad de w, n --> relaxação\n",
    "def grad_descend_2(w,jacob_C,grad_C_y,n):\n",
    "    w =w - n * jacob_C.T @ grad_C_y\n",
    "    return w\n",
    "\n",
    "def grad_descend(w,grad_C,n):\n",
    "    w = w - n * grad_C\n",
    "    return w\n",
    "# cost functions\n",
    "def C (output,expected):\n",
    "    cost = (expected - output)**2\n",
    "    return np.mean(cost)\n",
    "# z function\n",
    "def z(sigma,w,x,b):\n",
    "    return sigma(w @ x + b)\n",
    "\n",
    "def delta_out(output,expected):\n",
    "    return 2*(expected - output)*output * (1 - output)\n",
    " \n",
    "#fazer por neuronio\n",
    "# value e o valor obtido, delta_mais um e o delta de todos os neuronios da camada seguinta, w pessos em relação a camada seguite\n",
    "def delta(delta_l_mais_1,w,value):\n",
    "    delta_l_minos_1 = np.dot(delta_l_mais_1 , w) * ( value * (1-value) )\n",
    "    return delta_l_minos_1\n",
    "\n"
   ]
  },
  {
   "cell_type": "code",
   "execution_count": 12,
   "metadata": {},
   "outputs": [],
   "source": [
    "# newral check\n",
    "class newral:\n",
    "    \n",
    "    def __init__(self,input_size):\n",
    "        # inputs \n",
    "        self.h_l_1size = 128\n",
    "        self.h_l_2size = 64\n",
    "        self.input_size = input_size \n",
    "        self.output_size  = 10\n",
    "        \n",
    "        \n",
    "        # criando os vetores intermediarios\n",
    "        self.y1 = np.zeros(self.h_l_1size)\n",
    "        self.y2 = np.zeros(self.h_l_2size)\n",
    "        self.y3 = np.zeros(self.output_size)\n",
    "        \n",
    "        \n",
    "        #-----------------------------#\n",
    "        # input vector\n",
    "        self.x = np.zeros(self.input_size)\n",
    "\n",
    "        \n",
    "        # weight 0_1 # fazer a inicialização xavier\n",
    "        self.w_0_1 = np.random.randn(self.h_l_1size,self.input_size)  * np.sqrt(1.0/ self.input_size)\n",
    "        \n",
    "        # bias 1\n",
    "        self.b_1 = np.random.randn(self.h_l_1size) * np.sqrt(1.0/ self.h_l_1size)\n",
    "        \n",
    "        # weight 1_2 # fazer a inicialização xavier\n",
    "        self.w_1_2 = np.random.randn(self.h_l_2size,self.h_l_1size)  * np.sqrt(1.0/ self.h_l_1size)\n",
    "        \n",
    "        # bias 2\n",
    "        self.b_2 = np.random.randn(self.h_l_2size) * np.sqrt(1.0/ self.h_l_2size)\n",
    "        \n",
    "        \n",
    "        # weight 2_3\n",
    "        self.w_2_3 = np.random.randn(self.output_size,self.h_l_2size) *  np.sqrt(1.0/ self.h_l_2size)\n",
    "        \n",
    "        # bias 3\n",
    "        self.b_3 = np.random.randn(self.output_size) * np.sqrt(1.0/ self.output_size)\n",
    "\n",
    "\n",
    "\n",
    "    def thinking(self,input_):\n",
    "        \n",
    "        # dou meu input\n",
    "        self.x = input_\n",
    "        \n",
    "        # hl1\n",
    "        z1 = self.w_0_1 @ self.x + self.b_1\n",
    "        self.y1 = sigma(z1)\n",
    "        \n",
    "        # hl1\n",
    "        z2 = self.w_1_2 @ self.y1 + self.b_2\n",
    "        self.y2 = sigma(z2)\n",
    "        \n",
    "        #output\n",
    "        z3 = self.w_2_3 @ self.y2 + self.b_3\n",
    "        self.y3 = sigma(z3)\n",
    "        \n",
    "        return self.y3\n"
   ]
  },
  {
   "cell_type": "code",
   "execution_count": 13,
   "metadata": {},
   "outputs": [
    {
     "data": {
      "text/plain": [
       "(10,)"
      ]
     },
     "execution_count": 13,
     "metadata": {},
     "output_type": "execute_result"
    }
   ],
   "source": [
    "rede_test = newral(100)\n",
    "np.shape(rede_test.y3)"
   ]
  },
  {
   "cell_type": "code",
   "execution_count": 14,
   "metadata": {},
   "outputs": [
    {
     "data": {
      "text/plain": [
       "<matplotlib.image.AxesImage at 0x7db13b973210>"
      ]
     },
     "execution_count": 14,
     "metadata": {},
     "output_type": "execute_result"
    },
    {
     "data": {
      "image/png": "[encoded data removed]",
      "text/plain": [
       "<Figure size 432x288 with 1 Axes>"
      ]
     },
     "metadata": {
      "needs_background": "light"
     },
     "output_type": "display_data"
    }
   ],
   "source": [
    "# Loading the images\n",
    "train = np.array(pd.read_csv('archive/mnist_train.csv'))\n",
    "np.random.shuffle(train) \n",
    "train_tag = train[:,0]\n",
    "train = train / 255.0\n",
    " \n",
    "# a linhas tem o label e a imagem\n",
    "plt.imshow(train[1,1:].reshape(28, 28),cmap = 'gray')"
   ]
  },
  {
   "cell_type": "code",
   "execution_count": 15,
   "metadata": {},
   "outputs": [
    {
     "data": {
      "text/plain": [
       "(array([1., 0., 0., 0., 0., 0., 0., 0., 0., 0.]), 0)"
      ]
     },
     "execution_count": 15,
     "metadata": {},
     "output_type": "execute_result"
    }
   ],
   "source": [
    "# veotor resultado\n",
    "expected = np.zeros(10)\n",
    "expected[train_tag[1]]= 1\n",
    "np.shape(train)\n",
    "expected,train_tag[1]"
   ]
  },
  {
   "cell_type": "code",
   "execution_count": 16,
   "metadata": {},
   "outputs": [],
   "source": [
    "# ciclo e treinameto da minha rede\n",
    "# ---> iniciando minhas rede\n",
    "n_inputs = 784\n",
    "rede = newral(n_inputs)"
   ]
  },
  {
   "cell_type": "code",
   "execution_count": 17,
   "metadata": {},
   "outputs": [],
   "source": [
    "# -------------------------- #\n",
    "#size_delta_l_menos_1 = rede.h_l_size\n",
    "dataset_len = 32\n",
    "number_of_cicles = 60000//dataset_len\n",
    "x_input = np.zeros((dataset_len,rede.input_size))\n",
    "\n",
    "\n",
    "y3 = np.zeros((dataset_len,rede.output_size))\n",
    "y2 = np.zeros((dataset_len,rede.h_l_2size))\n",
    "y1 = np.zeros((dataset_len, rede.h_l_1size))\n",
    "\n",
    "expected = np.zeros((dataset_len, rede.output_size))\n",
    "n = 100\n",
    "l = 0\n",
    "i = 0"
   ]
  },
  {
   "cell_type": "code",
   "execution_count": 18,
   "metadata": {},
   "outputs": [
    {
     "ename": "ValueError",
     "evalue": "operands could not be broadcast together with shapes (64,128) (32,128) ",
     "output_type": "error",
     "traceback": [
      "\u001b[0;31m---------------------------------------------------------------------------\u001b[0m",
      "\u001b[0;31mValueError\u001b[0m                                Traceback (most recent call last)",
      "\u001b[0;32m<ipython-input-18-1a90b55f39ad>\u001b[0m in \u001b[0;36m<module>\u001b[0;34m\u001b[0m\n\u001b[1;32m     41\u001b[0m     \u001b[0;31m# calculo os meus deltas da camada 2 para 1\u001b[0m\u001b[0;34m\u001b[0m\u001b[0;34m\u001b[0m\u001b[0;34m\u001b[0m\u001b[0m\n\u001b[1;32m     42\u001b[0m \u001b[0;34m\u001b[0m\u001b[0m\n\u001b[0;32m---> 43\u001b[0;31m     \u001b[0mdeltas_L1\u001b[0m \u001b[0;34m=\u001b[0m \u001b[0mdelta\u001b[0m\u001b[0;34m(\u001b[0m\u001b[0mdeltas_L2\u001b[0m\u001b[0;34m,\u001b[0m\u001b[0mrede\u001b[0m\u001b[0;34m.\u001b[0m\u001b[0mw_1_2\u001b[0m\u001b[0;34m,\u001b[0m\u001b[0my1\u001b[0m\u001b[0;34m)\u001b[0m\u001b[0;34m\u001b[0m\u001b[0;34m\u001b[0m\u001b[0m\n\u001b[0m\u001b[1;32m     44\u001b[0m \u001b[0;34m\u001b[0m\u001b[0m\n\u001b[1;32m     45\u001b[0m \u001b[0;34m\u001b[0m\u001b[0m\n",
      "\u001b[0;32m<ipython-input-11-25867078b05c>\u001b[0m in \u001b[0;36mdelta\u001b[0;34m(delta_l_mais_1, w, value)\u001b[0m\n\u001b[1;32m     23\u001b[0m \u001b[0;31m# value e o valor obtido, delta_mais um e o delta de todos os neuronios da camada seguinta, w pessos em relação a camada seguite\u001b[0m\u001b[0;34m\u001b[0m\u001b[0;34m\u001b[0m\u001b[0;34m\u001b[0m\u001b[0m\n\u001b[1;32m     24\u001b[0m \u001b[0;32mdef\u001b[0m \u001b[0mdelta\u001b[0m\u001b[0;34m(\u001b[0m\u001b[0mdelta_l_mais_1\u001b[0m\u001b[0;34m,\u001b[0m\u001b[0mw\u001b[0m\u001b[0;34m,\u001b[0m\u001b[0mvalue\u001b[0m\u001b[0;34m)\u001b[0m\u001b[0;34m:\u001b[0m\u001b[0;34m\u001b[0m\u001b[0;34m\u001b[0m\u001b[0m\n\u001b[0;32m---> 25\u001b[0;31m     \u001b[0mdelta_l_minos_1\u001b[0m \u001b[0;34m=\u001b[0m \u001b[0mnp\u001b[0m\u001b[0;34m.\u001b[0m\u001b[0mdot\u001b[0m\u001b[0;34m(\u001b[0m\u001b[0mdelta_l_mais_1\u001b[0m \u001b[0;34m,\u001b[0m \u001b[0mw\u001b[0m\u001b[0;34m)\u001b[0m \u001b[0;34m*\u001b[0m \u001b[0;34m(\u001b[0m \u001b[0mvalue\u001b[0m \u001b[0;34m*\u001b[0m \u001b[0;34m(\u001b[0m\u001b[0;36m1\u001b[0m\u001b[0;34m-\u001b[0m\u001b[0mvalue\u001b[0m\u001b[0;34m)\u001b[0m \u001b[0;34m)\u001b[0m\u001b[0;34m\u001b[0m\u001b[0;34m\u001b[0m\u001b[0m\n\u001b[0m\u001b[1;32m     26\u001b[0m     \u001b[0;32mreturn\u001b[0m \u001b[0mnp\u001b[0m\u001b[0;34m.\u001b[0m\u001b[0msum\u001b[0m\u001b[0;34m(\u001b[0m\u001b[0mdelta_l_minos_1\u001b[0m\u001b[0;34m)\u001b[0m\u001b[0;34m\u001b[0m\u001b[0;34m\u001b[0m\u001b[0m\n\u001b[1;32m     27\u001b[0m \u001b[0;34m\u001b[0m\u001b[0m\n",
      "\u001b[0;31mValueError\u001b[0m: operands could not be broadcast together with shapes (64,128) (32,128) "
     ]
    }
   ],
   "source": [
    "# local onde serão armazenados os deltas\n",
    "deltas_L1 = np.zeros((dataset_len, rede.h_l_1size))\n",
    "deltas_L2 = np.zeros((dataset_len,rede.h_l_2size))\n",
    "deltas_L3 = np.zeros((dataset_len,rede.output_size))\n",
    "\n",
    "# calculando o delta da camada anterior\n",
    "size_w_1_2 = np.size(rede.w_1_2[0,:])\n",
    "size_w_2_3 = np.size(rede.w_2_3[0,:])\n",
    "\n",
    "while l < number_of_cicles:\n",
    "    # Deltas\n",
    "\n",
    "    #Calculando os deltas de um dataset\n",
    "    for i in range (dataset_len):\n",
    "        # ---> guardando meu primeito output numa variavel, train é minha matriz com os valores e o label\n",
    "        x_input[i,:] = train[i + l*dataset_len,1:]\n",
    "        # o vetor esperado\n",
    "        expected[i, train_tag[i + l*dataset_len]] = 1\n",
    "        \n",
    "        # minhas rede pensando\n",
    "        y3[i,:] = rede.thinking(x_input[i,:])\n",
    "        y2[i,:] = rede.y2\n",
    "        y1[i,:] = rede.y1\n",
    "        \n",
    "        #calculando a função custo\n",
    "        #cost = C(y2[i,:] , expected[])\n",
    "\n",
    "        # calculando o delta da primeira camanda\n",
    "        deltas_L3[i,:] = delta_out(y3[i,:],expected[i,:])\n",
    "\n",
    "    # calculando o delta da camada anterior\n",
    "    size_w_1_2 = np.size(rede.w_1_2[0,:])\n",
    "    size_w_2_3 = np.size(rede.w_2_3[0,:])\n",
    "\n",
    "    # calculo os meus deltas da camada 3 pra 2\n",
    "    \n",
    "    deltas_L2 = delta(deltas_L3,rede.w_2_3,y2)\n",
    "    \n",
    "        \n",
    "        \n",
    "    # calculo os meus deltas da camada 2 para 1\n",
    "    \n",
    "    deltas_L1 = delta(deltas_L2,rede.w_1_2,y1)\n",
    "    \n",
    "        \n",
    "    \n",
    "    \n",
    "\n",
    "    \n",
    "    # ja tenho os deltas calculados tenho que calcular agora os valores dos gradientes, de todas as imagens\n",
    "    \n",
    "    gradient_w_2_3_x = np.zeros((rede.output_size,rede.h_l_2size,dataset_len))\n",
    "    i = 0\n",
    "    k = 0\n",
    "    for i in range(dataset_len):\n",
    "        for k in range(rede.output_size):\n",
    "            gradient_w_2_3_x[k,:,i] = deltas_L3[i,k] * y2[i,:]\n",
    "        \n",
    "    \n",
    "    gradient_w_1_2_x = np.zeros((rede.h_l_2size,rede.h_l_1size,dataset_len))\n",
    "    i = 0\n",
    "    k = 0\n",
    "    for i in range(dataset_len):\n",
    "        for k in range(rede.h_l_2size):\n",
    "            gradient_w_1_2_x[k,:,i] = deltas_L2[i,k] * y1[i,:]\n",
    "        \n",
    "\n",
    "    gradient_w_0_1_x = np.zeros((rede.h_l_1size,rede.input_size,dataset_len))\n",
    "    i = 0\n",
    "    k = 0\n",
    "    for i in range(dataset_len):\n",
    "        for k in range(rede.h_l_1size):\n",
    "            gradient_w_0_1_x[k,:,i] = deltas_L1[i,k] * x_input[i,:]\n",
    "        \n",
    "        \n",
    "              \n",
    "        \n",
    "        \n",
    "    # calcular a media por interação agora\n",
    "    gradient_w_2_3 = np.zeros((rede.output_size,rede.h_l_2size))\n",
    "    gradient_w_1_2 = np.zeros((rede.h_l_2size,rede.h_l_1size))\n",
    "    gradient_w_0_1 = np.zeros((rede.h_l_1size,rede.input_size))\n",
    "\n",
    "    i = 0\n",
    "    k = 0\n",
    "    for i in range(rede.output_size):\n",
    "        for k in range(rede.h_l_2size):\n",
    "            gradient_w_2_3[i,k] = np.mean(gradient_w_2_3_x[i,k,:]) \n",
    "    \n",
    "        \n",
    "    \n",
    "    i = 0\n",
    "    k = 0\n",
    "    for i in range(rede.h_l_2size):\n",
    "        for k in range(rede.h_l_1size):\n",
    "            gradient_w_1_2[i,k] = np.mean(gradient_w_1_2_x[i,k,:]) \n",
    "        \n",
    "        \n",
    "    i = 0\n",
    "    k = 0\n",
    "    for i in range(rede.h_l_1size):\n",
    "        for k in range(rede.input_size):\n",
    "            gradient_w_0_1[i,k] = np.mean(gradient_w_0_1_x[i,k,:])\n",
    "        \n",
    "\n",
    "        \n",
    "    # agora a medias das bias\n",
    "    grad_bias_1 = np.zeros(rede.h_l_1size)\n",
    "    grad_bias_2 = np.zeros(rede.h_l_2size)\n",
    "    grad_bias_3 = np.zeros(rede.output_size)\n",
    "\n",
    "    i = 0\n",
    "    for i in range(rede.h_l_1size):\n",
    "        grad_bias_1[i] = np.mean(deltas_L1[:,i]) \n",
    "    k = 0\n",
    "    for k in range(rede.h_l_2size):\n",
    "        grad_bias_2[k] = np.mean(deltas_L2[:,k])\n",
    "        \n",
    "    k = 0\n",
    "    for k in range(rede.output_size):\n",
    "        grad_bias_3[k] = np.mean(deltas_L3[:,k])\n",
    "# atualizando os gradientes(w,grad,n)\n",
    "\n",
    "    rede.w_0_1 -= n*gradient_w_0_1\n",
    "    rede.w_1_2 -= n*gradient_w_1_2\n",
    "    rede.w_2_3 -= n*gradient_w_2_3\n",
    "    rede.b_1 -= n*grad_bias_1\n",
    "    rede.b_2 -= n*grad_bias_2\n",
    "    rede.b_3 -= n*grad_bias_3\n",
    "# atualizando o l\n",
    "    l += 1"
   ]
  },
  {
   "cell_type": "code",
   "execution_count": 10,
   "metadata": {},
   "outputs": [
    {
     "name": "stdout",
     "output_type": "stream",
     "text": [
      "[1. 1. 1. 1. 1. 1. 1. 1. 1. 1.]\n",
      "4\n"
     ]
    },
    {
     "data": {
      "text/plain": [
       "array([[-0.01265197,  0.02757094, -0.00442454, ..., -0.04730962,\n",
       "        -0.02542679, -0.03017489],\n",
       "       [ 0.00213078,  0.00971789,  0.04246354, ..., -0.03127314,\n",
       "         0.00895615,  0.03405438],\n",
       "       [-0.0227675 ,  0.04473072,  0.01128088, ...,  0.00988926,\n",
       "         0.00449437,  0.03052402],\n",
       "       ...,\n",
       "       [ 0.0110726 ,  0.00481048, -0.05086392, ..., -0.02339526,\n",
       "         0.03633406, -0.04095546],\n",
       "       [-0.00358397, -0.04530524,  0.0034979 , ...,  0.00040931,\n",
       "         0.02202886, -0.01522455],\n",
       "       [-0.04036826,  0.0223252 , -0.04499969, ..., -0.01184392,\n",
       "         0.00212615, -0.03066043]])"
      ]
     },
     "execution_count": 10,
     "metadata": {},
     "output_type": "execute_result"
    }
   ],
   "source": [
    "print(rede.thinking(train[1,1:]))\n",
    "print(train_tag[1])\n",
    "rede.w_0_1"
   ]
  }
 ],
 "metadata": {
  "kernelspec": {
   "display_name": "Python 3",
   "language": "python",
   "name": "python3"
  },
  "language_info": {
   "codemirror_mode": {
    "name": "ipython",
    "version": 3
   },
   "file_extension": ".py",
   "mimetype": "text/x-python",
   "name": "python",
   "nbconvert_exporter": "python",
   "pygments_lexer": "ipython3",
   "version": "3.7.6"
  }
 },
 "nbformat": 4,
 "nbformat_minor": 4
}
